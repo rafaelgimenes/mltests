{
 "cells": [
  {
   "cell_type": "markdown",
   "metadata": {},
   "source": [
    "# Material de aula - FACENS - Redes Neurais e Deep Learning"
   ]
  },
  {
   "cell_type": "code",
   "execution_count": null,
   "metadata": {},
   "outputs": [],
   "source": [
    "#Neste versão o bias não é incluido dentro do vetor de pesos e os calculos são separados"
   ]
  },
  {
   "cell_type": "markdown",
   "metadata": {},
   "source": [
    "\n",
    "## <center> Perceptron Multicamadas e Classificação de Padrões - LABORATÓRIO 03 </center>"
   ]
  },
  {
   "attachments": {
    "image.png": {
     "image/png": "[encoded data removed]"
    }
   },
   "cell_type": "markdown",
   "metadata": {},
   "source": [
    "### A padronização para a saída, representando o conservante a ser aplicado, ficou definida da seguinte forma:\n",
    "\n",
    "![image.png](attachment:image.png)"
   ]
  },
  {
   "cell_type": "code",
   "execution_count": null,
   "metadata": {},
   "outputs": [],
   "source": [
    "#CÉLULA MLP-LIB-01\n",
    "import numpy as np\n",
    "import matplotlib.pyplot as plt\n",
    "import pandas as pd\n",
    "%matplotlib inline"
   ]
  },
  {
   "cell_type": "code",
   "execution_count": null,
   "metadata": {},
   "outputs": [],
   "source": [
    "#CÉLULA MLP-LIB-02\n",
    "def loadDataFile(filename) :\n",
    "    '''\n",
    "    Esta função faz o carregamento de dados de um arquivo separado por virgulas (csv)\n",
    "    \n",
    "    Parametros\n",
    "    -----------\n",
    "    filename -> nome do arquivo de dados em formato csv\n",
    "    \n",
    "    \n",
    "    Retorno\n",
    "    -----------  \n",
    "    dataframe contendo os dados do arquivo formatados numericamente.\n",
    "    '''\n",
    "    \n",
    "    dfFile = pd.read_csv(filename, sep=';', decimal=',', thousands='.')\n",
    "    return dfFile"
   ]
  },
  {
   "cell_type": "code",
   "execution_count": null,
   "metadata": {},
   "outputs": [],
   "source": [
    "#CÉLULA MLP-LIB-03\n",
    "def sigmoid(z) :\n",
    "    '''\n",
    "    Esta função faz o cálculo da função de ativação do tipo sigmoide\n",
    "    \n",
    "    Parametros\n",
    "    -----------\n",
    "    z -> valor do parametro a ser calculado em f(z)\n",
    "    \n",
    "    Retorno\n",
    "    -----------  \n",
    "    valor da função sigmoide correspondente ao parametro z\n",
    "    '''    \n",
    "    return 1/(1+np.exp(-z))"
   ]
  },
  {
   "cell_type": "code",
   "execution_count": null,
   "metadata": {},
   "outputs": [],
   "source": [
    "#CÉLULA MLP-LIB-04\n",
    "def tanh_function(z) :\n",
    "    '''\n",
    "    Esta função faz o cálculo da função de ativação do tipo tangente hiperbolica\n",
    "    \n",
    "    Parametros\n",
    "    -----------\n",
    "    z -> valor do parametro a ser calculado em f(z)\n",
    "    \n",
    "    Retorno\n",
    "    -----------  \n",
    "    valor da função tangente hiperbolica correspondente ao parametro z\n",
    "    '''        \n",
    "    return np.tanh(z)"
   ]
  },
  {
   "cell_type": "markdown",
   "metadata": {},
   "source": [
    "# 1 - Implementação do algoritmo de treinamento do MLP\n",
    "\n",
    "Utilizando Jupyter e NumPy: para o problema apresentado, complete o código para construir as funções de treinamento do MLP."
   ]
  },
  {
   "cell_type": "markdown",
   "metadata": {},
   "source": [
    "## 1.1 - Ajuste o código que realiza o forward step do MLP"
   ]
  },
  {
   "cell_type": "code",
   "execution_count": null,
   "metadata": {},
   "outputs": [],
   "source": [
    "#CÉLULA MLP-LIB-05\n",
    "def forward_step(vInputs, vWeights, vBias) : \n",
    "    '''\n",
    "    Processa o forward step\n",
    "    \n",
    "    Parametros\n",
    "    -----------\n",
    "    vInputs  -> vetor/matriz com as entradas\n",
    "    vWeights -> vetor/matriz com os vetores de pesos (é um vetor de matrizes)\n",
    "    vBias    -> vetor/matriz com os vetores de bias  (é um vetor de matrizes)\n",
    "    \n",
    "    Retorno\n",
    "    -------\n",
    "    Este método retorna uma tupla contendo a saída das camadas do MLP\n",
    "    (Y_1, Y_2)\n",
    "    '''\n",
    "    \n",
    "    W_1 = vWeights[0]\n",
    "    W_2 = vWeights[1]\n",
    "    \n",
    "    B_1 = vBias[0]\n",
    "    B_2 = vBias[1]\n",
    "\n",
    "    #FORWARD STEP\n",
    "    #Calcula saída do MLP para todas as amostras, de uma vez.\n",
    "    Y_0 = vInputs #so para ficar uniforme a nomenclatura dos termos\n",
    "    I_1 = W_1 @ Y_0 + B_1\n",
    "    Y_1 = sigmoid(I_1) #Função sigmoide na camada oculta, g1\n",
    "\n",
    "    #IMPLEMENTE O CÓDIGO AQUI - INICIO\n",
    "    ## COMPLETE O PASSO DE CALCULO DA SAIDA (UTILIZANDO FUNÇÃO SIGMOIDE, POIS AGORA SERÁ APLICADA A CLASSIFICAÇÃO DE PADRÕES)\n",
    "\n",
    "    #IMPLEMENTE O CÓDIGO AQUI - FIM\n",
    "    #FIM DO FORWARD STEP\n",
    "    \n",
    "    return (Y_1, Y_2)"
   ]
  },
  {
   "cell_type": "code",
   "execution_count": null,
   "metadata": {},
   "outputs": [],
   "source": [
    "#CÉLULA MLP-LIB-06\n",
    "def calcMSE(vInputs, vOutputs, vWeights, vBias) : \n",
    "    '''\n",
    "    Calcula o Erro Quadratico Medio (Mean Squared Error) do MLP\n",
    "    \n",
    "    Parametros\n",
    "    -----------\n",
    "    vInputs  -> vetor/matriz com as entradas\n",
    "    vOutputs -> vetor/matriz com os vetores dos dados\n",
    "    vWeights -> vetor/matriz com os vetores de pesos (é um vetor de matrizes)\n",
    "    vBias    -> vetor/matriz com os vetores de bias  (é um vetor de matrizes)\n",
    "    \n",
    "    Retorno\n",
    "    -------\n",
    "    Este método retorna o valor de MSE para o conjunto de dados e pesos do MLP\n",
    "    '''\n",
    "    \n",
    "    (_, Y_2) = forward_step(vInputs, vWeights, vBias)\n",
    "    nSamples = vInputs.shape[1]\n",
    "       \n",
    "    E_k = 1/2 * (vOutputs - Y_2)**2\n",
    "    E_k = np.sum(E_k, axis=1)\n",
    "    MSE = np.sum(E_k) / nSamples\n",
    "    \n",
    "    return np.asscalar(MSE)"
   ]
  },
  {
   "cell_type": "markdown",
   "metadata": {},
   "source": [
    "## 1.2 - Ajuste o código que realiza o treinamento em BATCH"
   ]
  },
  {
   "cell_type": "code",
   "execution_count": null,
   "metadata": {},
   "outputs": [],
   "source": [
    "#CÉLULA MLP-LIB-07\n",
    "def mlp_train_batch(eta, epsilon, vInputs, vOutputs, dictLayers, max_epochs) :\n",
    "    '''\n",
    "    Algoritmo de treinamento do Perceptron Simples\n",
    "    \n",
    "    Parametros\n",
    "    -----------\n",
    "    eta         -> taxa de aprendizado\n",
    "    epsilon     -> margem de erro\n",
    "    vInputs     -> vetor/matriz com as entradas\n",
    "    vOutputs    -> vetor/matriz com as saidas\n",
    "    dictLayers  -> dicionario que descreve as camadas da rede {'nLayers' : 'xxx', vLayers : vvv}, onde nLayers representa \n",
    "                   o numero de camadas e vLayers é um vetor linha contedo o tamanho de cada camada\n",
    "    max_epochs -> criterio de parada por epocas de treinamento\n",
    "    \n",
    "    Retorno\n",
    "    -------\n",
    "    Este método retorna uma tupla contendo o vetor de pesos ajustado e o numero de epocas executadas no treinamento.\n",
    "    '''\n",
    "    \n",
    "    #Determine numero de entradas do MLP e o numero de amostras\n",
    "    nInputs  = vInputs.shape[0]\n",
    "    nSamples = vInputs.shape[1]\n",
    "    \n",
    "    indexLayer = 1\n",
    "    nNeurons      = dictLayers['vLayers'][indexLayer]   #Numero de neurons da camada 'indexLayer'\n",
    "    nConnections  = dictLayers['vLayers'][indexLayer-1] #Numero de neurons da camada 'indexLayer-1'\n",
    "    \n",
    "    # Wji = j-esimo neuron de uma cada ao i-esimo sinal da camada de entrada (na primeira matriz de pesos)\n",
    "    #assim, todos os sinais de entrada de um neuronio ficam na linha e cada linha contem 1 neuronio\n",
    "    W_1 = np.random.rand(nNeurons, nConnections);\n",
    "    B_1 = np.random.rand(nNeurons, 1);\n",
    "\n",
    "    indexLayer    = 2\n",
    "    nNeurons      = dictLayers['vLayers'][indexLayer]   #Numero de neurons da camada 'indexLayer'\n",
    "    nConnections  = dictLayers['vLayers'][indexLayer-1] #Numero de neurons da camada 'indexLayer-1'\n",
    "\n",
    "    # Wji = j-esimo neuron de uma cada ao i-esimo sinal da camada de entrada (na primeira matriz de pesos)\n",
    "    #assim, todos os sinais de entrada de um neuronio ficam na linha e cada linha contem 1 neuronio\n",
    "    W_2 = np.random.rand(nNeurons, nConnections);\n",
    "    B_2 = np.random.rand(nNeurons, 1);\n",
    "    \n",
    "    #Monte o loop de cálculo do erro e ajuste dos pesos\n",
    "    bError = True\n",
    "    MSE = [] # MSE: Mean Squared Error\n",
    "    \n",
    "    for epochCounter in range(max_epochs) :\n",
    "        Y_0 = vInputs #esta atribuição é apenas para manter uniformidade de nomenclatura\n",
    "        (Y_1, Y_2) = forward_step(vInputs, [W_1, W_2], [B_1, B_2])       \n",
    "\n",
    "        #INICIO - BACKWARD STEP\n",
    "        #IMPLEMENTE O CÓDIGO AQUI - INICIO\n",
    "        ###DEFINA A DERIVADA E O GRADIENTE LOCAL DA CAMADA DE SAIDA\n",
    "\n",
    "        #A derivada de g2 é igual a Y_2 * (1 - Y_2)\n",
    "\n",
    "        \n",
    "        #IMPLEMENTE O CÓDIGO AQUI - FIM\n",
    "        \n",
    "        #Ajuste dos pesos\n",
    "        #IMPLEMENTE O CÓDIGO AQUI - INICIO\n",
    "        #AJUSTE OS VALORES DE W_2 E B_2\n",
    "\n",
    "        #IMPLEMENTE O CÓDIGO AQUI - FIM\n",
    "        \n",
    "        #Ajuste de pesos Camada Entrada - Camada Oculta\n",
    "        #A derivada de g1(I_1) é igual a g1(I_1)*(1 - g1(I_1)) ou seja, Y_1*(1 - Y_1)\n",
    "        diff_g1 = Y_1 * (1 - Y_1)\n",
    "\n",
    "        #Gradiente local\n",
    "        delta_1 = (W_2.T @ delta_2) * diff_g1\n",
    "        \n",
    "        #Ajuste dos pesos\n",
    "        W_1 += eta * delta_1 @ Y_0.T\n",
    "        B_1 += eta * np.sum(delta_1, axis=1, keepdims=True) #Soma das colunas de delta_1. Podemos multiplicar por um vetor coluna de [1] também                \n",
    "        #FIM - BACKWARD STEP\n",
    "\n",
    "        #Calcula o Erro Quadratico Medio\n",
    "        MSE_temp = calcMSE(vInputs, vOutputs, [W_1, W_2], [B_1, B_2])\n",
    "        MSE.append( MSE_temp )\n",
    "        \n",
    "        print( 'Epoch = {} - MSE = {}'.format(epochCounter, MSE_temp))\n",
    "        \n",
    "        if( epochCounter > 0 and abs(MSE[epochCounter] - MSE[epochCounter-1]) < epsilon ) :\n",
    "            break\n",
    "    \n",
    "    return (W_1, W_2, B_1, B_2, MSE)"
   ]
  },
  {
   "cell_type": "markdown",
   "metadata": {},
   "source": [
    "## 1.3 - Ajuste o código que realiza o treinamento ONLINE"
   ]
  },
  {
   "cell_type": "code",
   "execution_count": null,
   "metadata": {},
   "outputs": [],
   "source": [
    "#CÉLULA MLP-LIB-08\n",
    "def mlp_train_online(eta, epsilon, vInputs, vOutputs, dictLayers, max_epochs) :\n",
    "    '''\n",
    "    Algoritmo de treinamento do Perceptron Simples\n",
    "    \n",
    "    Parametros\n",
    "    -----------\n",
    "    eta         -> taxa de aprendizado\n",
    "    epsilon     -> margem de erro\n",
    "    vInputs     -> vetor/matriz com as entradas\n",
    "    vOutputs    -> vetor/matriz com as saidas\n",
    "    dictLayers  -> dicionario que descreve as camadas da rede {'nLayers' : 'xxx', vLayers : vvv}, onde nLayers representa \n",
    "                   o numero de camadas e vLayers é um vetor linha contedo o tamanho de cada camada\n",
    "    max_epochs -> criterio de parada por epocas de treinamento\n",
    "    \n",
    "    Retorno\n",
    "    -------\n",
    "    Este método retorna uma tupla contendo o vetor de pesos ajustado e o numero de epocas executadas no treinamento.\n",
    "    '''\n",
    "    #IMPLEMENTE O CÓDIGO AQUI\n",
    "    #DICA: FAÇA FUNCIONAR O TREINAMENTO PARA O MODO BATCH, COPIE E COLE O CODIGO AQUI PARA MODIFICAR PARA ONLINE    \n",
    "    \n",
    "    return (W_1, W_2, B_1, B_2, MSE)"
   ]
  },
  {
   "cell_type": "code",
   "execution_count": null,
   "metadata": {},
   "outputs": [],
   "source": [
    "#CÉLULA MLP-LIB-09\n",
    "def mlp_operation(vInputs, vWeights, vBias) :\n",
    "    '''\n",
    "    Algoritmo de operação do MLP\n",
    "    \n",
    "    Parametros\n",
    "    -----------\n",
    "    vInputs  -> vetor/matriz com as entradas\n",
    "    vOutputs -> vetor/matriz com as saidas\n",
    "    vWeights -> vetor/matriz com os vetores de pesos (é um vetor de matrizes)\n",
    "    vBias    -> vetor/matriz com os vetores de bias  (é um vetor de matrizes)\n",
    "    \n",
    "    Retorno\n",
    "    -------\n",
    "    Este método retorna o valor de saída do MLP\n",
    "    '''\n",
    "    \n",
    "    (_, Y_2) = forward_step(vInputs, vWeights, vBias)    \n",
    "    return (Y_2)"
   ]
  },
  {
   "cell_type": "markdown",
   "metadata": {},
   "source": [
    "# 2 - Implementação e testes do modelo da Rede MLP"
   ]
  },
  {
   "attachments": {
    "image.png": {
     "image/png": "[encoded data removed]"
    }
   },
   "cell_type": "markdown",
   "metadata": {},
   "source": [
    "### No processamento de bebidas, a aplicação de um determinado conservante é efetuada em função da combinação de 04 variáveis reais, definidas por x1 (teor de água), x2 (grau de acidez), x3 (temperatura) e x4 (tensão superficial). \n",
    "\n",
    "### Sabe-se que existem apenas três tipos de conservantes que podem ser aplicados, os quais são categorizados por tipo A, B e C. A partir destas variáveis, realizam-se ensaios em laboratório para especificar que tipo de conservante deve ser aplicado em determinada bebida.\n",
    "\n",
    "### Por intermédio de 148 desses ensaios experimentais, a equipe de engenheiros e cientistas resolveu aplicar uma rede perceptron multicamadas como classificadora de padrões, a fim de que esta identifique qual conservante será aplicado em determinado lote de bebida. Por questões operacionais da própria linha de produção, utilizar-se-á aqui uma rede perceptron com três saídas, conforme apresentado na figura abaixo.\n",
    "\n",
    "![image.png](attachment:image.png)\n",
    "\n",
    "\n",
    "*Fonte*:  SILVA, I.N. – Sistemas Inteligentes – Notas de Aula da disciplina **Redes Neurais Artificiais** – USP São Carlos, 2012"
   ]
  },
  {
   "cell_type": "markdown",
   "metadata": {},
   "source": [
    "## MLP - inicio"
   ]
  },
  {
   "cell_type": "markdown",
   "metadata": {},
   "source": [
    "# 2.1 - Configuração dos hiperparâmetros"
   ]
  },
  {
   "cell_type": "code",
   "execution_count": null,
   "metadata": {},
   "outputs": [],
   "source": [
    "#CÉLULA MLP-MAIN-01\n",
    "#IMPLEMENTE O CÓDIGO AQUI - INICIO\n",
    "#Parâmetros\n",
    "eta = \n",
    "epsilon = \n",
    "nInputs  = \n",
    "nOutputs = \n",
    "max_epochs = \n",
    "dictLayers = "
   ]
  },
  {
   "cell_type": "markdown",
   "metadata": {},
   "source": [
    "# 2.2 - Carga dos dados e execução do treinamento"
   ]
  },
  {
   "cell_type": "code",
   "execution_count": null,
   "metadata": {},
   "outputs": [],
   "source": [
    "#CÉLULA MLP-MAIN-02\n",
    "\n",
    "#IMPLEMENTE O CÓDIGO AQUI - INICIO\n",
    "# 1 - FAÇA O CARREGAMENTO DOS DADOS\n",
    "# 2 - SEPARE EM DOIS VETORES DE DADOS: ENTRADAS E SAIDAS\n",
    "# 3 - EXECUTE O TREINAMENTO E VERIFIQUE A CONVERGÊNCIA\n",
    "\n",
    "#Carrega dados - Treino\n",
    "dfTrainingFile = loadDataFile('Lab02_training.csv')\n",
    "# dfTrainingFile.drop(columns=('Amostra'), inplace=True)\n",
    "\n"
   ]
  },
  {
   "cell_type": "markdown",
   "metadata": {},
   "source": [
    "# 2.3 - Verificação dos resultados do treinamento"
   ]
  },
  {
   "cell_type": "markdown",
   "metadata": {},
   "source": [
    "Dado que o problema se configura como um típico processo de classificação de padrões, implemente a rotina que faz o pós-processamento das saídas fornecidas pela rede (números reais) para números inteiros. Utilize o critério do arredondamento simétrico, isto é:\n",
    "\n",
    "$ y_i^{pos} = 1$ se $y_i \\geq 0.5 $\n",
    "\n",
    "$ y_i^{pos} = 0$ se $y_i < 0.5 $\n",
    "\n",
    "utilizado apenas no pós-processamento do conjunto de teste. "
   ]
  },
  {
   "cell_type": "code",
   "execution_count": null,
   "metadata": {},
   "outputs": [],
   "source": [
    "#Verifica resultados\n",
    "#IMPLEMENTE O CÓDIGO AQUI - INICIO\n",
    "# EXECUTE A OPERAÇÃO COM OS DADOS DE TREINAMENTO E VERIFIQUE O RESULTADO \n",
    "#PLOTANDO UM GRÁFICO ENTRE OS DADOS DE PREDIÇÃO VERSUS OS DADOS ESPERADOS\n",
    "y_pred = mlp_operation(vInputs.T, [W_1, W_2], [B_1, B_2])\n",
    "\n",
    "#Pos-processamento\n"
   ]
  },
  {
   "cell_type": "markdown",
   "metadata": {},
   "source": [
    "# 2.4 - Verificação dos resultados de TESTE"
   ]
  },
  {
   "cell_type": "code",
   "execution_count": null,
   "metadata": {},
   "outputs": [],
   "source": [
    "#Carrega dados - Teste\n",
    "#IMPLEMENTE O CÓDIGO AQUI - INICIO\n",
    "# EXECUTE A OPERAÇÃO COM OS DADOS DE TESTE E VERIFIQUE O RESULTADO \n",
    "#PLOTANDO UM GRÁFICO ENTRE OS DADOS DE PREDIÇÃO VERSUS OS DADOS ESPERADOS\n",
    "dfTestFile = loadDataFile('Lab02_operation.csv')\n"
   ]
  }
 ],
 "metadata": {
  "kernelspec": {
   "display_name": "Python 3",
   "language": "python",
   "name": "python3"
  },
  "language_info": {
   "codemirror_mode": {
    "name": "ipython",
    "version": 3
   },
   "file_extension": ".py",
   "mimetype": "text/x-python",
   "name": "python",
   "nbconvert_exporter": "python",
   "pygments_lexer": "ipython3",
   "version": "3.7.1"
  }
 },
 "nbformat": 4,
 "nbformat_minor": 2
}
