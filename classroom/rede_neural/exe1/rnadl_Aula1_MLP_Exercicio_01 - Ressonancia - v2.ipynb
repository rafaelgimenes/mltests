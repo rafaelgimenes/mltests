{
 "cells": [
  {
   "cell_type": "markdown",
   "metadata": {},
   "source": [
    "# Material de aula - Redes Neurais e Deep Learning"
   ]
  },
  {
   "cell_type": "code",
   "execution_count": null,
   "metadata": {},
   "outputs": [],
   "source": [
    "#Neste versão o bias não é incluido dentro do vetor de pesos e os calculos são separados\n",
    "#A biblioteca mlp_model é composta pelos laboratórios estudados em aula"
   ]
  },
  {
   "cell_type": "markdown",
   "metadata": {},
   "source": [
    "Instruções para a realização desta atividade:\n",
    "\n",
    "1. Faça o download deste notebook Jupyter para sua estação de trabalho\n",
    "2. Realize as atividades solicitadas dentro do notebook, nos espaços apropriados e indicados\n",
    "3. Salve o notebook no seguinte padrão: <nome_sobrenome_RA>.ipynb (por exemplo: **rodrigo_caropreso_123456.ipynb ** )\n",
    "4. Envie o notebook com a atividade realizada na sala de aula da disciplina (Google Classroom)\n",
    "\n",
    "** DATA DE ENTREGA DESTA ATIVIDADE: 31/07/2019 **\n",
    "\n",
    "** VALOR DESTA ATIVIDADE: 4,0 pontos **"
   ]
  },
  {
   "cell_type": "markdown",
   "metadata": {},
   "source": [
    "\n",
    "## <center> Exercício 1 - Perceptron Multicamadas e Aproximação de Funções </center>"
   ]
  },
  {
   "attachments": {
    "image.png": {
     "image/png": "[encoded data removed]"
    }
   },
   "cell_type": "markdown",
   "metadata": {},
   "source": [
    "### Para a confecção de um sistema de ressonância magnética, observou-se que é de extrema importância para o bom desempenho do processador de imagens de que a variável {y}, que mede a energia absorvida do sistema, possa ser estimada a partir da medição de três outras grandezas {x1 , x2 , x3}. \n",
    "\n",
    "### Entretanto, em função da complexidade do sistema, sabe-se que este mapeamento é de difícil obtenção por técnicas convencionais, sendo que o modelo matemático disponível para representação do mesmo não fornece resultados satisfatórios.\n",
    "\n",
    "### Assim, a equipe de engenheiros e cientistas pretende utilizar uma rede perceptron multicamadas como um aproximador universal de funções, tendo-se como objetivo final de que, dado como entrada os valores de {x1 , x2 , x3}, a mesma possa estimar (após o treinamento) o respectivo valor da variável {y} que representa a energia absorvida. \n",
    "\n",
    "### A topologia da rede perceptron constituída de duas camadas neurais está ilustrada na figura abaixo\n",
    "\n",
    "![image.png](attachment:image.png)\n",
    "\n",
    "\n",
    "*Fonte*:  SILVA, I.N. – Sistemas Inteligentes – Notas de Aula da disciplina **Redes Neurais Artificiais** – USP São Carlos, 2012"
   ]
  },
  {
   "cell_type": "markdown",
   "metadata": {},
   "source": [
    "### Utilizando o algoritmo de aprendizagem backpropagation (Regra Delta Generalizada) e os dados de treinamento apresentados no Anexo, sendo que as variáveis de entrada {x1 , x2 , x3} já estão todas normalizadas, realize as seguintes atividades:"
   ]
  },
  {
   "cell_type": "code",
   "execution_count": null,
   "metadata": {},
   "outputs": [],
   "source": [
    "#CÉLULA MLP-LIB-01\n",
    "import numpy as np\n",
    "import matplotlib.pyplot as plt\n",
    "import pandas as pd\n",
    "import mlp_model as model\n",
    "%matplotlib inline"
   ]
  },
  {
   "cell_type": "markdown",
   "metadata": {},
   "source": [
    "## Atividades:\n",
    "\n",
    "1. Execute 5 treinamentos DO TIPO ONLINE para a rede perceptron, inicializando-se o vetor de pesos em cada treinamento com valores aleatórios entre zero e um. Se for o caso, reinicie o gerador de números aleatórios em cada treinamento de tal forma que os elementos do vetor de pesos iniciais não sejam os mesmos. Utilize a função de ativação logística para todos os neurônios, taxa de aprendizado $ \\eta = 0.1 $ e precisão $\\epsilon = 10^{-6}$.\n",
    "\n",
    "2. Registre os pesos dos treinamentos na tabela abaixo;\n",
    "\n",
    "| T  | Erro Quadrático Médio | Número de Épocas |\n",
    "|----|-----------------------|------------------|\n",
    "| T1 |  xxxxxxxxxxxxxxxxxxx  |  xxxxxxxxxxxxxxx |\n",
    "| T2 |  xxxxxxxxxxxxxxxxxxx  |  xxxxxxxxxxxxxxx |\n",
    "| T3 |  xxxxxxxxxxxxxxxxxxx  |  xxxxxxxxxxxxxxx |\n",
    "| T4 |  xxxxxxxxxxxxxxxxxxx  |  xxxxxxxxxxxxxxx |\n",
    "| T5 |  xxxxxxxxxxxxxxxxxxx  |  xxxxxxxxxxxxxxx |\n",
    "\n",
    "\n",
    "3. Para os dois treinamentos acima, com maiores números de épocas, trace os respectivos gráficos dos valores de erro quadrático médio (EQM) em função de cada época de treinamento.\n",
    "\n",
    "4. Baseado na tabela do item 2, explique de forma detalhada por que tanto o erro quadrático médio quanto o número de épocas variam de treinamento para treinamento\n",
    "\n",
    "5. Para todos os treinamentos efetuados no item 2, faça então a validação da rede aplicando o conjunto de teste fornecido na tabela abaixo. Forneça, para cada treinamento, o erro relativo médio (%) entre os valores desejados e aqueles valores fornecidos pela rede em relação a todas as amostras de teste. Obtenha também a respectiva variância.\n",
    "\n",
    "|  Amostra |     x1     |     x2     |     x3     |      d     |  y_T1  |  y_T2  |  y_T3  |  y_T4  |  y_T5  |\n",
    "|----------|------------|------------|------------|------------|--------|--------|--------|--------|--------|\n",
    "|    01    |   0.0611   |   0.2860   |   0.7464   |   0.4831   |   xx   |   xx   |   xx   |   xx   |   xx   |\n",
    "|    02    |   0.5102   |   0.7464   |   0.0860   |   0.5965   |   xx   |   xx   |   xx   |   xx   |   xx   |\n",
    "|    03    |   0.0004   |   0.6916   |   0.5006   |   0.5318   |   xx   |   xx   |   xx   |   xx   |   xx   |\n",
    "|    04    |   0.9430   |   0.4476   |   0.2648   |   0.6843   |   xx   |   xx   |   xx   |   xx   |   xx   |\n",
    "|    05    |   0.1399   |   0.1610   |   0.2477   |   0.2872   |   xx   |   xx   |   xx   |   xx   |   xx   |\n",
    "|    06    |   0.6423   |   0.3229   |   0.8567   |   0.7663   |   xx   |   xx   |   xx   |   xx   |   xx   |\n",
    "|    07    |   0.6492   |   0.0007   |   0.6422   |   0.5666   |   xx   |   xx   |   xx   |   xx   |   xx   |\n",
    "|    08    |   0.1818   |   0.5078   |   0.9046   |   0.6601   |   xx   |   xx   |   xx   |   xx   |   xx   |\n",
    "|    09    |   0.7382   |   0.2647   |   0.1916   |   0.5427   |   xx   |   xx   |   xx   |   xx   |   xx   |\n",
    "|    10    |   0.3879   |   0.1307   |   0.8656   |   0.5836   |   xx   |   xx   |   xx   |   xx   |   xx   |\n",
    "|    11    |   0.1903   |   0.6523   |   0.7820   |   0.6950   |   xx   |   xx   |   xx   |   xx   |   xx   |\n",
    "|    12    |   0.8401   |   0.4490   |   0.2719   |   0.6790   |   xx   |   xx   |   xx   |   xx   |   xx   |\n",
    "|    13    |   0.0029   |   0.3264   |   0.2476   |   0.2956   |   xx   |   xx   |   xx   |   xx   |   xx   |\n",
    "|    14    |   0.7088   |   0.9342   |   0.2763   |   0.7742   |   xx   |   xx   |   xx   |   xx   |   xx   |\n",
    "|    15    |   0.1283   |   0.1882   |   0.7253   |   0.4662   |   xx   |   xx   |   xx   |   xx   |   xx   |\n",
    "|    16    |   0.8882   |   0.3077   |   0.8931   |   0.8093   |   xx   |   xx   |   xx   |   xx   |   xx   |\n",
    "|    17    |   0.2225   |   0.9182   |   0.7820   |   0.7581   |   xx   |   xx   |   xx   |   xx   |   xx   |\n",
    "|    18    |   0.1957   |   0.8423   |   0.3085   |   0.5826   |   xx   |   xx   |   xx   |   xx   |   xx   |\n",
    "|    19    |   0.9991   |   0.5914   |   0.3933   |   0.7938   |   xx   |   xx   |   xx   |   xx   |   xx   |\n",
    "|    20    |   0.2299   |   0.1524   |   0.7353   |   0.5012   |   xx   |   xx   |   xx   |   xx   |   xx   |\n",
    "|          |   Erro     |  Relativo  |   Medio(%) |            |   xx   |   xx   |   xx   |   xx   |   xx   |\n",
    "|          |            |  Variância |     (%)    |            |   xx   |   xx   |   xx   |   xx   |   xx   |\n",
    "\n",
    "\n"
   ]
  },
  {
   "cell_type": "markdown",
   "metadata": {},
   "source": [
    "## MLP - inicio"
   ]
  },
  {
   "cell_type": "markdown",
   "metadata": {},
   "source": [
    "### 1 -  Instruções - Treinamento\n",
    "\n",
    "1. Faça a configuração dos parâmetros de treinamento (eta, epsilon, numero de entradas, camada oculta e saida)\n",
    "2. Faça a carga do arquivo de treinamento com o método \n",
    "        model.loadDataFile('ds_resonance_training.csv')\n",
    "3. Faça a separação entre os dados de entrada {'x1', 'x2', 'x3'} e saida {'d'}\n",
    "4. Execute o treinamento em batelada a partir do método \n",
    "        model.mlp_train_batch(eta, epsilon, vInputsTrain.T, vOutputsTrain.T, dictLayers, max_epochs) \n",
    "5. Execute o treinamento online a partir do método \n",
    "        model.mlp_train_online(eta, epsilon, vInputsTrain.T, vOutputsTrain.T, dictLayers, max_epochs) "
   ]
  },
  {
   "cell_type": "code",
   "execution_count": null,
   "metadata": {},
   "outputs": [],
   "source": [
    "#CÉLULA MLP-MAIN-01\n",
    "\n",
    "#Parâmetros\n",
    "#1 - Configuração dos parametros de treinamento\n",
    "#IMPLEMENTE O CÓDIGO AQUI\n",
    "eta        = \n",
    "epsilon    = \n",
    "nInputs    = \n",
    "nHidden    = \n",
    "nOutputs   = \n",
    "max_epochs = \n",
    "dictLayers = {'nLayers':2, 'vLayers':np.array([nInputs, nHidden, nOutputs])}\n",
    "\n",
    "#2 - Carga dos dados de treinamento\n",
    "#IMPLEMENTE O CÓDIGO AQUI\n",
    "dfTrainingFile = \n",
    "\n",
    "nSamples = len (dfTrainingFile['x1'])\n",
    "\n",
    "#3 - Separação dos dados de treinamento em entradas e saida\n",
    "#IMPLEMENTE O CÓDIGO AQUI\n",
    "vInputsTrain  = \n",
    "vOutputsTrain = \n",
    "\n",
    "#4 - Execução do treinamento\n",
    "#IMPLEMENTE O CÓDIGO AQUI\n",
    "(W_1, W_2, B_1, B_2, MSE) = \n",
    "\n",
    "print(W_1)\n",
    "print('-----')\n",
    "print(W_2)\n",
    "\n",
    "#5 - Gráfico do Erro Quadratico Medio\n",
    "plt.figure()\n",
    "plt.plot(range(len(MSE)-1), MSE[1:])"
   ]
  },
  {
   "cell_type": "markdown",
   "metadata": {},
   "source": [
    "### 2 -  Instruções - Verificação de resultados\n",
    "\n",
    "1. Execute a operação do Perceptron para os dados de treinamento a partir do método\n",
    "        y_pred = model.mlp_operation(vInputsTrain.T, [W_1, W_2], [B_1, B_2])\n",
    "2. Plote o gráfico dos dados de previsão da rede, y_pred\n",
    "3. Plote o gráfico dos dados reais, vOutputs\n",
    "4. Calcule o erro relativo medio\n",
    "\n",
    "<center> $ERM = avg(E\\_ABS) $ </center>\n",
    "\n",
    "onde E_ABS é o erro absoluto das amostras, ou seja\n",
    "\n",
    "        E_ABS = np.abs(y_pred - vOutputsTrain)\n",
    "        ERM   = np.average(E_ABS)\n",
    "    \n",
    "5. A variancia pode ser calculada a partir do erro absoluto\n",
    "\n",
    "        var_ERM = np.var(E_ABS)"
   ]
  },
  {
   "cell_type": "code",
   "execution_count": null,
   "metadata": {},
   "outputs": [],
   "source": [
    "#1 - execução do MLP para dados de teste\n",
    "#IMPLEMENTE O CÓDIGO AQUI\n",
    "y_pred = \n",
    "\n",
    "#2,3 - Graficos da resposta prevista versos dados esperados (reais)\n",
    "plt.figure(figsize=(12,8))\n",
    "\n",
    "#Dados de predição\n",
    "y_pred = y_pred.T\n",
    "\n",
    "#IMPLEMENTE O CÓDIGO AQUI - Grafico (y_pred)\n",
    "\n",
    "#Dados reais\n",
    "#IMPLEMENTE O CÓDIGO AQUI - Grafico (vOutputs)\n",
    "\n",
    "#Legenda\n",
    "plt.gca().legend(('Previsão', 'Treinamento'))\n",
    "\n",
    "#4,5 - Calculo do Erro Relativo Medio e sua variancia\n",
    "#IMPLEMENTE O CÓDIGO AQUI\n",
    "E_ABS   = \n",
    "ERM     = \n",
    "var_ERM = \n",
    "\n",
    "print('Erro relativo medio do treinamento = {} - variancia = {}'.format(ERM, var_ERM))"
   ]
  },
  {
   "cell_type": "markdown",
   "metadata": {},
   "source": [
    "### 2 -  Instruções - Verificação de resultados de teste\n",
    "\n",
    "1. Faça a carga do arquivo de teste com o método \n",
    "        model.loadDataFile('ds_resonance_operation.csv')\n",
    "3. Faça a separação entre os dados de entrada {'x1', 'x2', 'x3'} e saida {'d'}\n",
    "1. Execute a operação do Perceptron para os dados de teste a partir do método\n",
    "        y_pred = model.mlp_operation(vInputsTest.T, [W_1, W_2], [B_1, B_2])\n",
    "2. Plote o gráfico dos dados de previsão da rede, y_pred\n",
    "3. Plote o gráfico dos dados reais, vOutputs\n",
    "4. Calcule o erro relativo medio\n",
    "\n",
    "<center> $ERM = avg(E\\_ABS) $ </center>\n",
    "\n",
    "onde E_ABS é o erro absoluto das amostras, ou seja\n",
    "\n",
    "        E_ABS = np.abs(y_pred - vOutputsTest)\n",
    "        ERM   = np.average(E_ABS)\n",
    "    \n",
    "7. A variancia pode ser calculada a partir do erro absoluto\n",
    "\n",
    "        var_ERM = np.var(E_ABS)"
   ]
  },
  {
   "cell_type": "code",
   "execution_count": null,
   "metadata": {},
   "outputs": [],
   "source": [
    "#1,2 - Carregamento e separação de dados de teste\n",
    "#IMPLEMENTE O CÓDIGO AQUI\n",
    "dfTestFile = \n",
    "nSamples = len (dfTestFile['x1'])\n",
    "\n",
    "vInputsTest  = \n",
    "vOutputsTest = "
   ]
  },
  {
   "cell_type": "code",
   "execution_count": null,
   "metadata": {},
   "outputs": [],
   "source": [
    "#3 - Execução do MLP para dados de teste\n",
    "#IMPLEMENTE O CÓDIGO AQUI\n",
    "y_pred = \n",
    "\n",
    "#4,5 - Graficos da resposta prevista versos dados esperados (reais)\n",
    "plt.figure(figsize=(12,8))\n",
    "\n",
    "#Dados de predição\n",
    "y_pred = y_pred.T\n",
    "\n",
    "#IMPLEMENTE O CÓDIGO AQUI - Grafico (y_pred)\n",
    "\n",
    "#Dados reais\n",
    "#IMPLEMENTE O CÓDIGO AQUI - Grafico (vOutputs)\n",
    "\n",
    "#Legenda\n",
    "plt.gca().legend(('Previsão', 'Real'))\n",
    "\n",
    "#6,7 - Calculo do Erro Relativo Medio e sua variancia\n",
    "#IMPLEMENTE O CÓDIGO AQUI\n",
    "E_ABS   =\n",
    "ERM     =\n",
    "var_ERM =\n",
    "\n",
    "print('Erro relativo medio do teste = {} - variancia = {}'.format(ERM, var_ERM))"
   ]
  },
  {
   "cell_type": "markdown",
   "metadata": {},
   "source": [
    "### 6. Baseado nas análises da tabela acima, indique qual das configurações finais de treinamento {T1 , T2 , T3 , T4 ou T5} seria a mais adequada para o sistema de ressonância magnética, ou seja, qual delas está oferecendo a melhor generalização.\n",
    "\n",
    "**RESPOSTA:**"
   ]
  },
  {
   "cell_type": "markdown",
   "metadata": {},
   "source": [
    "### 7. Explique se é possível realizar o treinamento da rede PMC, por meio do algoritmo backpropagation, quando se inicializa todas as matrizes de pesos com elementos nulos. Discorra também se há então alguma implicação quando se inicializa todos os elementos das matrizes de pesos com valores iguais (diferentes de zeros).\n",
    "\n",
    "**RESPOSTA:**"
   ]
  },
  {
   "cell_type": "markdown",
   "metadata": {},
   "source": [
    "### 8. Considerando os problemas envolvendo aproximação de funções, discorra então se há alguma vantagem e/ou desvantagem em se utilizar a função de ativação linear para os neurônios da camada de saída da rede ao invés do uso da tangente hiperbólica.\n",
    "\n",
    "**RESPOSTA:**"
   ]
  },
  {
   "cell_type": "markdown",
   "metadata": {},
   "source": [
    "### 9. Execute dois treinamentos no modo batch e compare os resultados, apresentando suas principais conslusões e  observações no comparativo.\n",
    "\n",
    "**RESPOSTA:**"
   ]
  }
 ],
 "metadata": {
  "kernelspec": {
   "display_name": "Python 3",
   "language": "python",
   "name": "python3"
  },
  "language_info": {
   "codemirror_mode": {
    "name": "ipython",
    "version": 3
   },
   "file_extension": ".py",
   "mimetype": "text/x-python",
   "name": "python",
   "nbconvert_exporter": "python",
   "pygments_lexer": "ipython3",
   "version": "3.6.5"
  }
 },
 "nbformat": 4,
 "nbformat_minor": 2
}
