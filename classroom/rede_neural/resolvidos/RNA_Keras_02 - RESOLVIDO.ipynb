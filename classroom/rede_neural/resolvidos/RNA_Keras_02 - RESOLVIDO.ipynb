{
 "cells": [
  {
   "cell_type": "markdown",
   "metadata": {},
   "source": [
    "# Material de aula - Redes Neurais e Deep Learning"
   ]
  },
  {
   "cell_type": "markdown",
   "metadata": {},
   "source": [
    "\n",
    "## <center> Laboratório 2 - Keras: Análise de Regressão utilizando preços médios de casas </center>"
   ]
  },
  {
   "cell_type": "code",
   "execution_count": 1,
   "metadata": {},
   "outputs": [
    {
     "name": "stderr",
     "output_type": "stream",
     "text": [
      "C:\\Program Files (x86)\\Microsoft Visual Studio\\Shared\\Anaconda3_64\\lib\\site-packages\\h5py\\__init__.py:36: FutureWarning: Conversion of the second argument of issubdtype from `float` to `np.floating` is deprecated. In future, it will be treated as `np.float64 == np.dtype(float).type`.\n",
      "  from ._conv import register_converters as _register_converters\n",
      "Using TensorFlow backend.\n"
     ]
    }
   ],
   "source": [
    "#CÉLULA KE-LIB-01\n",
    "import numpy as np\n",
    "import keras as K\n",
    "import tensorflow as tf\n",
    "import pandas as pd\n",
    "import seaborn as sns\n",
    "import os\n",
    "from matplotlib import pyplot as plt\n",
    "%matplotlib inline\n",
    "os.environ['TF_CPP_MIN_LOG_LEVEL']='2'"
   ]
  },
  {
   "cell_type": "markdown",
   "metadata": {},
   "source": [
    "### Vamos construir uma DNN para fazer as previsões de preços.\n",
    "\n",
    "### Definição de RNA para regressão utilizando Keras. A rede terá topologia 13-(10-10)-1 com limite de 500 epocas.\n",
    "### Dataset de preços médios de casas na região de Boston, com 506 itens.\n",
    "\n",
    "### Formato do dataset: 14 campos por linha, dos quais 13 constituem os preditores e o 14o corresponde ao valor do imóvel (saída)\n",
    "\n",
    "### [0]  = per capita crime rate\n",
    "### [1]  = proportion of land zoned for large residential lots\n",
    "### [2]  = proportion of non-retail acres\n",
    "### [3]  = Boolean if the town borders the Charles River (0 = no, 1 = yes)\n",
    "### [4]  = air pollution metric\n",
    "### [5]  = average number rooms per house\n",
    "### [6]  = proportion of old houses\n",
    "### [7]  = weighted distance to Boston\n",
    "### [8]  = index of accessibility to highways\n",
    "### [9]  = tax rate\n",
    "### [10] = pupil-teacher ratio\n",
    "### [11] = measure of proportion of Black residents\n",
    "### [12] = percentage lower socio-economic status residents."
   ]
  },
  {
   "cell_type": "markdown",
   "metadata": {},
   "source": [
    "### O Dataset foi pre-processado da seguinte forma: o campo [3] foi convertido de [0, 1] para [-1, 1], enquanto os demais parametros foram normalizados utilizando operador Min-Max entre 0 e 1. O preço final (saída) foi dividido por 10.000 de modo a manter  os valores entre 1.0 e 5.0"
   ]
  },
  {
   "cell_type": "markdown",
   "metadata": {},
   "source": [
    "### 1 - Inicialização dos parâmetros. A inicialização fixa permite que os resultados possam ser reproduzidos de forma sistemática para melhorar as análises."
   ]
  },
  {
   "cell_type": "code",
   "execution_count": 11,
   "metadata": {},
   "outputs": [],
   "source": [
    "#CÉLULA KE-LIB-02\n",
    "np.random.seed(4)\n",
    "tf.set_random_seed(13)"
   ]
  },
  {
   "cell_type": "markdown",
   "metadata": {},
   "source": [
    "### 2 - Carregamento do dataset e separação dos vetores X e Y"
   ]
  },
  {
   "cell_type": "code",
   "execution_count": 15,
   "metadata": {},
   "outputs": [],
   "source": [
    "#CÉLULA KE-LIB-03\n",
    "dfBoston = pd.read_csv('boston_mm_tab.csv', header=None)\n",
    "dfBoston\n",
    "\n",
    "X = dfBoston[np.arange(0,13)]\n",
    "y = dfBoston[13]"
   ]
  },
  {
   "cell_type": "markdown",
   "metadata": {},
   "source": [
    "### 3 - Faça a separação dos dados em treinamento e teste"
   ]
  },
  {
   "cell_type": "code",
   "execution_count": null,
   "metadata": {},
   "outputs": [],
   "source": [
    "#CÉLULA KE-LIB-04\n",
    "from sklearn.model_selection import train_test_split\n",
    "\n",
    "X_train, X_test, y_train, y_test = train_test_split(X, y, test_size=0.20, random_state=42)"
   ]
  },
  {
   "cell_type": "markdown",
   "metadata": {},
   "source": [
    "### 4 - Monte o Modelo"
   ]
  },
  {
   "cell_type": "code",
   "execution_count": null,
   "metadata": {},
   "outputs": [],
   "source": [
    "#CÉLULA KE-LIB-05\n",
    "#Montando a rede neural\n",
    "tf.logging.set_verbosity(tf.logging.ERROR) #desliga os warnings do tensorflow\n",
    "\n",
    "#Inicializador\n",
    "init = K.initializers.RandomUniform(seed=1)\n",
    "\n",
    "#Criando o otimizador\n",
    "simple_sgd = K.optimizers.SGD(lr=0.010)\n",
    "\n",
    "#Construindo o modelo (topologia)\n",
    "model = K.models.Sequential()\n",
    "model.add(K.layers.Dense(units=10, input_dim=13, kernel_initializer=init, activation='tanh')) #1a camada oculta\n",
    "model.add(K.layers.Dense(units=10, kernel_initializer=init, activation='tanh'))               #2a camada oculta\n",
    "model.add(K.layers.Dense(units=1,  kernel_initializer=init, activation=None))               #Camada de saída\n",
    "\n",
    "#Compilando o modelo\n",
    "model.compile(loss='mean_squared_error', optimizer=simple_sgd, metrics=['mse'])"
   ]
  },
  {
   "cell_type": "markdown",
   "metadata": {},
   "source": [
    "### 5 - Execute o Treinamento"
   ]
  },
  {
   "cell_type": "code",
   "execution_count": null,
   "metadata": {},
   "outputs": [],
   "source": [
    "#CÉLULA KE-LIB-06\n",
    "#Treinamento\n",
    "batch_size = 8\n",
    "max_epochs = 500\n",
    "print(\"Iniciando treinamento... \")\n",
    "h = model.fit(X_train, y_train, batch_size=batch_size, epochs=max_epochs, shuffle=True, verbose=1)\n",
    "print(\"Treinamento finalizado \\n\")"
   ]
  },
  {
   "cell_type": "markdown",
   "metadata": {},
   "source": [
    "### 6 - Faça a avaliaçao do Modelo"
   ]
  },
  {
   "cell_type": "code",
   "execution_count": null,
   "metadata": {},
   "outputs": [],
   "source": [
    "#CÉLULA KE-LIB-07\n",
    "#Treinamento\n",
    "y_pred = model.predict(X_train)\n",
    "y_d = np.array(y_train).reshape(-1, 1)\n",
    "\n",
    "results = abs(y_pred - y_d) < np.abs(0.15 * y_d)\n",
    "results\n",
    "\n",
    "#Acuracidade\n",
    "acc = np.sum(results) / len(results)\n",
    "print(\"Taxa de acerto do conjunto de treinamento (%): {0:.4f}\".format(acc*100) )\n",
    "\n",
    "#Teste\n",
    "y_pred = model.predict(X_test)\n",
    "y_d = np.array(y_test).reshape(-1, 1)\n",
    "\n",
    "results = abs(y_pred - y_d) < np.abs(0.15 * y_d)\n",
    "results\n",
    "\n",
    "#Acuracidade\n",
    "acc = np.sum(results) / len(results)\n",
    "print(\"Taxa de acerto do conjunto de teste (%): {0:.4f}\".format(acc*100) )"
   ]
  },
  {
   "cell_type": "markdown",
   "metadata": {},
   "source": [
    "### 7 - Verifique o erro medio do modelo"
   ]
  },
  {
   "cell_type": "code",
   "execution_count": null,
   "metadata": {},
   "outputs": [],
   "source": [
    "#CÉLULA KE-LIB-08\n",
    "# 5 Avaliação do modelo\n",
    "eval = model.evaluate(X_train, y_train, verbose=0)\n",
    "print(\"Erro médio do conjunto de treinamento {0:.4f}\".format(eval[0]))\n",
    "\n",
    "eval = model.evaluate(X_test, y_test, verbose=0)\n",
    "print(\"Erro médio do conjunto de teste {0:.4f}\".format(eval[0]))"
   ]
  },
  {
   "cell_type": "markdown",
   "metadata": {},
   "source": [
    "### 8 - Salve o modelo em Arquivo"
   ]
  },
  {
   "cell_type": "code",
   "execution_count": null,
   "metadata": {},
   "outputs": [],
   "source": [
    "#CÉLULA KE-LIB-9\n",
    "# Salvando modelo em arquivo\n",
    "print(\"Salvando modelo em arquivo \\n\")\n",
    "mp = \".\\\\boston_model.h5\"\n",
    "model.save(mp)"
   ]
  },
  {
   "cell_type": "markdown",
   "metadata": {},
   "source": [
    "### 9 - Faça um teste de operação com o Modelo"
   ]
  },
  {
   "cell_type": "code",
   "execution_count": null,
   "metadata": {},
   "outputs": [],
   "source": [
    "# 7. Usando modelo (operação)\n",
    "np.set_printoptions(precision=4)\n",
    "unknown = np.full(shape=(1,13), fill_value=0.6, dtype=np.float32)\n",
    "unknown[0][3] = -1.0 # encodando o booleano\n",
    "predicted = model.predict(unknown)\n",
    "print(\"Usando o modelo para previsão de preço médio de casa para as caracteristicas: \")\n",
    "print(unknown)\n",
    "print(\"\\nO preço médio será [dolares]: \")\n",
    "print(predicted * 10000)"
   ]
  }
 ],
 "metadata": {
  "kernelspec": {
   "display_name": "Python 3",
   "language": "python",
   "name": "python3"
  },
  "language_info": {
   "codemirror_mode": {
    "name": "ipython",
    "version": 3
   },
   "file_extension": ".py",
   "mimetype": "text/x-python",
   "name": "python",
   "nbconvert_exporter": "python",
   "pygments_lexer": "ipython3",
   "version": "3.6.5"
  }
 },
 "nbformat": 4,
 "nbformat_minor": 2
}
