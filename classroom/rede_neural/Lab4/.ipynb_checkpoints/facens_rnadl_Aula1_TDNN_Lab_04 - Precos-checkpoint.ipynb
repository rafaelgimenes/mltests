{
 "cells": [
  {
   "cell_type": "markdown",
   "metadata": {},
   "source": [
    "# Material de aula - FACENS - Redes Neurais e Deep Learning"
   ]
  },
  {
   "cell_type": "code",
   "execution_count": null,
   "metadata": {},
   "outputs": [],
   "source": [
    "#Neste versão o bias não é incluido dentro do vetor de pesos e os calculos são separados"
   ]
  },
  {
   "cell_type": "markdown",
   "metadata": {},
   "source": [
    "\n",
    "## <center> TDNN e Séries Temporais - LABORATÓRIO 04 </center>"
   ]
  },
  {
   "cell_type": "markdown",
   "metadata": {},
   "source": [
    "### As topologias candidatas para serem adotadas no mapeamento do problema acima são especificadas como se segue:\n",
    "\n",
    "1. Rede 1: 05 entradas (p = 05) com N1 = 10\n",
    "2. Rede 2: 10 entradas (p = 10) com N1 = 15\n",
    "3. Rede 3: 15 entradas (p = 15) com N1 = 25"
   ]
  },
  {
   "cell_type": "markdown",
   "metadata": {},
   "source": [
    "Utilize a função de ativação logística para todos os neurônios, taxa de aprendizado $ \\eta = 0.1 $ , fator de momentum $\\alpha = 0.8$  e precisão $\\epsilon = 0.5 \\cdot 10^{-6}$."
   ]
  },
  {
   "cell_type": "code",
   "execution_count": 1,
   "metadata": {},
   "outputs": [],
   "source": [
    "#CÉLULA TDNN-LIB-01\n",
    "import numpy as np\n",
    "import matplotlib.pyplot as plt\n",
    "import pandas as pd\n",
    "%matplotlib inline"
   ]
  },
  {
   "cell_type": "code",
   "execution_count": 2,
   "metadata": {},
   "outputs": [],
   "source": [
    "#CÉLULA TDNN-LIB-02\n",
    "def loadDataFile(filename) :\n",
    "    '''\n",
    "    Esta função faz o carregamento de dados de um arquivo separado por virgulas (csv)\n",
    "    \n",
    "    Parametros\n",
    "    -----------\n",
    "    filename -> nome do arquivo de dados em formato csv\n",
    "    \n",
    "    \n",
    "    Retorno\n",
    "    -----------  \n",
    "    dataframe contendo os dados do arquivo formatados numericamente.\n",
    "    '''\n",
    "    \n",
    "    dfFile = pd.read_csv(filename, sep=';', decimal=',', thousands='.')\n",
    "    return dfFile"
   ]
  },
  {
   "cell_type": "code",
   "execution_count": 3,
   "metadata": {},
   "outputs": [],
   "source": [
    "#CÉLULA TDNN-LIB-03\n",
    "def sigmoid(z) :\n",
    "    '''\n",
    "    Esta função faz o cálculo da função de ativação do tipo sigmoide\n",
    "    \n",
    "    Parametros\n",
    "    -----------\n",
    "    z -> valor do parametro a ser calculado em f(z)\n",
    "    \n",
    "    Retorno\n",
    "    -----------  \n",
    "    valor da função sigmoide correspondente ao parametro z\n",
    "    '''    \n",
    "    return 1/(1+np.exp(-z))"
   ]
  },
  {
   "cell_type": "code",
   "execution_count": 4,
   "metadata": {},
   "outputs": [],
   "source": [
    "#CÉLULA TDNN-LIB-04\n",
    "def tanh_function(z) :\n",
    "    '''\n",
    "    Esta função faz o cálculo da função de ativação do tipo tangente hiperbolica\n",
    "    \n",
    "    Parametros\n",
    "    -----------\n",
    "    z -> valor do parametro a ser calculado em f(z)\n",
    "    \n",
    "    Retorno\n",
    "    -----------  \n",
    "    valor da função tangente hiperbolica correspondente ao parametro z\n",
    "    '''        \n",
    "    return np.tanh(z)"
   ]
  },
  {
   "cell_type": "code",
   "execution_count": 5,
   "metadata": {},
   "outputs": [],
   "source": [
    "#CÉLULA TDNN-LIB-05\n",
    "def forward_step(vInputs, vWeights, vBias) : \n",
    "    '''\n",
    "    Processa o forward step\n",
    "    \n",
    "    Parametros\n",
    "    -----------\n",
    "    vInputs  -> vetor/matriz com as entradas\n",
    "    vWeights -> vetor/matriz com os vetores de pesos (é um vetor de matrizes)\n",
    "    vBias    -> vetor/matriz com os vetores de bias  (é um vetor de matrizes)\n",
    "    \n",
    "    Retorno\n",
    "    -------\n",
    "    Este método retorna uma tupla contendo a saída das camadas da TDNN\n",
    "    (Y_1, Y_2)\n",
    "    '''\n",
    "    \n",
    "    W_1 = vWeights[0]\n",
    "    W_2 = vWeights[1]\n",
    "    \n",
    "    B_1 = vBias[0]\n",
    "    B_2 = vBias[1]\n",
    "\n",
    "    #FORWARD STEP\n",
    "    #Calcula saída do TDNN para todas as amostras, de uma vez.\n",
    "    Y_0 = vInputs #so para ficar uniforme a nomenclatura dos termos\n",
    "    I_1 = W_1 @ Y_0 + B_1\n",
    "    Y_1 = sigmoid(I_1) #Função sigmoide na camada oculta, g1\n",
    "\n",
    "    I_2 = W_2 @ Y_1 + B_2\n",
    "    Y_2 = sigmoid(I_2) #Função linear na camada de saida, g2\n",
    "    #FIM DO FORWARD STEP\n",
    "    \n",
    "    return (Y_1, Y_2)"
   ]
  },
  {
   "cell_type": "code",
   "execution_count": 6,
   "metadata": {},
   "outputs": [],
   "source": [
    "#CÉLULA TDNN-LIB-06\n",
    "def calcMSE(vInputs, vOutputs, vWeights, vBias) : \n",
    "    '''\n",
    "    Calcula o Erro Quadratico Medio (Mean Squared Error) da TDNN\n",
    "    \n",
    "    Parametros\n",
    "    -----------\n",
    "    vInputs  -> vetor/matriz com as entradas\n",
    "    vOutputs -> vetor/matriz com os vetores dos dados\n",
    "    vWeights -> vetor/matriz com os vetores de pesos (é um vetor de matrizes)\n",
    "    vBias    -> vetor/matriz com os vetores de bias  (é um vetor de matrizes)\n",
    "    \n",
    "    Retorno\n",
    "    -------\n",
    "    Este método retorna o valor de MSE para o conjunto de dados e pesos do TDNN\n",
    "    '''\n",
    "    \n",
    "    (_, Y_2) = forward_step(vInputs, vWeights, vBias)\n",
    "    nSamples = vInputs.shape[1]\n",
    "       \n",
    "    E_k = 1/2 * (vOutputs - Y_2)**2\n",
    "    E_k = np.sum(E_k, axis=1)\n",
    "    MSE = np.sum(E_k) / nSamples\n",
    "    \n",
    "    return np.asscalar(MSE)"
   ]
  },
  {
   "cell_type": "markdown",
   "metadata": {},
   "source": [
    "# 1 - Implementação do algoritmo de treinamento da TDNN\n",
    "\n",
    "Utilizando Jupyter e NumPy: para o problema apresentado, complete o código para construir as funções de treinamento da TDNN"
   ]
  },
  {
   "cell_type": "markdown",
   "metadata": {},
   "source": [
    "## 1.1 - Ajuste o código que realiza o treinamento da TDNN"
   ]
  },
  {
   "cell_type": "code",
   "execution_count": 7,
   "metadata": {},
   "outputs": [],
   "source": [
    "#CÉLULA TDNN-LIB-07\n",
    "def tdnn_train_batch(eta, epsilon, vInputs, vOutputs, dictLayers, max_epochs) :\n",
    "    '''\n",
    "    Algoritmo de treinamento da TDNN\n",
    "    \n",
    "    Parametros\n",
    "    -----------\n",
    "    eta         -> taxa de aprendizado\n",
    "    epsilon     -> margem de erro\n",
    "    vInputs     -> vetor/matriz com as entradas\n",
    "    vOutputs    -> vetor/matriz com as saidas\n",
    "    dictLayers  -> dicionario que descreve as camadas da rede {'nLayers' : 'xxx', vLayers : vvv}, onde nLayers representa \n",
    "                   o numero de camadas e vLayers é um vetor linha contedo o tamanho de cada camada\n",
    "    max_epochs -> criterio de parada por epocas de treinamento\n",
    "    \n",
    "    Retorno\n",
    "    -------\n",
    "    Este método retorna uma tupla contendo o vetor de pesos ajustado e o numero de epocas executadas no treinamento.\n",
    "    '''\n",
    "        \n",
    "    #Determine numero de entradas do TDNN e o numero de amostras\n",
    "    nInputs  = vInputs.shape[0]\n",
    "    nSamples = vInputs.shape[1]\n",
    "    \n",
    "    indexLayer = 1\n",
    "    nNeurons      = dictLayers['vLayers'][indexLayer]   #Numero de neurons da camada 'indexLayer'\n",
    "    nConnections  = dictLayers['vLayers'][indexLayer-1] #Numero de neurons da camada 'indexLayer-1'\n",
    "    \n",
    "    # Wji = j-esimo neuron de uma cada ao i-esimo sinal da camada de entrada (na primeira matriz de pesos)\n",
    "    #assim, todos os sinais de entrada de um neuronio ficam na linha e cada linha contem 1 neuronio\n",
    "    W_1 = np.random.rand(nNeurons, nConnections);\n",
    "    B_1 = np.random.rand(nNeurons, 1);\n",
    "    \n",
    "    #IMPLEMENTE O CÓDIGO AQUI - INICIO\n",
    "    #CRIE VARIAVEIS PARA ARMAZENAR AS Matrizes das iterações anteriores para uso de momentum\n",
    "\n",
    "    #IMPLEMENTE O CÓDIGO AQUI - INICIO\n",
    "\n",
    "    indexLayer    = 2\n",
    "    nNeurons      = dictLayers['vLayers'][indexLayer]   #Numero de neurons da camada 'indexLayer'\n",
    "    nConnections  = dictLayers['vLayers'][indexLayer-1] #Numero de neurons da camada 'indexLayer-1'\n",
    "\n",
    "    # Wji = j-esimo neuron de uma cada ao i-esimo sinal da camada de entrada (na primeira matriz de pesos)\n",
    "    #assim, todos os sinais de entrada de um neuronio ficam na linha e cada linha contem 1 neuronio\n",
    "    W_2 = np.random.rand(nNeurons, nConnections);\n",
    "    B_2 = np.random.rand(nNeurons, 1);\n",
    "   \n",
    "    #IMPLEMENTE O CÓDIGO AQUI - INICIO\n",
    "    #CRIE VARIAVEIS PARA ARMAZENAR AS Matrizes das iterações anteriores para uso de momentum\n",
    "\n",
    "    #IMPLEMENTE O CÓDIGO AQUI - INICIO\n",
    "    \n",
    "    #Monte o loop de cálculo do erro e ajuste dos pesos\n",
    "    bError = True\n",
    "    MSE = [] # MSE: Mean Squared Error\n",
    "        \n",
    "    for epochCounter in range(max_epochs) :\n",
    "        Y_0 = vInputs #esta atribuição é apenas para manter uniformidade de nomenclatura\n",
    "        (Y_1, Y_2) = forward_step(vInputs, [W_1, W_2], [B_1, B_2])       \n",
    "\n",
    "        #INICIO - BACKWARD STEP\n",
    "        #A derivada de g2 é igual a Y_2 * (1 - Y_2)\n",
    "        #Ajuste de pesos Camada Oculta - Camada de Saída\n",
    "        diff_g2 = Y_2 * (1 - Y_2)\n",
    "        #Gradiente local\n",
    "        delta_2 = (vOutputs - Y_2) * diff_g2\n",
    "        \n",
    "        #IMPLEMENTE O CÓDIGO AQUI - INICIO\n",
    "        #AJUSTE OS VALORES DE W_2 E B_2        \n",
    "        #Ajuste dos pesos\n",
    "\n",
    "        \n",
    "        #ATUALIZE OS VALORES DOS PESOS NAS VARIAVEIS AUXILIARES\n",
    "\n",
    "        #IMPLEMENTE O CÓDIGO AQUI - FIM\n",
    "        \n",
    "        #Ajuste de pesos Camada Entrada - Camada Oculta\n",
    "        #A derivada de g1(I_1) é igual a g1(I_1)*(1 - g1(I_1)) ou seja, Y_1*(1 - Y_1)\n",
    "        diff_g1 = Y_1 * (1 - Y_1)\n",
    "\n",
    "        #Gradiente local\n",
    "        delta_1 = (W_2.T @ delta_2) * diff_g1\n",
    "        \n",
    "        #IMPLEMENTE O CÓDIGO AQUI - INICIO\n",
    "        #AJUSTE OS VALORES DE W_2 E B_2        \n",
    "        #Ajuste dos pesos\n",
    "\n",
    "        \n",
    "        #ATUALIZE OS VALORES DOS PESOS NAS VARIAVEIS AUXILIARES\n",
    "\n",
    "        #IMPLEMENTE O CÓDIGO AQUI - FIM\n",
    "        #FIM - BACKWARD STEP\n",
    "\n",
    "        #Calcula o Erro Quadratico Medio\n",
    "        MSE_temp = calcMSE(vInputs, vOutputs, [W_1, W_2], [B_1, B_2])\n",
    "        MSE.append( MSE_temp )\n",
    "        \n",
    "        print( 'Epoch = {} - MSE = {}'.format(epochCounter, MSE_temp))\n",
    "        \n",
    "        if( epochCounter > 0 and abs(MSE[epochCounter] - MSE[epochCounter-1]) < epsilon ) :\n",
    "            break\n",
    "    \n",
    "    return (W_1, W_2, B_1, B_2, MSE)"
   ]
  },
  {
   "cell_type": "markdown",
   "metadata": {},
   "source": [
    "## 1.3 - Ajuste o código que realiza o treinamento ONLINE"
   ]
  },
  {
   "cell_type": "code",
   "execution_count": 8,
   "metadata": {},
   "outputs": [],
   "source": [
    "#CÉLULA TDNN-LIB-07\n",
    "def tdnn_train_online(eta, epsilon, vInputs, vOutputs, dictLayers, max_epochs) :\n",
    "    '''\n",
    "    Algoritmo de treinamento da TDNN\n",
    "    \n",
    "    Parametros\n",
    "    -----------\n",
    "    eta         -> taxa de aprendizado\n",
    "    epsilon     -> margem de erro\n",
    "    vInputs     -> vetor/matriz com as entradas\n",
    "    vOutputs    -> vetor/matriz com as saidas\n",
    "    dictLayers  -> dicionario que descreve as camadas da rede {'nLayers' : 'xxx', vLayers : vvv}, onde nLayers representa \n",
    "                   o numero de camadas e vLayers é um vetor linha contedo o tamanho de cada camada\n",
    "    max_epochs -> criterio de parada por epocas de treinamento\n",
    "    \n",
    "    Retorno\n",
    "    -------\n",
    "    Este método retorna uma tupla contendo o vetor de pesos ajustado e o numero de epocas executadas no treinamento.\n",
    "    '''\n",
    "    \n",
    "    #IMPLEMENTE O CÓDIGO AQUI\n",
    "    #DICA: FAÇA FUNCIONAR O TREINAMENTO PARA O MODO BATCH, COPIE E COLE O CODIGO AQUI PARA MODIFICAR PARA ONLINE\n",
    "    \n",
    "    \n",
    "    \n",
    "    return (W_1, W_2, B_1, B_2, MSE)"
   ]
  },
  {
   "cell_type": "code",
   "execution_count": 9,
   "metadata": {},
   "outputs": [],
   "source": [
    "#CÉLULA TDNN-LIB-08\n",
    "def tdnn_operation(vInputs, vWeights, vBias) :\n",
    "    '''\n",
    "    Algoritmo de operação da TDNN\n",
    "    \n",
    "    Parametros\n",
    "    -----------\n",
    "    vInputs  -> vetor/matriz com as entradas\n",
    "    vOutputs -> vetor/matriz com as saidas\n",
    "    vWeights -> vetor/matriz com os vetores de pesos (é um vetor de matrizes)\n",
    "    vBias    -> vetor/matriz com os vetores de bias  (é um vetor de matrizes)\n",
    "    \n",
    "    Retorno\n",
    "    -------\n",
    "    Este método retorna o valor de saída do TDNN\n",
    "    '''\n",
    "    \n",
    "    (_, Y_2) = forward_step(vInputs, vWeights, vBias)    \n",
    "    return (Y_2)"
   ]
  },
  {
   "cell_type": "markdown",
   "metadata": {},
   "source": [
    "## 1.4 - Crie a função de janelamento dos dados de entrada"
   ]
  },
  {
   "cell_type": "code",
   "execution_count": 10,
   "metadata": {},
   "outputs": [],
   "source": [
    "#CÉLULA TDNN-LIB-09\n",
    "def tdnn_windowing2(nInputs, vInputs) :\n",
    "    '''\n",
    "    Realiza o janelamento dos dados a serem processados pela TDNN\n",
    "    \n",
    "    Parametros\n",
    "    -----------\n",
    "    nInputs  -> quantidade de entradas da Rede TDNN\n",
    "    vInputs  -> vetor/matriz com as entradas\n",
    "    \n",
    "    \n",
    "    Retorno\n",
    "    -------\n",
    "    Este método retorna o valor de saída do TDNN\n",
    "    '''\n",
    "    #IMPLEMENTE O CÓDIGO AQUI - INICIO\n",
    "    \n",
    "    \n",
    "    return X"
   ]
  },
  {
   "cell_type": "markdown",
   "metadata": {},
   "source": [
    "# 2 - Implementação e testes do modelo da Rede TDNN"
   ]
  },
  {
   "attachments": {
    "image.png": {
     "image/png": "[encoded data removed]"
    }
   },
   "cell_type": "markdown",
   "metadata": {},
   "source": [
    "### O preço de uma determinada mercadoria disposta para ser comercializada no mercado financeiro de ações possui um histórico de variação de valor conforme mostrado no dataset disponível.\n",
    "\n",
    "### Um pool de pesquisadores estará tentando aplicar redes neurais para tentar prever o comportamento futuro deste processo. Assim, pretende-se utilizar uma arquitetura perceptron multicamadas, com topologia “Time Delay” (TDNN), conforme mostrada na figura abaixo: \n",
    "\n",
    "![image.png](attachment:image.png)\n",
    "\n",
    "\n",
    "\n",
    "*Fonte*:  SILVA, I.N. – Sistemas Inteligentes – Notas de Aula da disciplina **Redes Neurais Artificiais** – USP São Carlos, 2012"
   ]
  },
  {
   "cell_type": "markdown",
   "metadata": {},
   "source": [
    "## TDNN - inicio"
   ]
  },
  {
   "cell_type": "markdown",
   "metadata": {},
   "source": [
    "# 2.1 - Configuração dos hiperparâmetros"
   ]
  },
  {
   "cell_type": "code",
   "execution_count": null,
   "metadata": {},
   "outputs": [],
   "source": [
    "#CÉLULA TDNN-MAIN-01\n",
    "\n",
    "#IMPLEMENTE O CÓDIGO AQUI - INICIO\n",
    "\n",
    "#Parâmetros\n",
    "alpha    = \n",
    "eta      = \n",
    "epsilon  = \n",
    "nInputs  = \n",
    "nHidden  = \n",
    "nOutputs = \n",
    "max_epochs = \n",
    "dictLayers = {'nLayers':2, 'vLayers':np.array([nInputs, nHidden, nOutputs])}"
   ]
  },
  {
   "cell_type": "markdown",
   "metadata": {},
   "source": [
    "# 2.2 - Carga dos dados e execução do treinamento"
   ]
  },
  {
   "cell_type": "code",
   "execution_count": null,
   "metadata": {},
   "outputs": [],
   "source": [
    "#CÉLULA TDNN-MAIN-01\n",
    "\n",
    "#IMPLEMENTE O CÓDIGO AQUI - INICIO\n",
    "# 1 - FAÇA O CARREGAMENTO DOS DADOS\n",
    "# 2 - FAÇA O JANELAMENTO DOS DADOS DE ENTRADA\n",
    "# 3 - SEPARE EM DOIS VETORES DE DADOS: ENTRADAS E SAIDAS\n",
    "# 4 - EXECUTE O TREINAMENTO E VERIFIQUE A CONVERGÊNCIA\n",
    "\n",
    "#Carrega dados - Treino\n",
    "dfTrainingFile = loadDataFile('Lab03_training.csv')\n"
   ]
  },
  {
   "cell_type": "markdown",
   "metadata": {},
   "source": [
    "# 2.3 - Verificação dos resultados do treinamento"
   ]
  },
  {
   "cell_type": "code",
   "execution_count": null,
   "metadata": {},
   "outputs": [],
   "source": [
    "#Verifica resultados\n",
    "#IMPLEMENTE O CÓDIGO AQUI - INICIO\n",
    "# EXECUTE A OPERAÇÃO COM OS DADOS DE TREINAMENTO E VERIFIQUE O RESULTADO \n",
    "#PLOTANDO UM GRÁFICO ENTRE OS DADOS DE PREDIÇÃO VERSUS OS DADOS ESPERADOS\n"
   ]
  },
  {
   "cell_type": "markdown",
   "metadata": {},
   "source": [
    "# 2.4 - Verificação dos resultados do conjunto de teste"
   ]
  },
  {
   "cell_type": "code",
   "execution_count": null,
   "metadata": {},
   "outputs": [],
   "source": [
    "#Carrega dados - Teste\n",
    "# EXECUTE A OPERAÇÃO COM OS DADOS DE TESTE E VERIFIQUE O RESULTADO \n",
    "#PLOTANDO UM GRÁFICO ENTRE OS DADOS DE PREDIÇÃO VERSUS OS DADOS ESPERADOS\n",
    "dfTestFile = loadDataFile('Lab03_operation_R1.csv')\n",
    "\n"
   ]
  },
  {
   "cell_type": "markdown",
   "metadata": {},
   "source": [
    "# 2.5 - Calcule o erro absoluto médio da TDNN"
   ]
  },
  {
   "cell_type": "code",
   "execution_count": null,
   "metadata": {},
   "outputs": [],
   "source": [
    "#Verifica resultados \n",
    "y_pred = y_pred.T\n",
    "\n"
   ]
  },
  {
   "cell_type": "code",
   "execution_count": null,
   "metadata": {
    "scrolled": true
   },
   "outputs": [],
   "source": [
    "#Gráfico de dados previstos VERSUS dados reais"
   ]
  },
  {
   "cell_type": "code",
   "execution_count": null,
   "metadata": {},
   "outputs": [],
   "source": [
    "#Erro Quadratico Medio\n"
   ]
  }
 ],
 "metadata": {
  "kernelspec": {
   "display_name": "Python 3",
   "language": "python",
   "name": "python3"
  },
  "language_info": {
   "codemirror_mode": {
    "name": "ipython",
    "version": 3
   },
   "file_extension": ".py",
   "mimetype": "text/x-python",
   "name": "python",
   "nbconvert_exporter": "python",
   "pygments_lexer": "ipython3",
   "version": "3.6.5"
  }
 },
 "nbformat": 4,
 "nbformat_minor": 2
}
