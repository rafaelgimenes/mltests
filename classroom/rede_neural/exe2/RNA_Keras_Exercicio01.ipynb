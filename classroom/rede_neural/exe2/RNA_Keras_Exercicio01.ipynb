{
 "cells": [
  {
   "cell_type": "markdown",
   "metadata": {},
   "source": [
    "# Material de aula - Redes Neurais e Deep Learning"
   ]
  },
  {
   "cell_type": "markdown",
   "metadata": {},
   "source": [
    "\n",
    "## <center> Exercício 1 - Keras: Classificação de imagens com CNN </center>"
   ]
  },
  {
   "cell_type": "markdown",
   "metadata": {},
   "source": [
    "Instruções para a realização desta atividade:\n",
    "\n",
    "1. Faça o download deste notebook Jupyter para sua estação de trabalho\n",
    "2. Realize as atividades solicitadas dentro do notebook, nos espaços apropriados e indicados\n",
    "3. Salve o notebook no seguinte padrão: <nome_sobrenome_RA>.ipynb (por exemplo: **rodrigo_caropreso_123456.ipynb ** )\n",
    "4. Envie o notebook com a atividade realizada na sala de aula da disciplina (Google Classroom)\n",
    "\n",
    "** DATA DE ENTREGA DESTA ATIVIDADE: 31/07/2019 **\n",
    "\n",
    "** VALOR DESTA ATIVIDADE: 3,0 pontos **"
   ]
  },
  {
   "cell_type": "code",
   "execution_count": null,
   "metadata": {},
   "outputs": [],
   "source": [
    "#CÉLULA KE-LIB-01\n",
    "import numpy as np\n",
    "import keras as K\n",
    "import tensorflow as tf\n",
    "import pandas as pd\n",
    "import seaborn as sns\n",
    "import os\n",
    "from keras.utils import to_categorical\n",
    "import h5py\n",
    "from matplotlib import pyplot as plt\n",
    "%matplotlib inline\n",
    "os.environ['TF_CPP_MIN_LOG_LEVEL']='2'"
   ]
  },
  {
   "cell_type": "code",
   "execution_count": null,
   "metadata": {},
   "outputs": [],
   "source": [
    "#CÉLULA KE-LIB-02\n",
    "def loadDatasets():\n",
    "    train_dataset = h5py.File('train_catvnoncat.h5', \"r\")\n",
    "    train_set_x_orig = np.array(train_dataset[\"train_set_x\"][:]) # features de treinamento\n",
    "    train_set_y_orig = np.array(train_dataset[\"train_set_y\"][:]) # labels de treinamento\n",
    "\n",
    "    test_dataset = h5py.File('test_catvnoncat.h5', \"r\")\n",
    "    test_set_x_orig = np.array(test_dataset[\"test_set_x\"][:]) # features de teste\n",
    "    test_set_y_orig = np.array(test_dataset[\"test_set_y\"][:]) # labels de teste\n",
    "\n",
    "    classes = np.array(test_dataset[\"list_classes\"][:]) # lista das classes\n",
    "\n",
    "    train_set_y_orig = train_set_y_orig.reshape((1, train_set_y_orig.shape[0]))\n",
    "    test_set_y_orig = test_set_y_orig.reshape((1, test_set_y_orig.shape[0]))\n",
    "\n",
    "    return train_set_x_orig, train_set_y_orig, test_set_x_orig, test_set_y_orig, classes"
   ]
  },
  {
   "cell_type": "markdown",
   "metadata": {},
   "source": [
    "# <center> Atividade 1 - Rede Neural Densa com 1 camada oculta </center>"
   ]
  },
  {
   "cell_type": "markdown",
   "metadata": {},
   "source": [
    "### O conjunto de dados de treinamento está armazenado no formato h5 e contém imagens de gatos e imagens de objetos que não são gatos. \n",
    "\n",
    "### O Objetivo da atividade é construir uma Rede capaz de fazer a classificação binária entre gatos VERSUS Não-gatos"
   ]
  },
  {
   "cell_type": "markdown",
   "metadata": {},
   "source": [
    "## 1.1. Instruções:\n",
    "\n",
    "- Faça a carga do dataset através do método \n",
    "\n",
    "        X_train, y_train, X_test, y_test, classes = loadDatasets()"
   ]
  },
  {
   "cell_type": "code",
   "execution_count": null,
   "metadata": {},
   "outputs": [],
   "source": [
    "#IMPLEMENTE O CÓDIGO AQUI (1 linha)\n"
   ]
  },
  {
   "cell_type": "markdown",
   "metadata": {},
   "source": [
    "## 1.2. Instruções:\n",
    "\n",
    "- Verifique a dimensão de um dado de entrada ( X_train[0] )"
   ]
  },
  {
   "cell_type": "code",
   "execution_count": null,
   "metadata": {},
   "outputs": [],
   "source": [
    "#IMPLEMENTE O CÓDIGO AQUI (1 linha)\n"
   ]
  },
  {
   "cell_type": "markdown",
   "metadata": {},
   "source": [
    "## O código abaixo exibe uma imagem do conjunto de treinamento para a classe 'não-gato'\n",
    "\n",
    "    index = 10\n",
    "    plt.figure()\n",
    "    plt.imshow(X_train[index])"
   ]
  },
  {
   "cell_type": "markdown",
   "metadata": {},
   "source": [
    "## 1.3. Instruções:\n",
    "\n",
    "- Exiba algumas imagens, no intervalo de 0 a 10, a fim de verificar como são as imagens do dataset"
   ]
  },
  {
   "cell_type": "code",
   "execution_count": null,
   "metadata": {},
   "outputs": [],
   "source": [
    "#IMPLEMENTE O CÓDIGO AQUI\n"
   ]
  },
  {
   "cell_type": "markdown",
   "metadata": {},
   "source": [
    "## Construindo a Topologia da Rede\n",
    "\n",
    "## 1.4. Instruções:\n",
    "\n",
    "- Faça a normalização dos dados de ENTRADA dos conjuntos de treinamento e teste pelo maior valor de pixel (255)"
   ]
  },
  {
   "cell_type": "code",
   "execution_count": null,
   "metadata": {},
   "outputs": [],
   "source": [
    "#CÉLULA KE-LIB-03\n",
    "np.random.seed(4)\n",
    "tf.set_random_seed(13)\n",
    "\n",
    "#IMPLEMENTE O CÓDIGO AQUI (2 linhas)\n",
    "X_train = \n",
    "X_test  = "
   ]
  },
  {
   "cell_type": "markdown",
   "metadata": {},
   "source": [
    "## 1.5. Instruções:\n",
    "\n",
    "- Faça o ajuste de dimensionalidade do tensor de entrada para 1 dimensão (flatenning)\n",
    "\n",
    "**Nota:** não esqueça que a quantidade de entradas da rede será dada pelo tensor de entrada 'achatado em 1 dimensão' será dada por: $ 64 \\cdot 64 \\cdot 3 = 12288$\n",
    "\n",
    "**Nota:** É possível redimensionar um tensor de N dimensões com o comando reshape, na forma:\n",
    "\n",
    "    X_train_flatten = X_train.reshape(X_train.shape[0], -1)"
   ]
  },
  {
   "cell_type": "code",
   "execution_count": null,
   "metadata": {},
   "outputs": [],
   "source": [
    "#CÉLULA KE-LIB-04\n",
    "#IMPLEMENTE O CÓDIGO AQUI (2 linhas)\n",
    "X_train_flatten = \n",
    "X_test_flatten  = "
   ]
  },
  {
   "cell_type": "markdown",
   "metadata": {},
   "source": [
    "## 1.6. Instruções:\n",
    "\n",
    "- Verifique as dimensoes dos vetores X_train_flatten e y_train_flatten"
   ]
  },
  {
   "cell_type": "code",
   "execution_count": null,
   "metadata": {},
   "outputs": [],
   "source": [
    "#IMPLEMENTE O CÓDIGO AQUI (2 linhas)\n"
   ]
  },
  {
   "cell_type": "markdown",
   "metadata": {},
   "source": [
    "## 1.7. Instruções:\n",
    "\n",
    "- Construa uma topologia de uma Rede Neural Densa com 2 camadas:\n",
    "\n",
    "        layers_dims = [12288, 20, 1] # modelo de 2 camadas densas\n",
    "\n",
    "Dados da topologia:\n",
    "- Otimizador **RMSProp**\n",
    "- Função de ativação da camada intermediaria: **ReLu** \n",
    "- Função de ativação da camada de saída: **Sigmoid** \n",
    "- Utilize treinamento em lote com **batch_size= 19**\n",
    "- Limite o treinamento a **2500** épocas\n",
    "- Função de Perda (Loss): **binary_crossentropy** (estamos lidando com classificação binária)"
   ]
  },
  {
   "cell_type": "code",
   "execution_count": null,
   "metadata": {},
   "outputs": [],
   "source": [
    "#CÉLULA KE-LIB-05\n",
    "layers_dims = [12288, 20, 1] # modelo de 2 camadas densas\n",
    "\n",
    "tf.logging.set_verbosity(tf.logging.ERROR) #desliga os warnings do tensorflow\n",
    "\n",
    "#Limpa o modelo previamente usado, senão irá acumular camadas\n",
    "K.backend.clear_session()\n",
    "\n",
    "#Inicializador\n",
    "init = K.initializers.glorot_uniform()\n",
    "\n",
    "#IMPLEMENTE O CÓDIGO AQUI\n",
    "\n",
    "#Criando o otimizador\n",
    "theOptimizer = \n",
    "\n",
    "#Construindo o modelo (topologia)\n",
    "model = K.models.Sequential()\n",
    "\n",
    "#Exemplo de input_shape na camada de entrada da rede\n",
    "# model = Sequential()\n",
    "# model.add(Dense(32, input_shape=(16,)))\n",
    "# o modelo irá receber como entrada arrays no formato (*, 16)\n",
    "# e como saída terá arrays no formato (*, 32)\n",
    "\n",
    "#Rede Densa - IMPLEMENTE O CÓDIGO AQUI\n",
    "model.add(\n",
    "model.add(\n",
    "\n",
    "# Compile o modelo - IMPLEMENTE O CÓDIGO AQUI    \n",
    "model.compile("
   ]
  },
  {
   "cell_type": "markdown",
   "metadata": {},
   "source": [
    "## 1.8. Instruções:\n",
    "\n",
    "- Execute o treinamento da rede com o comando no formato\n",
    "\n",
    "        h = model.fit(x=X_train_flatten, y=y_train.T, batch_size=batch_size, epochs=max_epochs, verbose=1)\n",
    "        \n",
    "**Nota:** Pelo formato dos dados o valor de entrada deve ser inserido na forma **[N_amostras, N_Entradas]** enquanto o vetor de saída deve ser inserido no formato **[N_amostras, N_saidas]**"
   ]
  },
  {
   "cell_type": "code",
   "execution_count": null,
   "metadata": {},
   "outputs": [],
   "source": [
    "#CÉLULA KE-LIB-06\n",
    "#IMPLEMENTE O CÓDIGO AQUI\n",
    "batch_size =\n",
    "max_epochs = \n",
    "\n",
    "print(\"Iniciando treinamento... \")\n",
    "#IMPLEMENTE O CÓDIGO AQUI\n",
    "h = model.fit(\n",
    "\n",
    "print(\"Treinamento finalizado \\n\")"
   ]
  },
  {
   "cell_type": "markdown",
   "metadata": {},
   "source": [
    "## 1.9. Instruções:\n",
    "\n",
    "- Faça a verificação dos resultados dos conjuntos de **treinamento E teste** a partir do comando\n",
    "\n",
    "        eval = model.evaluate(X_train_flatten, y_train.T, verbose=0)\n",
    "\n",
    "**Nota:**  observe que o comando acima faz a validação do conjunto de treinamento apenas. Além disso, o formato dos dados de entrada segue o mesmo padrão utilizado no comando de treinamento"
   ]
  },
  {
   "cell_type": "code",
   "execution_count": null,
   "metadata": {},
   "outputs": [],
   "source": [
    "#CÉLULA KE-LIB-07\n",
    "#IMPLEMENTE O CÓDIGO AQUI\n",
    "eval = model.evaluate(\n",
    "print(\"Erro médio do conjunto de treinamento: Perda {0:.4f}, acuracia {1:.4f}\".format(eval[0], eval[1]*100))\n",
    "\n",
    "eval = model.evaluate(\n",
    "print(\"Erro médio do conjunto de teste: Perda {0:.4f}, acuracia {1:.4f}\".format(eval[0], eval[1]*100))"
   ]
  },
  {
   "cell_type": "markdown",
   "metadata": {},
   "source": [
    "# <center> Atividade 2 - Rede Neural Densa com 2 camadas ocultas </center>"
   ]
  },
  {
   "cell_type": "markdown",
   "metadata": {},
   "source": [
    "## 2.1. Instruções:\n",
    "\n",
    "- Construa uma nova topologia de rede com 4 camadas:\n",
    "- Refaça o treinamento e compare os resultados\n",
    "\n",
    "    layers_dims = [12288, 20, 7, 5, 1] # modelo de 4 camadas densas\n",
    "    \n",
    "Dados da topologia:\n",
    "- Otimizador **RMSProp**\n",
    "- Função de ativação da primeira camada oculta: **ReLu** \n",
    "- Função de ativação da segunda camada oculta: **ReLu** \n",
    "- Função de ativação da terceira camada oculta: **ReLu** \n",
    "- Função de ativação da camada de saída: **Sigmoid** \n",
    "- Utilize treinamento em lote com **batch_size= 19**\n",
    "- Limite o treinamento a **2500** épocas\n",
    "- Função de Perda (Loss): **binary_crossentropy** (estamos lidando com classificação binária)    "
   ]
  },
  {
   "cell_type": "code",
   "execution_count": null,
   "metadata": {},
   "outputs": [],
   "source": [
    "X_train, y_train, X_test, y_test, classes = loadDatasets()\n",
    "\n",
    "X_train = X_train / 255\n",
    "X_test = X_test / 255\n",
    "\n",
    "X_train_flatten = X_train.reshape(X_train.shape[0], -1)   # The \"-1\" makes reshape flatten the remaining dimensions\n",
    "X_test_flatten  = X_test.reshape(X_test.shape[0], -1)"
   ]
  },
  {
   "cell_type": "code",
   "execution_count": null,
   "metadata": {},
   "outputs": [],
   "source": [
    "#CÉLULA KE-LIB-08\n",
    "layers_dims = [12288, 20, 7, 5, 1] # modelo de 4 camadas densas\n",
    "\n",
    "tf.logging.set_verbosity(tf.logging.ERROR) #desliga os warnings do tensorflow\n",
    "\n",
    "#Limpa o modelo previamente usado, senão irá acumular camadas\n",
    "K.backend.clear_session()\n",
    "\n",
    "#Inicializador\n",
    "init = K.initializers.glorot_uniform()\n",
    "\n",
    "#IMPLEMENTE O CÓDIGO AQUI\n",
    "#Criando o otimizador\n",
    "theOptimizer = \n",
    "\n",
    "#Construindo o modelo (topologia)\n",
    "model = K.models.Sequential()\n",
    "\n",
    "#Rede Densa - IMPLEMENTE O CÓDIGO AQUI\n",
    "model.add(\n",
    "model.add(\n",
    "model.add(\n",
    "model.add(\n",
    "\n",
    "#Compile o modelo - IMPLEMENTE O CÓDIGO AQUI\n",
    "model.compile("
   ]
  },
  {
   "cell_type": "code",
   "execution_count": null,
   "metadata": {},
   "outputs": [],
   "source": [
    "#CÉLULA KE-LIB-09\n",
    "#IMPLEMENTE O CÓDIGO AQUI\n",
    "batch_size = \n",
    "max_epochs = \n",
    "\n",
    "print(\"Iniciando treinamento... \")\n",
    "#IMPLEMENTE O CÓDIGO AQUI\n",
    "h = model.fit(\n",
    "\n",
    "print(\"Treinamento finalizado \\n\")"
   ]
  },
  {
   "cell_type": "code",
   "execution_count": null,
   "metadata": {},
   "outputs": [],
   "source": [
    "#CÉLULA KE-LIB-10\n",
    "#IMPLEMENTE O CÓDIGO AQUI\n",
    "eval = model.evaluate(\n",
    "print(\"Erro médio do conjunto de treinamento: Perda {0:.4f}, acuracia {1:.4f}\".format(eval[0], eval[1]*100))\n",
    "\n",
    "eval = model.evaluate(\n",
    "print(\"Erro médio do conjunto de teste: Perda {0:.4f}, acuracia {1:.4f}\".format(eval[0], eval[1]*100))"
   ]
  },
  {
   "cell_type": "markdown",
   "metadata": {},
   "source": [
    "# <center> Atividade 3 - Rede Neural Convolucional com 6 camadas </center>"
   ]
  },
  {
   "cell_type": "markdown",
   "metadata": {},
   "source": [
    "## 3.1. Instruções:\n",
    "\n",
    "Construa uma topologia de rede CONVOLUCIONAL da seguinte forma:\n",
    "\n",
    "- Otimizador **Adam ou RMSProp**\n",
    "\n",
    "    - 1 Camada Convolucional (Conv2D) com 32 Filtros, strides= (1,1) e padding='same' com função de ativação **ReLu**\n",
    "    - 1 Camada Convolucional (Conv2D) com 64 Filtros, strides= (1,1) e padding='same' com função de ativação **ReLu**\n",
    "    - 1 Camada MaxPooling2D com janela (2,2)\n",
    "    - 1 Função de Dropout de 25% (0,25)\n",
    "\n",
    "    - 1 Função *Flatten*\n",
    "    - 1 Camada densa com 100 unidades e função de ativação **ReLu**\n",
    "    - 1 Função de Dropout de 50% (0,5)\n",
    "    - 1 Camada densa com 10  unidades e função de ativação **ReLu**\n",
    "    - 1 Camada densa com 1   unidade  e função de ativação **Sigmoid**\n",
    "\n",
    "- Utilize treinamento em lote com **batch_size= 19**\n",
    "- Limite o treinamento a **50** épocas\n",
    "- Função de Perda (Loss): **binary_crossentropy** (estamos lidando com classificação binária)    "
   ]
  },
  {
   "cell_type": "code",
   "execution_count": null,
   "metadata": {},
   "outputs": [],
   "source": [
    "X_train, y_train, X_test, y_test, classes = loadDatasets()\n",
    "\n",
    "image_shape = (64,64,3)\n",
    "\n",
    "X_train = X_train.reshape(-1, 64, 64, 3)\n",
    "X_train = X_train / 255\n",
    "\n",
    "X_test = X_test.reshape(-1, 64, 64, 3)\n",
    "X_test = X_test / 255"
   ]
  },
  {
   "cell_type": "markdown",
   "metadata": {},
   "source": [
    "### Para inicializar uma CNN, utilize um comando no padrão\n",
    "\n",
    "        model.add(K.layers.Conv2D(filters=32, kernel_size=(3, 3), strides=(1,1), padding='same', kernel_initializer=init, activation='relu', input_shape=image_shape))\n",
    "\n",
    "**Nota:** observe que o parametro input_shape indica a tupla referente às dimensoes da imagem (64 x 64 x 3 canais) e este parâmetro deve ser usado **APENAS NA PRIMEIRA camada da CNN** (e ignorado nas demais camadas do modelo)"
   ]
  },
  {
   "cell_type": "code",
   "execution_count": null,
   "metadata": {},
   "outputs": [],
   "source": [
    "#CÉLULA KE-LIB-11\n",
    "layers_dims = [12288, 20, 7, 5, 1] # modelo de 4 camadas densas\n",
    "\n",
    "tf.logging.set_verbosity(tf.logging.ERROR) #desliga os warnings do tensorflow\n",
    "\n",
    "#Limpa o modelo previamente usado, senão irá acumular camadas\n",
    "K.backend.clear_session()\n",
    "\n",
    "#Inicializador\n",
    "init = K.initializers.glorot_uniform()\n",
    "\n",
    "#Criando o otimizador\n",
    "#IMPLEMENTE O CÓDIGO AQUI\n",
    "theOptimizer = \n",
    "\n",
    "#Construindo o modelo (topologia)\n",
    "model = K.models.Sequential()\n",
    "\n",
    "#Camada convolucional - IMPLEMENTE O CÓDIGO AQUI\n",
    "model.add(\n",
    "\n",
    "#Camada convolucional - IMPLEMENTE O CÓDIGO AQUI\n",
    "model.add(\n",
    "\n",
    "#MaxPooling - IMPLEMENTE O CÓDIGO AQUI\n",
    "model.add(\n",
    "\n",
    "#Dropout de 25% na camada anterior - IMPLEMENTE O CÓDIGO AQUI\n",
    "model.add(\n",
    "\n",
    "#Flatten para entrada da rede densa - IMPLEMENTE O CÓDIGO AQUI\n",
    "model.add(\n",
    "\n",
    "#Camada Densa - IMPLEMENTE O CÓDIGO AQUI\n",
    "model.add(\n",
    "  \n",
    "#Dropout de 50% na camada anterior - IMPLEMENTE O CÓDIGO AQUI \n",
    "model.add(K.layers.Dropout(0.5))\n",
    "\n",
    "#Camada densa - IMPLEMENTE O CÓDIGO AQUI     \n",
    "model.add(\n",
    "#Camada Densa - IMPLEMENTE O CÓDIGO AQUI\n",
    "model.add(\n",
    "\n",
    "#Compile o modelo - IMPLEMENTE O CÓDIGO AQUI \n",
    "model.compile("
   ]
  },
  {
   "cell_type": "code",
   "execution_count": null,
   "metadata": {
    "scrolled": true
   },
   "outputs": [],
   "source": [
    "#CÉLULA KE-LIB-12\n",
    "\n",
    "#IMPLEMENTE O CÓDIGO AQUI\n",
    "batch_size = \n",
    "max_epochs = \n",
    "\n",
    "print(\"Iniciando treinamento... \")\n",
    "h = model.fit(\n",
    "\n",
    "print(\"Treinamento finalizado \\n\")"
   ]
  },
  {
   "cell_type": "code",
   "execution_count": null,
   "metadata": {},
   "outputs": [],
   "source": [
    "#CÉLULA KE-LIB-13\n",
    "#IMPLEMENTE O CÓDIGO AQUI\n",
    "eval = model.evaluate(\n",
    "print(\"Erro médio do conjunto de treinamento: Perda {0:.4f}, acuracia {1:.4f}\".format(eval[0], eval[1]*100))\n",
    "\n",
    "eval = model.evaluate(\n",
    "print(\"Erro médio do conjunto de teste: Perda {0:.4f}, acuracia {1:.4f}\".format(eval[0], eval[1]*100))"
   ]
  },
  {
   "cell_type": "markdown",
   "metadata": {},
   "source": [
    "É possível visualizar o gráfico de evolução do erro ao longo do treinamento a partir do seguinte código:\n",
    "\n",
    "    plt.plot(range(len(h.history['loss'])), h.history['loss'])\n",
    "    \n",
    "**Nota:** a variável 'h' é a variável que foi retornada pelo comando *model.fit(...)*"
   ]
  },
  {
   "cell_type": "code",
   "execution_count": null,
   "metadata": {},
   "outputs": [],
   "source": [
    "#IMPLEMENTE O CÓDIGO AQUI (1 linha)\n"
   ]
  },
  {
   "cell_type": "markdown",
   "metadata": {},
   "source": [
    "# Compare os resultados obtidos com a Rede Convolucional comparada às Redes Neurais das Atividades 1 e 2"
   ]
  },
  {
   "cell_type": "code",
   "execution_count": null,
   "metadata": {},
   "outputs": [],
   "source": []
  },
  {
   "cell_type": "markdown",
   "metadata": {},
   "source": [
    "## 3.2. Instruções:\n",
    "\n",
    "Refaça o treinamento com a topologia acima, **ELIMINANDO a função de Dropout de 50% da Camada densa**\n",
    "\n",
    "- Otimizador **Adadelta**\n",
    "\n",
    "    - 1 Camada Convolucional (Conv2D) com 32 Filtros, strides= (1,1) e padding='same' com função de ativação **ReLu**\n",
    "    - 1 Camada Convolucional (Conv2D) com 64 Filtros, strides= (1,1) e padding='same' com função de ativação **ReLu**\n",
    "    - 1 Camada MaxPooling2D com janela (2,2)\n",
    "    - 1 Função de Dropout de 25% (0,25)\n",
    "\n",
    "    - 1 Função *Flatten*\n",
    "    - 1 Camada densa com 100 unidades e função de ativação **ReLu**\n",
    "    - <strike> 1 Função de Dropout de 50% (0,5) </strike>\n",
    "    - 1 Camada densa com 10  unidades e função de ativação **ReLu**\n",
    "    - 1 Camada densa com 1   unidade  e função de ativação **Sigmoid**\n",
    "\n",
    "- Utilize treinamento em lote com **batch_size= 19**\n",
    "- Limite o treinamento a **50** épocas\n",
    "- Função de Perda (Loss): **binary_crossentropy** (estamos lidando com classificação binária)    "
   ]
  },
  {
   "cell_type": "markdown",
   "metadata": {},
   "source": [
    "# Compare os resultados obtidos."
   ]
  },
  {
   "cell_type": "code",
   "execution_count": null,
   "metadata": {},
   "outputs": [],
   "source": []
  }
 ],
 "metadata": {
  "kernelspec": {
   "display_name": "Python 3",
   "language": "python",
   "name": "python3"
  },
  "language_info": {
   "codemirror_mode": {
    "name": "ipython",
    "version": 3
   },
   "file_extension": ".py",
   "mimetype": "text/x-python",
   "name": "python",
   "nbconvert_exporter": "python",
   "pygments_lexer": "ipython3",
   "version": "3.6.5"
  }
 },
 "nbformat": 4,
 "nbformat_minor": 2
}
