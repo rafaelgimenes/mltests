{
 "cells": [
  {
   "cell_type": "markdown",
   "metadata": {},
   "source": [
    "# Material de aula - Redes Neurais e Deep Learning"
   ]
  },
  {
   "cell_type": "code",
   "execution_count": 1,
   "metadata": {},
   "outputs": [],
   "source": [
    "#Neste versão o bias não é incluido dentro do vetor de pesos e os calculos são separados"
   ]
  },
  {
   "cell_type": "markdown",
   "metadata": {},
   "source": [
    "## MLP e Aproximação de Funções - Laboratório 01"
   ]
  },
  {
   "cell_type": "code",
   "execution_count": 11,
   "metadata": {},
   "outputs": [],
   "source": [
    "#CÉLULA MLP-LIB-01\n",
    "import numpy as np\n",
    "import matplotlib.pyplot as plt\n",
    "import pandas as pd\n",
    "%matplotlib inline\n",
    "import math"
   ]
  },
  {
   "cell_type": "code",
   "execution_count": 12,
   "metadata": {},
   "outputs": [],
   "source": [
    "#CÉLULA MLP-LIB-02\n",
    "def loadDataFile(filename) :\n",
    "    '''\n",
    "    Esta função faz o carregamento de dados de um arquivo separado por virgulas (csv)\n",
    "    \n",
    "    Parametros\n",
    "    -----------\n",
    "    filename -> nome do arquivo de dados em formato csv\n",
    "    \n",
    "    \n",
    "    Retorno\n",
    "    -----------  \n",
    "    dataframe contendo os dados do arquivo formatados numericamente.\n",
    "    '''\n",
    "    \n",
    "    dfFile = pd.read_csv(filename, sep=';', decimal=',', thousands='.')\n",
    "    return dfFile"
   ]
  },
  {
   "cell_type": "markdown",
   "metadata": {},
   "source": [
    "# 1 - Implementação das funções de ativação dos neuronios do MLP\n",
    "\n",
    "Utilizando Jupyter e NumPy: para o problema apresentado, construa duas funções para o cálculo da saída dos neurônios do MLP, uma utilizando a função sigmoide e outra utilizando a tangente hiperbolica.\n",
    "\n",
    "### Função Sigmóide\n",
    "<center>\n",
    "$ \\Huge f(z) = \\frac{1}{1+e^{-z}} $\n",
    "</center>\n",
    "\n",
    "### Função Tangente hiperbólica\n",
    "<center>\n",
    "$\\Huge f(z) = \\frac{e^z - e^{-z}}{e^z+e^{-z}}$\n",
    "</center>\n"
   ]
  },
  {
   "cell_type": "code",
   "execution_count": 15,
   "metadata": {},
   "outputs": [],
   "source": [
    "\n",
    "#CÉLULA MLP-LIB-03\n",
    "def sigmoid(z) :\n",
    "    '''\n",
    "    Esta função faz o cálculo da função de ativação do tipo sigmoide\n",
    "    \n",
    "    Parametros\n",
    "    -----------\n",
    "    z -> valor do parametro a ser calculado em f(z)\n",
    "    \n",
    "    Retorno\n",
    "    -----------  \n",
    "    valor da função sigmoide correspondente ao parametro z\n",
    "    '''\n",
    "    #IMPLEMENTE O CÓDIGO AQUI\n",
    "    \n",
    "    return 1 / (1 + np.exp(-z))"
   ]
  },
  {
   "cell_type": "code",
   "execution_count": 16,
   "metadata": {},
   "outputs": [
    {
     "data": {
      "text/plain": [
       "array([0.5       , 0.62245933, 0.73105858, 0.58248914, 0.70847727])"
      ]
     },
     "execution_count": 16,
     "metadata": {},
     "output_type": "execute_result"
    }
   ],
   "source": [
    "sigmoid(np.array([0, 0.5, 1, 0.333, 0.888]))"
   ]
  },
  {
   "cell_type": "markdown",
   "metadata": {},
   "source": [
    "### Validação\n",
    "<blockquote>\n",
    "sigmoid(np.array([0, 0.5, 1, 0.333, 0.888]))\n",
    "</blockquote>"
   ]
  },
  {
   "cell_type": "markdown",
   "metadata": {},
   "source": [
    "### Resultado esperado:\n",
    "<center>\n",
    "array([0.5       , 0.62245933, 0.73105858, 0.58248914, 0.70847727])\n",
    "</center>"
   ]
  },
  {
   "cell_type": "code",
   "execution_count": 19,
   "metadata": {},
   "outputs": [],
   "source": [
    "#CÉLULA MLP-LIB-04\n",
    "def tanh_function(z) :\n",
    "    '''\n",
    "    Esta função faz o cálculo da função de ativação do tipo tangente hiperbolica\n",
    "    \n",
    "    Parametros\n",
    "    -----------\n",
    "    z -> valor do parametro a ser calculado em f(z)\n",
    "    \n",
    "    Retorno\n",
    "    -----------  \n",
    "    valor da função tangente hiperbolica correspondente ao parametro z\n",
    "    '''\n",
    "    #IMPLEMENTE O CÓDIGO AQUI\n",
    "    return ((np.exp(z) - np.exp(-z))/(np.exp(z) + np.exp(-z)))"
   ]
  },
  {
   "cell_type": "code",
   "execution_count": 20,
   "metadata": {},
   "outputs": [
    {
     "data": {
      "text/plain": [
       "array([-0.96402758, -0.76159416, -0.46211716,  0.        ,  0.46211716,\n",
       "        0.76159416,  0.96402758])"
      ]
     },
     "execution_count": 20,
     "metadata": {},
     "output_type": "execute_result"
    }
   ],
   "source": [
    "tanh_function(np.array([-2, -1, -0.5, 0, 0.5, 1, 2]))"
   ]
  },
  {
   "cell_type": "markdown",
   "metadata": {},
   "source": [
    "### Validação\n",
    "<blockquote>\n",
    "tanh_function(np.array([-2, -1, -0.5, 0, 0.5, 1, 2]))\n",
    "</blockquote>"
   ]
  },
  {
   "cell_type": "markdown",
   "metadata": {},
   "source": [
    "### Resultado esperado:\n",
    "<center>\n",
    "array([-0.96402758, -0.76159416, -0.46211716,  0.        ,  0.46211716,\n",
    "        0.76159416,  0.96402758])\n",
    "</center>"
   ]
  },
  {
   "cell_type": "markdown",
   "metadata": {},
   "source": [
    "# 3 - Implementação do algoritmo de treinamento do MLP\n",
    "\n",
    "Utilizando Jupyter e NumPy: para o problema apresentado, complete o código para construir as funções de treinamento do MLP."
   ]
  },
  {
   "cell_type": "markdown",
   "metadata": {},
   "source": [
    "## 3.1 - Implemente o código que realiza o forward step do MLP"
   ]
  },
  {
   "cell_type": "code",
   "execution_count": 21,
   "metadata": {},
   "outputs": [],
   "source": [
    "#CÉLULA MLP-LIB-04\n",
    "def forward_step(vInputs, vWeights, vBias) : \n",
    "    '''\n",
    "    Processa o forward step\n",
    "    \n",
    "    Parametros\n",
    "    -----------\n",
    "    vInputs  -> vetor/matriz com as entradas\n",
    "    vWeights -> vetor/matriz com os vetores de pesos (é um vetor de matrizes)\n",
    "    vBias    -> vetor/matriz com os vetores de bias  (é um vetor de matrizes)\n",
    "    \n",
    "    Retorno\n",
    "    -------\n",
    "    Este método retorna uma tupla contendo a saída das camadas do MLP\n",
    "    (Y_1, Y_2, Y_3)\n",
    "    '''\n",
    "    \n",
    "    W_1 = vWeights[0]\n",
    "    W_2 = vWeights[1]\n",
    "    W_3 = vWeights[2]\n",
    "    \n",
    "    B_1 = vBias[0]\n",
    "    B_2 = vBias[1]\n",
    "    B_3 = vBias[2]\n",
    "    \n",
    "    #FORWARD STEP\n",
    "    #Calcula saída do MLP para todas as amostras, de uma vez.\n",
    "    Y_0 = vInputs #so para ficar uniforme a nomenclatura dos termos\n",
    "    \n",
    "    #IMPLEMENTE O CÓDIGO AQUI - INICIO\n",
    "    I_1 = W_1 @ Y_0 - B_1\n",
    "    Y_1 = tanh_function(I_1)\n",
    "    \n",
    "    I_2 = W_2 @ Y_1 - B_2\n",
    "    Y_2 = tanh_function(I_2)\n",
    "    \n",
    "    I_3 = W_3 @ Y_2 - B_3\n",
    "    Y_3 = tanh_function(I_3)\n",
    "    \n",
    "    #IMPLEMENTE O CÓDIGO AQUI - FIM\n",
    "\n",
    "    #FIM DO FORWARD STEP\n",
    "    \n",
    "    return (Y_1, Y_2, Y_3)"
   ]
  },
  {
   "cell_type": "code",
   "execution_count": 22,
   "metadata": {},
   "outputs": [
    {
     "name": "stdout",
     "output_type": "stream",
     "text": [
      "Y1=[[0.26362484]\n",
      " [0.35399171]\n",
      " [0.04995837]]\n",
      "--------------\n",
      "Y2=[[0.73474632]\n",
      " [0.53369845]]\n",
      "--------------\n",
      "Y3=[[0.63791268]]\n",
      "--------------\n"
     ]
    }
   ],
   "source": [
    "n1 = 3 \n",
    "n2 = 2 \n",
    "n3 = 1 \n",
    "vInputs = np.array([[0.3, 0.7]]) \n",
    "B_1 = np.array([[0.2],[0.3],[0.4]]) \n",
    "B_2 = np.array([[-0.7],[-0.3]]) \n",
    "B_3 = np.array([[0.1]]) \n",
    "W_1 = np.array([[0.4, 0.5],[0.6, 0.7],[0.8, 0.3]]) \n",
    "W_2 = np.array([[0.6, 0.2, 0.2],[0.7, 0.2, 0.8]]) \n",
    "W_3 = np.array([[0.8, 0.5]]) \n",
    "(Y_1, Y_2, Y_3) = forward_step(vInputs.T, [W_1, W_2, W_3], [B_1, B_2, B_3]) \n",
    "print('Y1={}'.format(Y_1)) \n",
    "print('--------------') \n",
    "print('Y2={}'.format(Y_2)) \n",
    "print('--------------') \n",
    "print('Y3={}'.format(Y_3)) \n",
    "print('--------------')"
   ]
  },
  {
   "cell_type": "markdown",
   "metadata": {},
   "source": [
    "### Validação\n",
    "<blockquote>\n",
    "    n1 = 3\n",
    "    <br>\n",
    "    n2 = 2\n",
    "    <br>\n",
    "    n3 = 1\n",
    "    <br>\n",
    "    vInputs = np.array([[0.3, 0.7]])\n",
    "    <br>\n",
    "    B_1 = np.array([[0.2],[0.3],[0.4]])\n",
    "    <br>\n",
    "    B_2 = np.array([[-0.7],[-0.3]])\n",
    "    <br>\n",
    "    B_3 = np.array([[0.1]])\n",
    "    <br>\n",
    "    W_1 = np.array([[0.4, 0.5],[0.6, 0.7],[0.8, 0.3]])\n",
    "    <br>\n",
    "    W_2 = np.array([[0.6, 0.2, 0.2],[0.7, 0.2, 0.8]])\n",
    "    <br>\n",
    "    W_3 = np.array([[0.8, 0.5]])\n",
    "    <br>\n",
    "    (Y_1, Y_2, Y_3) = forward_step(vInputs.T, [W_1, W_2, W_3], [B_1, B_2, B_3])\n",
    "    <br>\n",
    "    print('Y1={}'.format(Y_1))\n",
    "        <br>\n",
    "    print('--------------')\n",
    "        <br>\n",
    "    print('Y2={}'.format(Y_2))\n",
    "        <br>\n",
    "    print('--------------')\n",
    "        <br>\n",
    "    print('Y3={}'.format(Y_3))\n",
    "        <br>\n",
    "    print('--------------')\n",
    "</blockquote>"
   ]
  },
  {
   "cell_type": "markdown",
   "metadata": {},
   "source": [
    "### Resultado esperado:\n",
    "<center>\n",
    "    Y1=[[0.26362484]\n",
    "     [0.35399171]\n",
    "     [0.04995837]]\n",
    "    <br>\n",
    "    --------------\n",
    "    <br>\n",
    "    Y2=[[0.73474632]\n",
    "     [0.53369845]]\n",
    "    <br>\n",
    "    --------------\n",
    "    <br>\n",
    "    Y3=[[0.63791268]]\n",
    "    <br>\n",
    "    --------------\n",
    "</center>"
   ]
  },
  {
   "cell_type": "markdown",
   "metadata": {},
   "source": [
    "## 3.2 - Implemente o código que calcula o Erro Quadrático Médio do MLP"
   ]
  },
  {
   "cell_type": "code",
   "execution_count": 27,
   "metadata": {},
   "outputs": [],
   "source": [
    "#CÉLULA MLP-LIB-05\n",
    "def calcMSE(vInputs, vOutputs, vWeights, vBias) : \n",
    "    '''\n",
    "    Calcula o Erro Quadratico Medio (Mean Squared Error) do MLP\n",
    "    \n",
    "    Parametros\n",
    "    -----------\n",
    "    vInputs  -> vetor/matriz com as entradas\n",
    "    vOutputs -> vetor/matriz com os vetores dos dados\n",
    "    vWeights -> vetor/matriz com os vetores de pesos (é um vetor de matrizes)\n",
    "    vBias    -> vetor/matriz com os vetores de bias  (é um vetor de matrizes)\n",
    "    \n",
    "    Retorno\n",
    "    -------\n",
    "    Este método retorna o valor de MSE para o conjunto de dados e pesos do MLP\n",
    "    '''\n",
    "    \n",
    "    (_, _,Y_3) = forward_step(vInputs, vWeights, vBias)\n",
    "    nSamples = vInputs.shape[1]\n",
    "\n",
    "    #IMPLEMENTE O CÓDIGO AQUI - INICIO\n",
    "    E_k = 1/2*(vOutputs - Y_3) ** 2\n",
    "    MSE = np.sum(E_k, axis = 1)/nSamples\n",
    "        \n",
    "    #IMPLEMENTE O CÓDIGO AQUI - FIM\n",
    "        \n",
    "    return np.asscalar(MSE)"
   ]
  },
  {
   "cell_type": "code",
   "execution_count": 28,
   "metadata": {},
   "outputs": [
    {
     "data": {
      "text/plain": [
       "1.2093873500459282"
      ]
     },
     "execution_count": 28,
     "metadata": {},
     "output_type": "execute_result"
    }
   ],
   "source": [
    "vInputs = np.array([[0.3, 0.7], [0.5, 0.9], [-0.3, -0.7], [-0.5, -0.9]]) \n",
    "B_1 = np.array([[0.2],[0.3],[0.4]]) \n",
    "B_2 = np.array([[-0.7],[-0.3]]) \n",
    "B_3 = np.array([[0.1]]) \n",
    "W_1 = np.array([[0.4, 0.5],[0.6, 0.7],[0.8, 0.3]]) \n",
    "W_2 = np.array([[0.6, 0.2, 0.2],[0.7, 0.2, 0.8]]) \n",
    "W_3 = np.array([[0.8, 0.5]]) \n",
    "vOutputs = np.array([[-1], [-1], [1], [1]]) \n",
    "calcMSE(vInputs.T, vOutputs.T, [W_1, W_2, W_3], [B_1, B_2, B_3])"
   ]
  },
  {
   "cell_type": "markdown",
   "metadata": {},
   "source": [
    "### Validação\n",
    "<blockquote>\n",
    "    vInputs = np.array([[0.3, 0.7], [0.5, 0.9], [-0.3, -0.7], [-0.5, -0.9]]) \n",
    "    <br>\n",
    "    B_1 = np.array([[0.2],[0.3],[0.4]]) \n",
    "    <br>\n",
    "    B_2 = np.array([[-0.7],[-0.3]]) \n",
    "    <br>\n",
    "    B_3 = np.array([[0.1]]) \n",
    "    <br>\n",
    "    W_1 = np.array([[0.4, 0.5],[0.6, 0.7],[0.8, 0.3]]) \n",
    "    <br>\n",
    "    W_2 = np.array([[0.6, 0.2, 0.2],[0.7, 0.2, 0.8]]) \n",
    "    <br>\n",
    "    W_3 = np.array([[0.8, 0.5]])\n",
    "    <br>\n",
    "    vOutputs = np.array([[-1], [-1], [1], [1]])\n",
    "    <br>\n",
    "    calcMSE(vInputs.T, vOutputs.T, [W_1, W_2, W_3], [B_1, B_2, B_3])\n",
    "</blockquote>"
   ]
  },
  {
   "cell_type": "markdown",
   "metadata": {},
   "source": [
    "### Resultado esperado:\n",
    "<center>\n",
    "    1.209387350045928\n",
    "</center>"
   ]
  }
 ],
 "metadata": {
  "kernelspec": {
   "display_name": "Python 3",
   "language": "python",
   "name": "python3"
  },
  "language_info": {
   "codemirror_mode": {
    "name": "ipython",
    "version": 3
   },
   "file_extension": ".py",
   "mimetype": "text/x-python",
   "name": "python",
   "nbconvert_exporter": "python",
   "pygments_lexer": "ipython3",
   "version": "3.7.1"
  }
 },
 "nbformat": 4,
 "nbformat_minor": 2
}
