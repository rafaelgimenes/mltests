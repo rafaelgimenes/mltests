{
 "cells": [
  {
   "cell_type": "markdown",
   "metadata": {},
   "source": [
    "<h1 align=\"center\"> Aplicações em Processamento de Linguagem Natural </h1>\n",
    "<h2 align=\"center\"> Aula 07 - Extração de Informação (Parte 2)</h2>\n",
    "<h3 align=\"center\"> Prof. Fernando Vieira da Silva MSc.</h3>"
   ]
  },
  {
   "cell_type": "markdown",
   "metadata": {},
   "source": [
    "<h2>1. Extração de Relacionamentos</h2>\n",
    "<p>A extração de relacionamentos consiste em identificar a ligação entre diversas entidades nomeadas no texto. Isso envolve mencionar qual é o tipo da ligação entre duas entidades. Considere o exemplo de sentença abaixo.</p>\n",
    "\n",
    "<p>\"Carlos Alberto de Nogueira é o morador mais antigo da Rua Praça da Alegria.\"</p>\n",
    "\n",
    "<p>Temos as entidades:</p>\n",
    "\n",
    "* Carlos Alberto de Nogueira (PESSOA)\n",
    "* Rua Praça da Alegria (LOCALIDADE)\n",
    "\n",
    "<p>Essas mesmas entidades estão relacionadas da seguinte forma:</p>\n",
    "\n",
    "[Carlos Alberto de Nogueira (PERSON); morador mais antigo; Rua Praça da Alegria (LOCALIDADE)]\n",
    "\n",
    "\n",
    "<p>Um dos mais famosos exemplos de sistema de reconhecimento é o [Never-Ending Language Learning (NELL)](http://rtw.ml.cmu.edu/), projeto desenvolvido pela Universidade Carnigie Mellon, com participação do Google e inclusive de pesquisadores brasileiros financiados pelo CNPq. Esse projeto consiste em extrair relacionamentos de milhões de páginas da internet, criando uma gigantesca base de conhecimento.</p>"
   ]
  },
  {
   "cell_type": "markdown",
   "metadata": {},
   "source": [
    "<h2>2. Métodos para identificação de relacionamentos</h2>\n",
    "\n",
    "<p>Os métodos mais comuns para identificar relacionamentos entre entidades são:</p>\n",
    "\n",
    "* **Padrões codificados manualmente**: Basta criar padrões usando expressões regulares, por exemplo, para identificar que duas entidades se relacionam. Assim como em \"X mora em Y\" pode ser um padrão para identificar o relacionamento (X, mora_em, Y) entre uma entidade X do tipo PESSOA e uma entidade Y do tipo LOCALIDADE.\n",
    "* **Métodos bootstraping**: Com poucos dados, procura por ocorrências de duas entidades em que já se conhece o relacionamento (no Google, por exemplo), e usa os modelos encontrados como modelos para o mesmo relacionamento entre outras entidades.\n",
    "* **Métodos supervisionados**: Com base num corpus anotado com relacionamentos, criar modelos que 1) detecte quando existe o relacionamento entre duas entidades e 2) classifique o tipo de relacionamento entre elas. \n",
    "\n",
    "<p>Nesta aula, vamos ver um método supervisionado para classificar o relacionamento entre entidades, usando técnicas que já utilizamos em aulas anteriores.</p>\n",
    "\n",
    "<p>Para isso, utilizaremos alguns atributos mais comuns para o problema, como:</p>\n",
    "\n",
    "* Bag of Words/LSA\n",
    "* Flags indicadores dos tipos das entidades\n",
    "* Número de palavras entre as duas entidades\n",
    "* Flag indicando se o texto de uma entidade é composto pelo texto da outra\n",
    "* POS tags\n",
    "* etc\n",
    "\n"
   ]
  },
  {
   "cell_type": "markdown",
   "metadata": {},
   "source": [
    "<h2>3. Criando um Modelo Supervisionado</h2>\n",
    "<p> Vamos utilizar o corpus [Figure Eight: Medical Sentence Summary](https://www.kaggle.com/kmader/figure-eight-medical-sentence-summary), que possui diversas sentenças extraídas do PubMed, com entidades anotadas, assim como seus tipos de relacionamento.</p>"
   ]
  },
  {
   "cell_type": "code",
   "execution_count": null,
   "metadata": {},
   "outputs": [],
   "source": [
    "import pandas as pd\n",
    "\n",
    "df_train = pd.read_csv('../input/figure-eight-medical-sentence-summary/train.csv')\n",
    "df_test = pd.read_csv('../input/figure-eight-medical-sentence-summary/test.csv')\n",
    "\n",
    "df_train.head(20)"
   ]
  },
  {
   "cell_type": "code",
   "execution_count": null,
   "metadata": {},
   "outputs": [],
   "source": [
    "df_train['relation'].unique()"
   ]
  },
  {
   "cell_type": "markdown",
   "metadata": {},
   "source": [
    "<p>Transformamos as sentenças e tipos de relacionamento em matrizes numpy. Também binarizamos os rótulos dos relacionamentos, para utilizarmos no nosso classificador logo mais.</p>"
   ]
  },
  {
   "cell_type": "code",
   "execution_count": null,
   "metadata": {},
   "outputs": [],
   "source": [
    "import numpy as np\n",
    "\n",
    "x_train = df_train['sentence'].as_matrix()\n",
    "y_train = df_train['relation'].as_matrix()\n",
    "\n",
    "from sklearn.preprocessing import label_binarize\n",
    "\n",
    "y_train = label_binarize(y_train, classes=df_train['relation'].unique())\n",
    "\n",
    "print(x_train[:10])\n",
    "print(y_train[:10])"
   ]
  },
  {
   "cell_type": "markdown",
   "metadata": {},
   "source": [
    "<p>Como não temos os tipos das entidades, mas sabemos que se trata de nomes de medicamentos e doenças na maioria dos casos, não utilizaremos o tipo das entidades como atributos, mas utilizaremos os POS tags de todas as palavras entre as entidades. Vamos criar outras matrizes com esses atributos. </p>\n",
    "\n",
    "<p>Para os POS Tags, vamos fazer algo parecido ao chunking sugerido em https://courses.cs.washington.edu/courses/cse517/13wi/slides/cse517wi13-RelationExtraction.pdf, mas ao invés de usar chunking, vamos criar 3-grams desses POS tags para simplificar.</p>"
   ]
  },
  {
   "cell_type": "code",
   "execution_count": null,
   "metadata": {},
   "outputs": [],
   "source": [
    "x_train_sub_list = []\n",
    "\n",
    "for i, row in df_train.iterrows():\n",
    "    pos_t1 = row['sentence'].find(row['term1'])\n",
    "    len_t1 = len(row['term1'])\n",
    "    \n",
    "    pos_t2 = row['sentence'].find(row['term2'])    \n",
    "    \n",
    "    x_train_sub_list.append(row['sentence'][pos_t1+len_t1:pos_t2])\n",
    "    \n",
    "\n",
    "x_train_sub = np.array(x_train_sub_list)\n",
    "\n",
    "print(x_train_sub[:10])"
   ]
  },
  {
   "cell_type": "markdown",
   "metadata": {},
   "source": [
    "<p>Agora vamos definir duas funções de tokenização: uma para tokenizar bag-of-words e outra para tokenizar os POS tags</p>"
   ]
  },
  {
   "cell_type": "code",
   "execution_count": null,
   "metadata": {},
   "outputs": [],
   "source": [
    "from nltk import pos_tag\n",
    "from nltk.corpus import stopwords\n",
    "from nltk.stem import WordNetLemmatizer\n",
    "from nltk.tokenize import word_tokenize\n",
    "import string\n",
    "from nltk.corpus import wordnet\n",
    "\n",
    "def my_tokenizer_pos(doc):\n",
    "    words = word_tokenize(doc)\n",
    "    \n",
    "    pos_tags = pos_tag(words)\n",
    "    \n",
    "    return [pos[1] for pos in pos_tags]\n",
    "\n",
    "# testando nossa função:\n",
    "\n",
    "for x in x_train_sub[:10]:\n",
    "    print(my_tokenizer_pos(x))"
   ]
  },
  {
   "cell_type": "code",
   "execution_count": null,
   "metadata": {},
   "outputs": [],
   "source": [
    "stopwords_list = stopwords.words('english')\n",
    "\n",
    "lemmatizer = WordNetLemmatizer()\n",
    "\n",
    "def my_tokenizer_bow(doc):\n",
    "    words = word_tokenize(doc)\n",
    "    \n",
    "    pos_tags = pos_tag(words)\n",
    "    \n",
    "    non_stopwords = [w for w in pos_tags if not w[0].lower() in stopwords_list]\n",
    "    \n",
    "    non_punctuation = [w for w in non_stopwords if not w[0] in string.punctuation]\n",
    "    \n",
    "    lemmas = []\n",
    "    for w in non_punctuation:\n",
    "        if w[1].startswith('J'):\n",
    "            pos = wordnet.ADJ\n",
    "        elif w[1].startswith('V'):\n",
    "            pos = wordnet.VERB\n",
    "        elif w[1].startswith('N'):\n",
    "            pos = wordnet.NOUN\n",
    "        elif w[1].startswith('R'):\n",
    "            pos = wordnet.ADV\n",
    "        else:\n",
    "            pos = wordnet.NOUN\n",
    "        \n",
    "        lemmas.append(lemmatizer.lemmatize(w[0], pos))\n",
    "\n",
    "    return lemmas"
   ]
  },
  {
   "cell_type": "markdown",
   "metadata": {},
   "source": [
    "<p>Vamos reaproveitar a classe para seleção de atributos usando SVD.</p>"
   ]
  },
  {
   "cell_type": "code",
   "execution_count": null,
   "metadata": {},
   "outputs": [],
   "source": [
    "from sklearn.decomposition import TruncatedSVD\n",
    "\n",
    "class SVDDimSelect(object):\n",
    "    def fit(self, X, y=None):        \n",
    "        try:\n",
    "            self.svd_transformer = TruncatedSVD(n_components=round(X.shape[1]/2))\n",
    "            self.svd_transformer.fit(X)\n",
    "        \n",
    "            cummulative_variance = 0.0\n",
    "            k = 0\n",
    "            for var in sorted(self.svd_transformer.explained_variance_ratio_)[::-1]:\n",
    "                cummulative_variance += var\n",
    "                if cummulative_variance >= 0.5:\n",
    "                    break\n",
    "                else:\n",
    "                    k += 1\n",
    "                \n",
    "            self.svd_transformer = TruncatedSVD(n_components=k)\n",
    "        except Exception as ex:\n",
    "            print(ex)\n",
    "            \n",
    "        return self.svd_transformer.fit(X)\n",
    "    \n",
    "    def transform(self, X, Y=None):\n",
    "        return self.svd_transformer.transform(X)\n",
    "        \n",
    "    def get_params(self, deep=True):\n",
    "        return {}"
   ]
  },
  {
   "cell_type": "markdown",
   "metadata": {},
   "source": [
    "<p>Agora vamos criar nosso Pipeline. Em resumo, vamos usar o TFIDF Vectorizer e o nosso POS Tagger em paralelo, e depois juntar os atributos para redimensionar usando o SVD.</p>"
   ]
  },
  {
   "cell_type": "code",
   "execution_count": null,
   "metadata": {},
   "outputs": [],
   "source": [
    "from sklearn.feature_extraction.text import TfidfVectorizer\n",
    "from sklearn.pipeline import Pipeline\n",
    "from sklearn.pipeline import FeatureUnion\n",
    "from sklearn.linear_model import LogisticRegression\n",
    "from sklearn.model_selection import RandomizedSearchCV\n",
    "from sklearn.multiclass import OneVsRestClassifier\n",
    "from sklearn.feature_extraction.text import CountVectorizer\n",
    "from sklearn.feature_extraction.text import TfidfTransformer\n",
    "import scipy\n",
    "\n",
    "clf = OneVsRestClassifier(LogisticRegression(random_state=0, solver='lbfgs', multi_class='multinomial'))\n",
    "\n",
    "\n",
    "my_pipeline = Pipeline([\n",
    "                        ('union', FeatureUnion([('bow', TfidfVectorizer(tokenizer=my_tokenizer_bow)),\\\n",
    "                                                ('pos', Pipeline([('pos-vect', CountVectorizer(tokenizer=my_tokenizer_pos)), \\\n",
    "                                                         ('pos-tfidf', TfidfTransformer())]))\n",
    "                                               ])),\\\n",
    "                       ('svd', SVDDimSelect()), \\\n",
    "                       ('clf', clf)])\n",
    "\n",
    "par = {'clf__estimator__C' : np.logspace(-4, 4, 20)}\n",
    "\n",
    "hyperpar_selector = RandomizedSearchCV(my_pipeline, par, cv=3, scoring='f1_weighted', n_jobs=1, n_iter=20)"
   ]
  },
  {
   "cell_type": "markdown",
   "metadata": {},
   "source": [
    "<p>Agora vamos treinar os algoritmos</p>"
   ]
  },
  {
   "cell_type": "code",
   "execution_count": null,
   "metadata": {},
   "outputs": [],
   "source": [
    "print(x_train_sub.shape)\n",
    "print(y_train.shape)\n",
    "\n",
    "hyperpar_selector.fit(X=x_train_sub, y=y_train)"
   ]
  },
  {
   "cell_type": "markdown",
   "metadata": {},
   "source": []
  },
  {
   "cell_type": "code",
   "execution_count": null,
   "metadata": {},
   "outputs": [],
   "source": [
    "x_test = df_test['sentence'].as_matrix()\n",
    "y_test = df_test['relation'].as_matrix()\n",
    "\n",
    "y_test = label_binarize(y_test, classes=df_train['relation'].unique())\n",
    "\n",
    "x_test_sub_list = []\n",
    "\n",
    "for i, row in df_test.iterrows():\n",
    "    pos_t1 = row['sentence'].find(row['term1'])\n",
    "    pos_t2 = row['sentence'].find(row['term2'])  \n",
    "    \n",
    "    if pos_t1 < pos_t2:\n",
    "        len_t1 = len(row['term1'])\n",
    "        x_test_sub_list.append(row['sentence'][pos_t1+len_t1:pos_t2])\n",
    "    else:\n",
    "        len_t2 = len(row['term2'])\n",
    "        x_test_sub_list.append(row['sentence'][pos_t2+len_t2:pos_t1])\n",
    "    \n",
    "    \n",
    "x_test_sub = np.array(x_test_sub_list)"
   ]
  },
  {
   "cell_type": "code",
   "execution_count": null,
   "metadata": {},
   "outputs": [],
   "source": [
    "y_predicted = hyperpar_selector.predict(x_test)"
   ]
  },
  {
   "cell_type": "code",
   "execution_count": null,
   "metadata": {},
   "outputs": [],
   "source": [
    "from sklearn.metrics import classification_report\n",
    "\n",
    "print(classification_report(y_test, y_predicted, target_names=df_train['relation'].unique()))"
   ]
  },
  {
   "cell_type": "markdown",
   "metadata": {},
   "source": [
    "<p>\n",
    "</p>"
   ]
  },
  {
   "cell_type": "markdown",
   "metadata": {},
   "source": [
    "<p><b>Exercício 7:</b> Treine um modelo de extração de relacionamentos em Português, utilizando o corpus extraído do DBPedia e com relacionamentos entre pares de entidades anotadas.</p>"
   ]
  },
  {
   "cell_type": "code",
   "execution_count": 43,
   "metadata": {},
   "outputs": [
    {
     "ename": "TypeError",
     "evalue": "object of type 'builtin_function_or_method' has no len()",
     "output_type": "error",
     "traceback": [
      "\u001b[0;31m---------------------------------------------------------------------------\u001b[0m",
      "\u001b[0;31mTypeError\u001b[0m                                 Traceback (most recent call last)",
      "\u001b[0;32m<ipython-input-43-c3f01abfcb01>\u001b[0m in \u001b[0;36m<module>\u001b[0;34m()\u001b[0m\n\u001b[1;32m      5\u001b[0m \u001b[0;34m\u001b[0m\u001b[0m\n\u001b[1;32m      6\u001b[0m \u001b[0;32mwhile\u001b[0m \u001b[0mline\u001b[0m\u001b[0;34m:\u001b[0m\u001b[0;34m\u001b[0m\u001b[0m\n\u001b[0;32m----> 7\u001b[0;31m     \u001b[0;32mif\u001b[0m \u001b[0;34m(\u001b[0m\u001b[0mlen\u001b[0m\u001b[0;34m(\u001b[0m\u001b[0mline\u001b[0m\u001b[0;34m)\u001b[0m \u001b[0;34m>\u001b[0m \u001b[0;36m1\u001b[0m\u001b[0;34m)\u001b[0m\u001b[0;34m:\u001b[0m\u001b[0;34m\u001b[0m\u001b[0m\n\u001b[0m\u001b[1;32m      8\u001b[0m         \u001b[0mwords\u001b[0m \u001b[0;34m=\u001b[0m \u001b[0mline\u001b[0m\u001b[0;34m.\u001b[0m\u001b[0msplit\u001b[0m\u001b[0;34m(\u001b[0m\u001b[0;34m':'\u001b[0m\u001b[0;34m)\u001b[0m\u001b[0;34m\u001b[0m\u001b[0m\n\u001b[1;32m      9\u001b[0m         \u001b[0;32mif\u001b[0m \u001b[0mlen\u001b[0m\u001b[0;34m(\u001b[0m\u001b[0mwords\u001b[0m\u001b[0;34m)\u001b[0m \u001b[0;34m>=\u001b[0m \u001b[0;36m2\u001b[0m\u001b[0;34m:\u001b[0m\u001b[0;34m\u001b[0m\u001b[0m\n",
      "\u001b[0;31mTypeError\u001b[0m: object of type 'builtin_function_or_method' has no len()"
     ]
    }
   ],
   "source": [
    "f = open('../input/dbpedia-with-entity-relations-in-portuguese/DBpediaRelations-PT-0.2.txt', 'r') \n",
    "line = f.readline    \n",
    "\n",
    "dict = {\"Sentences\": [], \"Term1\": [], \"Term2\": [], \"Relation\": []}\n",
    "\n",
    "while line:\n",
    "    if len(line) > 1:\n",
    "        words = line.split(':')\n",
    "        if len(words) >= 2:\n",
    "            if words[0].strip == 'SENTECE':\n",
    "                dict[\"Sentence\"].append(\":\".join(words[1:]))\n",
    "            elif words[0].strip == 'ENTITY1':\n",
    "                dict[\"Term1\"].append(\":\".join(words[1:]))\n",
    "            elif((words[0].strip == 'ENTITY2')):\n",
    "                dict[\"Term2\"].append(\":\".join(words[1:]))\n",
    "            elif((words[0].strip == 'REL TYPE')):\n",
    "                dict[\"Relation\"].append(\":\".join(words[1:]))\n",
    "    line = f.readline()\n",
    "    \n",
    "f.close()\n",
    "            "
   ]
  },
  {
   "cell_type": "code",
   "execution_count": 39,
   "metadata": {},
   "outputs": [],
   "source": [
    "\n",
    "\n",
    "\n",
    "    "
   ]
  },
  {
   "cell_type": "code",
   "execution_count": 42,
   "metadata": {},
   "outputs": [
    {
     "data": {
      "text/plain": [
       "{'Sentences': [], 'Term1': [], 'Term2': [], 'Relation': []}"
      ]
     },
     "execution_count": 42,
     "metadata": {},
     "output_type": "execute_result"
    }
   ],
   "source": [
    "dict"
   ]
  },
  {
   "cell_type": "code",
   "execution_count": null,
   "metadata": {},
   "outputs": [],
   "source": []
  }
 ],
 "metadata": {
  "kernelspec": {
   "display_name": "Python 3",
   "language": "python",
   "name": "python3"
  },
  "language_info": {
   "codemirror_mode": {
    "name": "ipython",
    "version": 3
   },
   "file_extension": ".py",
   "mimetype": "text/x-python",
   "name": "python",
   "nbconvert_exporter": "python",
   "pygments_lexer": "ipython3",
   "version": "3.6.5"
  }
 },
 "nbformat": 4,
 "nbformat_minor": 1
}
