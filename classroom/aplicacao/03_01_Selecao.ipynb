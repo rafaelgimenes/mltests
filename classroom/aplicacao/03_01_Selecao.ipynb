{
 "cells": [
  {
   "cell_type": "markdown",
   "metadata": {},
   "source": [
    "## Redução de Dimensionalidade e Seleção de atributos\n",
    "\n",
    "Foi visto anteriormente sobre a redução de dimensionalidade, onde algoritmos não-supervisionados (como o PCA) são capazes de condensar informações em um número menor de dimensão. No entanto, uma confusão que normalmente acontece com as terminologias, é a distinção entre selecionar atributos e reduzir dimensionalidade. Obviamente que a seleção de atributos acarretará em um número menor de dimensões, mas diferente da redução de dimensionalidade, a seleção de atributos descarta atributos que não são julgados como relevante para o problema, enquanto a redução condensa a informação em um espaço com menos dimensões.\n",
    "\n",
    "---\n",
    "\n",
    "Será utilizado o dataset digits conhecido no meio de aprendizado de máquina, importado diretamente do scikit-learn. Em seguida, serão aplicados PCA e seleção de atributos para analisar a diferença entre eles."
   ]
  },
  {
   "cell_type": "code",
   "execution_count": 1,
   "metadata": {},
   "outputs": [],
   "source": [
    "from sklearn.decomposition import PCA\n",
    "from sklearn import datasets\n",
    "\n",
    "digits = datasets.load_digits()\n",
    "X = digits.data\n",
    "y = digits.target"
   ]
  },
  {
   "cell_type": "code",
   "execution_count": 31,
   "metadata": {},
   "outputs": [
    {
     "data": {
      "text/plain": [
       "1"
      ]
     },
     "execution_count": 31,
     "metadata": {},
     "output_type": "execute_result"
    }
   ],
   "source": []
  },
  {
   "cell_type": "markdown",
   "metadata": {},
   "source": [
    "A função PCA importada de dentro do scikit-learn depende basicamente do atributo n_components. Esse atributo pode ser especificado como um inteiro, onde descreverá o número de componentes desejado, ou um valor contínuo entre 0 e 1, indicando o percentual de variância que deseja ser mantido no resultado final. O parâmetro whiten realiza uma operação matemática no sinal dos vetores extraídos no processo do PCA, e pode melhorar o resultado."
   ]
  },
  {
   "cell_type": "code",
   "execution_count": 11,
   "metadata": {},
   "outputs": [
    {
     "name": "stdout",
     "output_type": "stream",
     "text": [
      "Número original de atributos: 64\n",
      "Número reduzido de atributos: 41\n"
     ]
    }
   ],
   "source": [
    "pca = PCA(n_components=0.99, whiten=True)\n",
    "\n",
    "X_pca = pca.fit_transform(X)\n",
    "\n",
    "print('Número original de atributos:', X.shape[1])\n",
    "print('Número reduzido de atributos:', X_pca.shape[1])"
   ]
  },
  {
   "cell_type": "code",
   "execution_count": 12,
   "metadata": {},
   "outputs": [
    {
     "name": "stdout",
     "output_type": "stream",
     "text": [
      "Acurácia nos dados originais: 0.9730639730639731\n",
      "Acurácia nos dados reduzidos: 0.9747474747474747\n"
     ]
    }
   ],
   "source": [
    "from sklearn.model_selection import train_test_split\n",
    "from sklearn.linear_model import LogisticRegression\n",
    "from sklearn.metrics import accuracy_score\n",
    "\n",
    "X_train, X_test, y_train, y_test = train_test_split(X, y, test_size=0.33, random_state=42)\n",
    "\n",
    "model = LogisticRegression(solver='lbfgs', multi_class='multinomial', max_iter=2000)\n",
    "\n",
    "model.fit(X_train, y_train)\n",
    "y_pred = model.predict(X_test)\n",
    "\n",
    "print('Acurácia nos dados originais:', accuracy_score(y_test, y_pred))\n",
    "\n",
    "#######\n",
    "\n",
    "X_train, X_test, y_train, y_test = train_test_split(X_pca, y, test_size=0.33, random_state=42)\n",
    "\n",
    "model = LogisticRegression(solver='lbfgs', multi_class='multinomial', max_iter=2000)\n",
    "\n",
    "model.fit(X_train, y_train)\n",
    "y_pred = model.predict(X_test)\n",
    "\n",
    "print('Acurácia nos dados reduzidos:', accuracy_score(y_test, y_pred))"
   ]
  },
  {
   "cell_type": "markdown",
   "metadata": {},
   "source": [
    "### Seleção de atributos\n",
    "\n",
    "A seleção de atributos não é um processo não-supervisionado, igual a redução de dimensionalidade. É feita uma análise diretamente relacionada com o rótulo da amostra, portanto é supervisionado. Uma das estratégias mais comuns de seleção de atributos é teste de valor ANOVA. Esse teste identifica se existe algum valor significamente diferente da relação entre atributo e rótulo. Os atributos que são muito diferentes nessa relação, podem ser descartados.\n",
    "\n",
    "Lembrando sempre de não dar informações do teste para a seleção de atributos, para não virar um tipo de trapaça."
   ]
  },
  {
   "cell_type": "code",
   "execution_count": 19,
   "metadata": {},
   "outputs": [
    {
     "name": "stderr",
     "output_type": "stream",
     "text": [
      "C:\\ProgramData\\Anaconda3\\lib\\site-packages\\sklearn\\feature_selection\\univariate_selection.py:114: UserWarning: Features [ 0 32 39] are constant.\n",
      "  UserWarning)\n",
      "C:\\ProgramData\\Anaconda3\\lib\\site-packages\\sklearn\\feature_selection\\univariate_selection.py:115: RuntimeWarning: invalid value encountered in true_divide\n",
      "  f = msb / msw\n"
     ]
    },
    {
     "name": "stdout",
     "output_type": "stream",
     "text": [
      "Número original de atributos: 64\n",
      "Número reduzido de atributos: 40\n",
      "Acurácia nos dados originais: 0.9730639730639731\n",
      "Acurácia nos dados kbest: 0.9646464646464646\n"
     ]
    },
    {
     "name": "stderr",
     "output_type": "stream",
     "text": [
      "C:\\ProgramData\\Anaconda3\\lib\\site-packages\\sklearn\\linear_model\\logistic.py:758: ConvergenceWarning: lbfgs failed to converge. Increase the number of iterations.\n",
      "  \"of iterations.\", ConvergenceWarning)\n"
     ]
    }
   ],
   "source": [
    "from sklearn.preprocessing import StandardScaler\n",
    "from sklearn.feature_selection import SelectKBest\n",
    "from sklearn.feature_selection import f_classif\n",
    "\n",
    "X_train, X_test, y_train, y_test = train_test_split(X, y, test_size=0.33, random_state=42)\n",
    "\n",
    "#sc = StandardScaler()\n",
    "#X_std = sc.fit_transform(X_train)\n",
    "\n",
    "fvalue_selector = SelectKBest(f_classif, k=40)\n",
    "X_kbest = fvalue_selector.fit_transform(X_train, y_train)\n",
    "\n",
    "print('Número original de atributos:', X.shape[1])\n",
    "print('Número reduzido de atributos:', X_kbest.shape[1])\n",
    "\n",
    "model = LogisticRegression(solver='lbfgs', multi_class='multinomial', max_iter=2000)\n",
    "model.fit(X_train, y_train)\n",
    "y_pred = model.predict(X_test)\n",
    "print('Acurácia nos dados originais:', accuracy_score(y_test, y_pred))\n",
    "\n",
    "\n",
    "model = LogisticRegression(solver='lbfgs', multi_class='multinomial', max_iter=2000)\n",
    "model.fit(X_kbest, y_train)\n",
    "X_test_kbest = fvalue_selector.transform(X_test)\n",
    "y_pred = model.predict(X_test_kbest)\n",
    "print('Acurácia nos dados kbest:', accuracy_score(y_test, y_pred))\n",
    "\n"
   ]
  },
  {
   "cell_type": "markdown",
   "metadata": {},
   "source": [
    "A seleção de atributos preserva os atributos sem mudar o espaço original. Nesse caso, o resultado não parece ter sido favorável (97,3 dos dados originais vs 95,7 da seleção), enquanto a **redução de dimensionalidade proporcionou 97,4.** O resultado é ligeiramente melhor, mas o volume de dados processado é menor, então são ganhos reais de aplicação."
   ]
  },
  {
   "cell_type": "markdown",
   "metadata": {},
   "source": [
    "## Exercícios\n",
    "\n",
    "1. Explore as configurações do PCA, utilizando números fixos de componentes e outros valores contínuos para a variância, e verifique se é possível obter melhores resultados utilizando a regressão logística e a separação de dados da forma como está.\n",
    "2. Explore o número de atributos na função KBest, variando sistematicamente, para provar que há ou não há um resultado melhor."
   ]
  },
  {
   "cell_type": "code",
   "execution_count": 61,
   "metadata": {},
   "outputs": [],
   "source": [
    "import warnings\n",
    "warnings.filterwarnings('ignore')\n",
    "def testPCA(vVar):\n",
    "    for i in vVar:\n",
    "        print('N_componentes:',i)\n",
    "        pca = PCA(n_components=i, whiten=True)\n",
    "        X_pca = pca.fit_transform(X)\n",
    "        print('Número original de atributos:', X.shape[1])\n",
    "        print('Número reduzido de atributos:', X_pca.shape[1])\n",
    "        X_train, X_test, y_train, y_test = train_test_split(X, y, test_size=0.33, random_state=42)\n",
    "        model = LogisticRegression(solver='lbfgs', multi_class='multinomial', max_iter=2000)\n",
    "        model.fit(X_train, y_train)\n",
    "        y_pred = model.predict(X_test)\n",
    "        print('Acurácia nos dados originais:', accuracy_score(y_test, y_pred))\n",
    "        #######\n",
    "        X_train, X_test, y_train, y_test = train_test_split(X_pca, y, test_size=0.33, random_state=42)\n",
    "        model = LogisticRegression(solver='lbfgs', multi_class='multinomial', max_iter=2000)\n",
    "        model.fit(X_train, y_train)\n",
    "        y_pred = model.predict(X_test)\n",
    "        print('Acurácia nos dados reduzidos:', accuracy_score(y_test, y_pred))\n",
    "        print('---------------------------')\n",
    "        \n"
   ]
  },
  {
   "cell_type": "markdown",
   "metadata": {},
   "source": [
    "***Testando Variancia de 0.94 até 0.99***"
   ]
  },
  {
   "cell_type": "code",
   "execution_count": 47,
   "metadata": {},
   "outputs": [
    {
     "name": "stdout",
     "output_type": "stream",
     "text": [
      "N_componentes: 0.94\n",
      "Número original de atributos: 64\n",
      "Número reduzido de atributos: 27\n",
      "Acurácia nos dados originais: 0.9730639730639731\n",
      "Acurácia nos dados reduzidos: 0.9612794612794613\n",
      "---------------------------\n",
      "N_componentes: 0.95\n",
      "Número original de atributos: 64\n",
      "Número reduzido de atributos: 29\n",
      "Acurácia nos dados originais: 0.9730639730639731\n",
      "Acurácia nos dados reduzidos: 0.9629629629629629\n",
      "---------------------------\n",
      "N_componentes: 0.96\n",
      "Número original de atributos: 64\n",
      "Número reduzido de atributos: 31\n",
      "Acurácia nos dados originais: 0.9730639730639731\n",
      "Acurácia nos dados reduzidos: 0.9663299663299664\n",
      "---------------------------\n",
      "N_componentes: 0.97\n",
      "Número original de atributos: 64\n",
      "Número reduzido de atributos: 34\n",
      "Acurácia nos dados originais: 0.9730639730639731\n",
      "Acurácia nos dados reduzidos: 0.9696969696969697\n",
      "---------------------------\n",
      "N_componentes: 0.98\n",
      "Número original de atributos: 64\n",
      "Número reduzido de atributos: 37\n",
      "Acurácia nos dados originais: 0.9730639730639731\n",
      "Acurácia nos dados reduzidos: 0.9663299663299664\n",
      "---------------------------\n",
      "N_componentes: 0.99\n",
      "Número original de atributos: 64\n",
      "Número reduzido de atributos: 41\n",
      "Acurácia nos dados originais: 0.9730639730639731\n",
      "Acurácia nos dados reduzidos: 0.9747474747474747\n",
      "---------------------------\n"
     ]
    }
   ],
   "source": [
    "var = [0.94,0.95,0.96,0.97,0.98,0.99]\n",
    "testPCA(var)"
   ]
  },
  {
   "cell_type": "code",
   "execution_count": 50,
   "metadata": {},
   "outputs": [
    {
     "name": "stdout",
     "output_type": "stream",
     "text": [
      "N_componentes: 20\n",
      "Número original de atributos: 64\n",
      "Número reduzido de atributos: 20\n",
      "Acurácia nos dados originais: 0.9730639730639731\n",
      "Acurácia nos dados reduzidos: 0.9528619528619529\n",
      "---------------------------\n",
      "N_componentes: 30\n",
      "Número original de atributos: 64\n",
      "Número reduzido de atributos: 30\n",
      "Acurácia nos dados originais: 0.9730639730639731\n",
      "Acurácia nos dados reduzidos: 0.9629629629629629\n",
      "---------------------------\n",
      "N_componentes: 50\n",
      "Número original de atributos: 64\n",
      "Número reduzido de atributos: 50\n",
      "Acurácia nos dados originais: 0.9730639730639731\n",
      "Acurácia nos dados reduzidos: 0.9612794612794613\n",
      "---------------------------\n",
      "N_componentes: 60\n",
      "Número original de atributos: 64\n",
      "Número reduzido de atributos: 60\n",
      "Acurácia nos dados originais: 0.9730639730639731\n",
      "Acurácia nos dados reduzidos: 0.9646464646464646\n",
      "---------------------------\n"
     ]
    }
   ],
   "source": [
    "var = [20,30,50,60]\n",
    "testPCA(var)\n"
   ]
  },
  {
   "cell_type": "code",
   "execution_count": 63,
   "metadata": {},
   "outputs": [],
   "source": [
    "def testSel(vVar):\n",
    "    for i in vVar:\n",
    "        print('kbest ',i)\n",
    "        X_train, X_test, y_train, y_test = train_test_split(X, y, test_size=0.33, random_state=42)\n",
    "\n",
    "        #sc = StandardScaler()\n",
    "        #X_std = sc.fit_transform(X_train)\n",
    "\n",
    "        fvalue_selector = SelectKBest(f_classif, k=i)\n",
    "        X_kbest = fvalue_selector.fit_transform(X_train, y_train)\n",
    "\n",
    "        print('Número original de atributos:', X.shape[1])\n",
    "        print('Número reduzido de atributos:', X_kbest.shape[1])\n",
    "\n",
    "        model = LogisticRegression(solver='lbfgs', multi_class='multinomial', max_iter=2000)\n",
    "        model.fit(X_train, y_train)\n",
    "        y_pred = model.predict(X_test)\n",
    "        print('Acurácia nos dados originais:', accuracy_score(y_test, y_pred))\n",
    "\n",
    "\n",
    "        model = LogisticRegression(solver='lbfgs', multi_class='multinomial', max_iter=2000)\n",
    "        model.fit(X_kbest, y_train)\n",
    "        X_test_kbest = fvalue_selector.transform(X_test)\n",
    "        y_pred = model.predict(X_test_kbest)\n",
    "        print('Acurácia nos dados kbest:', accuracy_score(y_test, y_pred))\n",
    "        print('--------------')"
   ]
  },
  {
   "cell_type": "code",
   "execution_count": 64,
   "metadata": {},
   "outputs": [
    {
     "name": "stdout",
     "output_type": "stream",
     "text": [
      "kbest  1\n",
      "Número original de atributos: 64\n",
      "Número reduzido de atributos: 1\n",
      "Acurácia nos dados originais: 0.9730639730639731\n",
      "Acurácia nos dados kbest: 0.23232323232323232\n",
      "--------------\n",
      "kbest  15\n",
      "Número original de atributos: 64\n",
      "Número reduzido de atributos: 15\n",
      "Acurácia nos dados originais: 0.9730639730639731\n",
      "Acurácia nos dados kbest: 0.8888888888888888\n",
      "--------------\n",
      "kbest  30\n",
      "Número original de atributos: 64\n",
      "Número reduzido de atributos: 30\n",
      "Acurácia nos dados originais: 0.9730639730639731\n",
      "Acurácia nos dados kbest: 0.9461279461279462\n",
      "--------------\n",
      "kbest  40\n",
      "Número original de atributos: 64\n",
      "Número reduzido de atributos: 40\n",
      "Acurácia nos dados originais: 0.9730639730639731\n",
      "Acurácia nos dados kbest: 0.9646464646464646\n",
      "--------------\n"
     ]
    }
   ],
   "source": [
    "var = [1,15,30,40]\n",
    "testSel(var)"
   ]
  }
 ],
 "metadata": {
  "kernelspec": {
   "display_name": "Python 3",
   "language": "python",
   "name": "python3"
  },
  "language_info": {
   "codemirror_mode": {
    "name": "ipython",
    "version": 3
   },
   "file_extension": ".py",
   "mimetype": "text/x-python",
   "name": "python",
   "nbconvert_exporter": "python",
   "pygments_lexer": "ipython3",
   "version": "3.7.1"
  }
 },
 "nbformat": 4,
 "nbformat_minor": 2
}
