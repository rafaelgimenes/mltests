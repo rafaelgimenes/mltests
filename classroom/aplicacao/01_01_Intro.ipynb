{
 "cells": [
  {
   "cell_type": "markdown",
   "metadata": {
    "_uuid": "4db6a999296e5772cda47c91dc1f1299a1253ffe"
   },
   "source": [
    "## Scikit-Learn é uma biblioteca que facilita a prototipação de modelos em aprendizado de máquina.\n",
    "\n",
    "A prototipação de modelos de aprendizado de máquina podem ser custosas se não forem utilizadas ferramentas apropriadas. Scikit-Learn se tornou a biblioteca mais comum para aprendizado de máquina em Python, e a maioria das outras bibliotecas fazem integração com ela.\n",
    "\n",
    "Essa biblioteca permite trabalhar os dados, limpá-los, criar modelos e utilizar diversos métodos de aprendizagem com poucas linhas de código."
   ]
  },
  {
   "cell_type": "markdown",
   "metadata": {
    "_uuid": "ad5234f504cc776d2e3641950e2bb883352400c7"
   },
   "source": [
    "## Carregando os dados prontos do Scikit-Learn\n",
    "\n",
    "A biblioteca também conta com algumas bases de dados clássicas embutida dentro de sua implementação, portanto sem a necessidade de fazer download de arquivos externos. Essas bases estão disponíveis no módulo sklearn.datasets. A seguir, a base de dados IRIS é carregada:"
   ]
  },
  {
   "cell_type": "code",
   "execution_count": 1,
   "metadata": {
    "_cell_guid": "b1076dfc-b9ad-4769-8c92-a6c4dae69d19",
    "_uuid": "8f2839f25d086af736a60e9eeb907d3b93b6e0e5"
   },
   "outputs": [
    {
     "name": "stdout",
     "output_type": "stream",
     "text": [
      "['setosa' 'versicolor' 'virginica']\n"
     ]
    }
   ],
   "source": [
    "from sklearn.datasets import load_iris\n",
    "\n",
    "iris = load_iris()\n",
    "print(iris.target_names)"
   ]
  },
  {
   "cell_type": "markdown",
   "metadata": {
    "_uuid": "253c57af9aca5b0ad97b7cba331733a7b61ec082"
   },
   "source": [
    "Além do atributo *target_names*, a função *load_iris()* traz muitas informações e o próprio conjunto de dados. A seguir, é mostrado como acessar os atributos e as classes, bem como informações estatísticas da base."
   ]
  },
  {
   "cell_type": "code",
   "execution_count": 2,
   "metadata": {
    "_cell_guid": "79c7e3d0-c299-4dcb-8224-4455121ee9b0",
    "_uuid": "d629ff2d2480ee46fbb7e2d37f6b5fab8052498a"
   },
   "outputs": [],
   "source": [
    "data = iris.data # atributos\n",
    "target = iris.target # classes"
   ]
  },
  {
   "cell_type": "markdown",
   "metadata": {
    "_uuid": "88561328a34d84ae409a16eee884331207d89b87"
   },
   "source": [
    "A descrição desses dados está disponível na própria página do Scikit-Learn:\n",
    "[https://scikit-learn.org/stable/datasets/index.html#iris-dataset](http://)"
   ]
  },
  {
   "cell_type": "markdown",
   "metadata": {
    "_uuid": "d47a5e6c5faf3dd89b48db709bbcd88a7cad70e9"
   },
   "source": [
    "Ao mostrar a primeira linha de dados, é possível observar que os valores são coerentes com a descrição da base, assim como é possível verificar a qual classe essa linha está associada:"
   ]
  },
  {
   "cell_type": "code",
   "execution_count": 3,
   "metadata": {
    "_uuid": "9b3633690d841f80be8dc45655a33b3dd1770d27"
   },
   "outputs": [
    {
     "name": "stdout",
     "output_type": "stream",
     "text": [
      "[5.1 3.5 1.4 0.2]\n",
      "setosa\n"
     ]
    }
   ],
   "source": [
    "print(data[0])\n",
    "print(iris.target_names[target[0]])"
   ]
  },
  {
   "cell_type": "markdown",
   "metadata": {
    "_uuid": "9ffc8e815993d8a9da86fa40b4ce2fb913b6dcd1"
   },
   "source": [
    "Um experimento simples, porém completo, é separar os dados em treino e teste; em seguida, treinar um modelo com as informações de treino e aferir a performance do modelo no conjunto de teste. "
   ]
  },
  {
   "cell_type": "markdown",
   "metadata": {
    "_uuid": "757070674834de5d62ef8565012dcee38da158bb"
   },
   "source": [
    "A função *train_test_split* facilita o processo de separação dados, pois é totalmente parametrizável. Essa e todas as outras funções do Scikit-Learn são bem documentadas e repletas de exemplo. Nesse caso, especificamente, a função precisa receber X e y (atributos e classe respectivamente), o tamanho da parcela que será usada para teste e o estado de aleatoriedade.\n",
    "\n",
    "O estado de aleatoriedade é um número que serve como base para gerar os outros números aleatórios. Por exemplo, essa função *train_test_split* pode embaralhar as amostras se for desejado. Esse embaralhamento depende de um gerador randômico. \n",
    "\n",
    "**Mas como tornar esse experimento reprodutível se o gerador for randômico?** Basta especificar um random_state e mantê-lo, para que todas as operações que dependam de aleatoriedade sejam \"fixas\" nesse contexto, sem variação."
   ]
  },
  {
   "cell_type": "code",
   "execution_count": 4,
   "metadata": {
    "_uuid": "a7089fb3d16d758d2b29776cd77d5c14994e6376"
   },
   "outputs": [],
   "source": [
    "# separando os dados\n",
    "from sklearn.model_selection import train_test_split\n",
    "X_train, X_test, y_train, y_test = train_test_split(data, target, test_size=0.5, random_state=42)"
   ]
  },
  {
   "cell_type": "markdown",
   "metadata": {
    "_uuid": "56fe67d690196cc0dd4919ee2267757325d124ef"
   },
   "source": [
    "Como método de aprendizagem, vamos considerar os vizinhos próximos: k-NN. Os métodos de aprendizagem, assim como várias funções de fluxo de aprendizado de máquina dentro do Scikit-Learn herdam classes que têm as seguintes funcionalidades: fit, transform, fit_transform.\n",
    "\n",
    "* Fit: Serve para ajustar um modelo aos dados\n",
    "* Transform: Serve para ajustar os dados a um modelo\n",
    "* Fit_Transform: Faz os dois anteriores de uma vez só"
   ]
  },
  {
   "cell_type": "code",
   "execution_count": 5,
   "metadata": {
    "_uuid": "f10254ddfe1fa89f9069fdd4e76e5daeead8cb33"
   },
   "outputs": [
    {
     "data": {
      "text/plain": [
       "KNeighborsClassifier(algorithm='auto', leaf_size=30, metric='minkowski',\n",
       "           metric_params=None, n_jobs=1, n_neighbors=3, p=2,\n",
       "           weights='uniform')"
      ]
     },
     "execution_count": 5,
     "metadata": {},
     "output_type": "execute_result"
    }
   ],
   "source": [
    "# treinando o modelo\n",
    "from sklearn.neighbors import KNeighborsClassifier\n",
    "knn = KNeighborsClassifier(n_neighbors=3)\n",
    "knn.fit(X_train, y_train)"
   ]
  },
  {
   "cell_type": "markdown",
   "metadata": {
    "_uuid": "3409c6046285621d85f45c72225c4e457929937d"
   },
   "source": [
    "Em seguida, é necessário verificar se o modelo treinado tem uma boa performance, utilizando o modelo para predizer os rótulos dos dados de teste e conferindo-os com o gabarito. Uma outra facilidade do Scikit-Learn é a análise de resultados com as métricas prontas.\n",
    "Mais informações podem ser obtidas em: [https://scikit-learn.org/stable/modules/classes.html#module-sklearn.metrics](http://)"
   ]
  },
  {
   "cell_type": "code",
   "execution_count": 6,
   "metadata": {
    "_uuid": "3fde4aca8f5d3edcd3a4dba76cd1c0d1f808c63f"
   },
   "outputs": [
    {
     "data": {
      "text/plain": [
       "0.9733333333333334"
      ]
     },
     "execution_count": 6,
     "metadata": {},
     "output_type": "execute_result"
    }
   ],
   "source": [
    "# predizendo\n",
    "y_pred = knn.predict(X_test)\n",
    "\n",
    "# comparando com gabarito\n",
    "from sklearn.metrics import accuracy_score\n",
    "accuracy_score(y_test, y_pred)\n"
   ]
  },
  {
   "cell_type": "markdown",
   "metadata": {
    "_uuid": "fdeab811566b905ed31c046cf4570a8952638d56"
   },
   "source": [
    "O resultado de acurácia em 98% é bastante expressivo normalmente, mas na base Iris é um resultado simplesmente satisfatório. Isso porque a base Iris é para propósitos didáticos e facilmente 'separável', então muitas configurações e mesmo outros tipos de divisão vão levar a resultados similares.\n",
    "\n",
    "Algo importante de ser analisado, e bastante facilitado pelo Scikit-Learn, é o acerto e erro por classe. Para isso, é utilizada a matriz de confusão. Na forma mais simples, ela pode ser representada pela função *confusion_matrix* . Um exemplo retirado da documentação do Scikit-Learn permite uma visualização mais agradável. Ambos exemplos são dados a seguir."
   ]
  },
  {
   "cell_type": "code",
   "execution_count": 7,
   "metadata": {
    "_uuid": "28de009bf43a35cada47682868b1f3db27a68274"
   },
   "outputs": [
    {
     "name": "stdout",
     "output_type": "stream",
     "text": [
      "[[29  0  0]\n",
      " [ 0 23  0]\n",
      " [ 0  2 21]]\n"
     ]
    }
   ],
   "source": [
    "from sklearn.metrics import confusion_matrix\n",
    "\n",
    "print(confusion_matrix(y_test, y_pred))"
   ]
  },
  {
   "cell_type": "code",
   "execution_count": 8,
   "metadata": {
    "_uuid": "473d597fe0464610f99b7798caff831d55e763a6"
   },
   "outputs": [
    {
     "data": {
      "text/plain": [
       "<Figure size 640x480 with 2 Axes>"
      ]
     },
     "metadata": {},
     "output_type": "display_data"
    },
    {
     "data": {
      "text/plain": [
       "<Figure size 640x480 with 2 Axes>"
      ]
     },
     "metadata": {},
     "output_type": "display_data"
    }
   ],
   "source": [
    "import itertools\n",
    "import numpy as np\n",
    "import matplotlib.pyplot as plt\n",
    "\n",
    "def plot_confusion_matrix(cm, classes,\n",
    "                          normalize=False,\n",
    "                          title='Matriz de confusão',\n",
    "                          cmap=plt.cm.Blues):\n",
    "    if normalize:\n",
    "        cm = cm.astype('float') / cm.sum(axis=1)[:, np.newaxis]\n",
    "\n",
    "    plt.imshow(cm, interpolation='nearest', cmap=cmap)\n",
    "    plt.title(title)\n",
    "    plt.colorbar()\n",
    "    tick_marks = np.arange(len(classes))\n",
    "    plt.xticks(tick_marks, classes, rotation=45)\n",
    "    plt.yticks(tick_marks, classes)\n",
    "\n",
    "    fmt = '.2f' if normalize else 'd'\n",
    "    thresh = cm.max() / 2.\n",
    "    for i, j in itertools.product(range(cm.shape[0]), range(cm.shape[1])):\n",
    "        plt.text(j, i, format(cm[i, j], fmt),\n",
    "                 horizontalalignment=\"center\",\n",
    "                 color=\"white\" if cm[i, j] > thresh else \"black\")\n",
    "\n",
    "    plt.ylabel('Gabarito')\n",
    "    plt.xlabel('Predição')\n",
    "    plt.tight_layout()\n",
    "\n",
    "\n",
    "# calcula a matriz de confusão\n",
    "cnf_matrix = confusion_matrix(y_test, y_pred)\n",
    "np.set_printoptions(precision=2)\n",
    "\n",
    "# Plot non-normalized confusion matrix\n",
    "plt.figure()\n",
    "plot_confusion_matrix(cnf_matrix, classes=iris.target_names,\n",
    "                      title='Matriz de confusão sem normalização')\n",
    "\n",
    "# Plot normalized confusion matrix\n",
    "plt.figure()\n",
    "plot_confusion_matrix(cnf_matrix, classes=iris.target_names, normalize=True,\n",
    "                      title='Matriz de confusão normalizada')\n",
    "\n",
    "plt.show()"
   ]
  },
  {
   "cell_type": "markdown",
   "metadata": {
    "_uuid": "8c59d94914e5d611fb8a2106dd436a90b1eaece0"
   },
   "source": [
    "Uma análise mais detalhada por classe vai mostrar que a classe setosa é relativamente fácil de classificar, mas as outras duas têm sobreposição (versicolor e virgínica), o que leva a erros no método de aprendizagem dos vizinhos próximos. Para perceber isso mais claramente, vamos visualizar graficamente a distribuição das classes.\n",
    "\n",
    "O número de dimensões é um problema a ser contornado. Visto que essa base tem 4 atributos, seria bastante complicado tentar visualizar os dados em sua forma original. **O que pode ser feito para visualizar um conjunto de dados em 2D é a redução de dimensionalidade.** Realizar isso no Scikit-Learn é relativamente simples devido à classe PCA."
   ]
  },
  {
   "cell_type": "code",
   "execution_count": 9,
   "metadata": {
    "_uuid": "af3a62f7515984c532f09e072a142cc34f83a5df"
   },
   "outputs": [
    {
     "data": {
      "text/plain": [
       "Text(0.5,1,'PCA of IRIS dataset')"
      ]
     },
     "execution_count": 9,
     "metadata": {},
     "output_type": "execute_result"
    },
    {
     "data": {
      "image/png": "[encoded data removed]",
      "text/plain": [
       "<Figure size 432x288 with 1 Axes>"
      ]
     },
     "metadata": {},
     "output_type": "display_data"
    }
   ],
   "source": [
    "from sklearn.decomposition import PCA\n",
    "pca = PCA(n_components=2)\n",
    "X_r = pca.fit_transform(data)\n",
    "\n",
    "colors = ['navy', 'turquoise', 'darkorange']\n",
    "for color, i, target_name in zip(colors, [0, 1, 2], iris.target_names):\n",
    "    plt.scatter(X_r[target == i, 0], X_r[target == i, 1], color=color, alpha=.8, label=target_name)\n",
    "plt.legend(loc='best', shadow=False, scatterpoints=1)\n",
    "plt.title('PCA of IRIS dataset')"
   ]
  },
  {
   "cell_type": "markdown",
   "metadata": {
    "_uuid": "e157753d4a76855df0b931c400b23bf71a12ca47"
   },
   "source": [
    "Essa visualização também ajuda a perceber quando um método de divisão linear teria bom resultados. É possível perceber pela imagem que uma função linear conseguiria separar facilmente a classe setosa das demais, mas apenas uma função não-linear faria esse trabalho entre a versicolor e a virgínica nessa visualização."
   ]
  },
  {
   "cell_type": "markdown",
   "metadata": {
    "_uuid": "0e42d6ef069d41f144a91a5e34a0e9e13f9fa6b8"
   },
   "source": [
    "Conclui-se aqui essa introdução sobre o Scikit-Learn, abordando alguns aspectos da biblioteca e facilidades, como:\n",
    "* leitura de dados;\n",
    "* divisão entre treino e teste;\n",
    "* utilização de método de aprendizagem;\n",
    "* métricas de avaliação de modelo; e\n",
    "* redução de dimensionalidade."
   ]
  },
  {
   "cell_type": "markdown",
   "metadata": {
    "_uuid": "13e92abbe7a5a775513753d1a0710b9eacdc7442"
   },
   "source": [
    "# Exercícios\n",
    "\n",
    "## (1) Recarregue os dados da Íris, divida o conjunto metade para treino e metade para teste. Em seguida, aplique o algoritmo KNN e verifique qual foi a acurácia obtida.\n",
    "\n",
    "## (2) Ainda com os dados separados metade a metade, analise quais parâmetros do KNN podem ser modificados e se eles melhoram o resultado de acurácia. Procure mais informações na documentação do Scikit-Learn.\n",
    "\n",
    "## (3) Exiba os dados em duas dimensões para cada conjunto (treino e teste) e verifique se a distribuição das classes continua similar à base original."
   ]
  },
  {
   "cell_type": "code",
   "execution_count": 15,
   "metadata": {},
   "outputs": [
    {
     "data": {
      "text/plain": [
       "0.9300699300699301"
      ]
     },
     "execution_count": 15,
     "metadata": {},
     "output_type": "execute_result"
    }
   ],
   "source": [
    "#1\n",
    "\n",
    "iris2 = load_iris()\n",
    "\n",
    "data2 = iris2.data # atributos\n",
    "target2 = iris2.target # classes\n",
    "X_train2, X_test2, y_train2, y_test2 = train_test_split(data2, target2, test_size=0.95, random_state=42)\n",
    "\n",
    "knn2 = KNeighborsClassifier(n_neighbors=3)\n",
    "knn2.fit(X_train2, y_train2)\n",
    "\n",
    "y_pred2 = knn2.predict(X_test2)\n",
    "\n",
    "# comparando com gabarito\n",
    "from sklearn.metrics import accuracy_score\n",
    "accuracy_score(y_test2, y_pred2)"
   ]
  },
  {
   "cell_type": "code",
   "execution_count": null,
   "metadata": {},
   "outputs": [],
   "source": []
  }
 ],
 "metadata": {
  "kernelspec": {
   "display_name": "Python 3",
   "language": "python",
   "name": "python3"
  },
  "language_info": {
   "codemirror_mode": {
    "name": "ipython",
    "version": 3
   },
   "file_extension": ".py",
   "mimetype": "text/x-python",
   "name": "python",
   "nbconvert_exporter": "python",
   "pygments_lexer": "ipython3",
   "version": "3.6.5"
  }
 },
 "nbformat": 4,
 "nbformat_minor": 1
}
