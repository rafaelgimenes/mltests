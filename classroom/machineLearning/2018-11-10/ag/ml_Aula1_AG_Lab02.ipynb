{
 "cells": [
  {
   "cell_type": "markdown",
   "metadata": {},
   "source": [
    "# Material de aula - Aprendizado de Máquina"
   ]
  },
  {
   "cell_type": "markdown",
   "metadata": {},
   "source": [
    "\n",
    "## Algoritmos Genéticos - Laboratório 02"
   ]
  },
  {
   "cell_type": "code",
   "execution_count": null,
   "metadata": {},
   "outputs": [],
   "source": [
    "#CÉLULA AG-LIB-01\n",
    "import numpy as np\n",
    "import math\n",
    "import matplotlib.pyplot as plt\n",
    "from enum import Enum\n",
    "from operator import xor\n",
    "%matplotlib inline\n",
    "\n",
    "class crossoverType(Enum) : \n",
    "    OnePoint   = 1\n",
    "    MultiPoint = 2\n",
    "    Uniform    = 3 #usa mascara\n",
    "\n",
    "\n",
    "class selectionType(Enum) : \n",
    "    roullete   = 1\n",
    "    tournament = 2\n",
    "    stochastic = 3"
   ]
  },
  {
   "cell_type": "code",
   "execution_count": null,
   "metadata": {},
   "outputs": [],
   "source": [
    "#CÉLULA AG-LIB-02\n",
    "# Plotando o gráfico da função de Fitness\n",
    "X = np.arange(-1, 2, 0.001)\n",
    "Y = (X * np.sin(10*np.pi*X) + 1)\n",
    "\n",
    "plt.figure()\n",
    "plt.plot(X, Y)\n",
    "plt.grid()\n",
    "plt.show()"
   ]
  },
  {
   "cell_type": "code",
   "execution_count": null,
   "metadata": {},
   "outputs": [],
   "source": [
    "#CÉLULA AG-LIB-03\n",
    "# Função para cálculo de escalamento e normalização de individuos\n",
    "def scale(x1) :\n",
    "    #esta função faz o escalamento de individuos dentro do intervalo [-1, 2]\n",
    "    # 22 bits para codificar precisao de 6 digitos\n",
    "    # 000000 ... 0 = -1\n",
    "    # 111111 ... 1 =  2\n",
    "\n",
    "    # ou seja, x1 em [0, 4194303] -> 2^nbits - 1\n",
    "    \n",
    "    #Teorema de Tales\n",
    "    # ( x2 - x2_min ) / ( x2_max - x2_min ) = ( x1 - x1_min ) / (x1_max - % x1_min);\n",
    "    \n",
    "    #Isolando x2, a variavel de interesse\n",
    "    # x2 = ( ( x1 - x1_min ) / (x1_max - x1_min) )* ( x2_max - x2_min ) + x2_min;\n",
    "\n",
    "    #Usando valores: x2_max = 2, x2_min = -1, x1_min =0, x1_max = 4194303\n",
    "    value = (3 * x1 / 4194303) - 1\n",
    "    return round(value, 6)"
   ]
  },
  {
   "cell_type": "code",
   "execution_count": null,
   "metadata": {},
   "outputs": [],
   "source": [
    "#CÉLULA AG-LIB-04\n",
    "# Função para cálculo de fitness (aptidão de cada individuo)\n",
    "def fitness(individual) :\n",
    "    x1 = float(scale(individual))\n",
    "    result = (x1 * np.sin(10*np.pi*x1) + 1)\n",
    "    return round(result, 6)"
   ]
  },
  {
   "cell_type": "code",
   "execution_count": null,
   "metadata": {},
   "outputs": [],
   "source": [
    "#CÉLULA AG-LIB-05\n",
    "def plot_population(P, generation):\n",
    "    \n",
    "    xmin=-1\n",
    "    xmax=2\n",
    "    ymin = -1\n",
    "    ymax = 3\n",
    "    \n",
    "    xAxis = []\n",
    "    yAxis = []\n",
    "    for individual in P : #pega os individuos na população\n",
    "        xAxis.append(scale(individual))\n",
    "        yAxis.append(fitness(individual))\n",
    "    \n",
    "    plt.figure()\n",
    "    plt.plot(xAxis, yAxis, 'bo')\n",
    "    plt.axis([xmin, xmax, ymin, ymax])\n",
    "    \n",
    "    plt.xlabel('x')\n",
    "    plt.ylabel('y')\n",
    "    sTitle = ('Populacao na geração {}'.format(generation))\n",
    "    plt.title(sTitle)\n",
    "    plt.grid()"
   ]
  },
  {
   "cell_type": "code",
   "execution_count": null,
   "metadata": {},
   "outputs": [],
   "source": [
    "#CÉLULA AG-LIB-06\n",
    "def checkStopCondition(P, stop_condition, epson):\n",
    "    y = [fitness(individual) for individual in P]\n",
    "    \n",
    "    if( abs(max(y) - min(y)) < epson) :\n",
    "        print('Todos os individuos convergiram')\n",
    "        return True\n",
    "    \n",
    "    outliers = [1 for fitness_individual in y if abs(max(y) - fitness_individual) < epson]\n",
    "    #print(len(outliers))\n",
    "    \n",
    "    if( (len(outliers) / len(P)) >= stop_condition) :\n",
    "        print('Pelo menos {}% de todos os individuos convergiram'.format(stop_condition * 100))\n",
    "        return True\n",
    "    \n",
    "    return False    "
   ]
  },
  {
   "cell_type": "markdown",
   "metadata": {},
   "source": [
    "# 1 - Criando a função de seleção natural: Roleta\n",
    "\n",
    "Utilizando Jupyter e NumPy: para a função de variável contínua apresentada, construa uma função para a seleção natural dos indivíduos através do uso de roleta.\n",
    "\n",
    "Assinatura: **def roulette(P, vFitness) :**\n",
    "\n",
    "### Esta função faz recebe uma população P e um vetor (lista) contendo os valores de aptidão dos individuos para fazer o calculo \n",
    "\n",
    "**Retorno da Função:** retorna o cromossomo vencedor ou -1 em caso de falha."
   ]
  },
  {
   "cell_type": "code",
   "execution_count": null,
   "metadata": {},
   "outputs": [],
   "source": [
    "#CÉLULA AG-LIB-07\n",
    "# Função que efetua o sorteio no estilo roleta entre 0 e aptidacao maxima acumulada\n",
    "# vFitness -> vetor com valores de aptidão alinhado com P\n",
    "\n",
    "def roulette(P, vFitness) :\n",
    "    \n",
    "    return -1"
   ]
  },
  {
   "cell_type": "code",
   "execution_count": null,
   "metadata": {},
   "outputs": [],
   "source": [
    "#Teste\n"
   ]
  },
  {
   "cell_type": "markdown",
   "metadata": {},
   "source": [
    "## Validação\n",
    "\n",
    "``\n",
    "P = [1,2,3,4,5]\n",
    "vFitness = [2, 4, 5, 9, 18]\n",
    "roulette(vFitness)\n",
    "``\n",
    "\n",
    "### Execute algumas vezes e verifique que o valor varia"
   ]
  },
  {
   "cell_type": "markdown",
   "metadata": {},
   "source": [
    "# 2 - Criando a função de seleção natural: Torneio\n",
    "\n",
    "Utilizando Jupyter e NumPy: para a função de variável contínua apresentada, construa uma função para a seleção natural dos indivíduos através do uso de torneio de 2 indivíduos.\n",
    "\n",
    "Assinatura: **def roulette(P, vFitness) :**\n",
    "\n",
    "### Esta função faz recebe uma população P para fazer o calculo \n",
    "\n",
    "**Retorno da Função:** retorna o cromossomo vencedor"
   ]
  },
  {
   "cell_type": "code",
   "execution_count": null,
   "metadata": {},
   "outputs": [],
   "source": [
    "#CÉLULA AG-LIB-08\n",
    "# Realiza o torneio de uma população P\n",
    "# Sorteia 2 inidividuos e retorna aquele com maior aptidão\n",
    "# Nada impede que os torneios possam ter mais de 2 individuos\n",
    "\n",
    "def tournament(P) :\n"
   ]
  },
  {
   "cell_type": "code",
   "execution_count": null,
   "metadata": {},
   "outputs": [],
   "source": [
    "# Teste\n"
   ]
  },
  {
   "cell_type": "markdown",
   "metadata": {},
   "source": [
    "## Validação\n",
    "\n",
    "``\n",
    "P = [1,2,3,4,5]\n",
    "vFitness = [2, 4, 5, 9, 18]\n",
    "tournament(P)\n",
    "``\n",
    "\n",
    "### Execute algumas vezes e verifique que o valor varia"
   ]
  }
 ],
 "metadata": {
  "kernelspec": {
   "display_name": "Python 3",
   "language": "python",
   "name": "python3"
  },
  "language_info": {
   "codemirror_mode": {
    "name": "ipython",
    "version": 3
   },
   "file_extension": ".py",
   "mimetype": "text/x-python",
   "name": "python",
   "nbconvert_exporter": "python",
   "pygments_lexer": "ipython3",
   "version": "3.5.2"
  }
 },
 "nbformat": 4,
 "nbformat_minor": 2
}
