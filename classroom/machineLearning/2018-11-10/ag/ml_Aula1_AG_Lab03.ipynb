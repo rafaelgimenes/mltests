{
 "cells": [
  {
   "cell_type": "markdown",
   "metadata": {},
   "source": [
    "# Material de aula - Aprendizado de Máquina"
   ]
  },
  {
   "cell_type": "markdown",
   "metadata": {},
   "source": [
    "\n",
    "## Algoritmos Genéticos - Laboratório 03"
   ]
  },
  {
   "cell_type": "code",
   "execution_count": null,
   "metadata": {},
   "outputs": [],
   "source": [
    "#CÉLULA AG-LIB-01\n",
    "import numpy as np\n",
    "import math\n",
    "import matplotlib.pyplot as plt\n",
    "from enum import Enum\n",
    "from operator import xor\n",
    "%matplotlib inline\n",
    "\n",
    "class crossoverType(Enum) : \n",
    "    OnePoint   = 1\n",
    "    MultiPoint = 2\n",
    "    Uniform    = 3 #usa mascara\n",
    "\n",
    "\n",
    "class selectionType(Enum) : \n",
    "    roullete   = 1\n",
    "    tournament = 2\n",
    "    stochastic = 3"
   ]
  },
  {
   "cell_type": "code",
   "execution_count": null,
   "metadata": {},
   "outputs": [],
   "source": [
    "#CÉLULA AG-LIB-02\n",
    "# Plotando o gráfico da função de Fitness\n",
    "X = np.arange(-1, 2, 0.001)\n",
    "Y = (X * np.sin(10*np.pi*X) + 1)\n",
    "\n",
    "plt.figure()\n",
    "plt.plot(X, Y)\n",
    "plt.grid()\n",
    "plt.show()"
   ]
  },
  {
   "cell_type": "code",
   "execution_count": null,
   "metadata": {},
   "outputs": [],
   "source": [
    "#CÉLULA AG-LIB-03\n",
    "# Função para cálculo de escalamento e normalização de individuos\n",
    "def scale(x1) :\n",
    "    #esta função faz o escalamento de individuos dentro do intervalo [-1, 2]\n",
    "    # 22 bits para codificar precisao de 6 digitos\n",
    "    # 000000 ... 0 = -1\n",
    "    # 111111 ... 1 =  2\n",
    "\n",
    "    # ou seja, x1 em [0, 4194303] -> 2^nbits - 1\n",
    "    \n",
    "    #Teorema de Tales\n",
    "    # ( x2 - x2_min ) / ( x2_max - x2_min ) = ( x1 - x1_min ) / (x1_max - % x1_min);\n",
    "    \n",
    "    #Isolando x2, a variavel de interesse\n",
    "    # x2 = ( ( x1 - x1_min ) / (x1_max - x1_min) )* ( x2_max - x2_min ) + x2_min;\n",
    "\n",
    "    #Usando valores: x2_max = 2, x2_min = -1, x1_min =0, x1_max = 4194303\n",
    "    value = (3 * x1 / 4194303) - 1\n",
    "    return round(value, 6)"
   ]
  },
  {
   "cell_type": "code",
   "execution_count": null,
   "metadata": {},
   "outputs": [],
   "source": [
    "#CÉLULA AG-LIB-04\n",
    "# Função para cálculo de fitness (aptidão de cada individuo)\n",
    "def fitness(individual) :\n",
    "    x1 = float(scale(individual))\n",
    "    result = (x1 * np.sin(10*np.pi*x1) + 1)\n",
    "    return round(result, 6)"
   ]
  },
  {
   "cell_type": "code",
   "execution_count": null,
   "metadata": {},
   "outputs": [],
   "source": [
    "#CÉLULA AG-LIB-05\n",
    "def plot_population(P, generation):\n",
    "    \n",
    "    xmin=-1\n",
    "    xmax=2\n",
    "    ymin = -1\n",
    "    ymax = 3\n",
    "    \n",
    "    xAxis = []\n",
    "    yAxis = []\n",
    "    for individual in P : #pega os individuos na população\n",
    "        xAxis.append(scale(individual))\n",
    "        yAxis.append(fitness(individual))\n",
    "    \n",
    "    plt.figure()\n",
    "    plt.plot(xAxis, yAxis, 'bo')\n",
    "    plt.axis([xmin, xmax, ymin, ymax])\n",
    "    \n",
    "    plt.xlabel('x')\n",
    "    plt.ylabel('y')\n",
    "    sTitle = ('Populacao na geração {}'.format(generation))\n",
    "    plt.title(sTitle)\n",
    "    plt.grid()"
   ]
  },
  {
   "cell_type": "code",
   "execution_count": null,
   "metadata": {},
   "outputs": [],
   "source": [
    "#CÉLULA AG-LIB-06\n",
    "def checkStopCondition(P, stop_condition, epson):\n",
    "    y = [fitness(individual) for individual in P]\n",
    "    \n",
    "    if( abs(max(y) - min(y)) < epson) :\n",
    "        print('Todos os individuos convergiram')\n",
    "        return True\n",
    "    \n",
    "    outliers = [1 for fitness_individual in y if abs(max(y) - fitness_individual) < epson]\n",
    "    #print(len(outliers))\n",
    "    \n",
    "    if( (len(outliers) / len(P)) >= stop_condition) :\n",
    "        print('Pelo menos {}% de todos os individuos convergiram'.format(stop_condition * 100))\n",
    "        return True\n",
    "    \n",
    "    return False    "
   ]
  },
  {
   "cell_type": "code",
   "execution_count": null,
   "metadata": {},
   "outputs": [],
   "source": [
    "#CÉLULA AG-LIB-07\n",
    "# Função que efetua o sorteio no estilo roleta entre 0 e aptidacao maxima acumulada\n",
    "# P        -> população de individuos\n",
    "# vFitness -> vetor com valores de aptidão alinhado com P\n",
    "\n",
    "def roulette(P, vFitness) :\n",
    "    maxFitness = sum(vFitness)\n",
    "    rouletteVal = np.random.rand() * maxFitness\n",
    "    \n",
    "    iAcumFitness = 0\n",
    "    for fitnessVal, index in zip(vFitness, range(0, len(vFitness))):\n",
    "        iAcumFitness = iAcumFitness + fitnessVal\n",
    "        if(iAcumFitness >= rouletteVal) :                \n",
    "            return P[index]\n",
    "    \n",
    "    return -1"
   ]
  },
  {
   "cell_type": "code",
   "execution_count": null,
   "metadata": {},
   "outputs": [],
   "source": [
    "#CÉLULA AG-LIB-08\n",
    "# Realiza o torneio de uma população P\n",
    "# Sorteia 2 inidividuos e retorna aquele com maior aptidão\n",
    "# Nada impede que os torneios possam ter mais de 2 individuos\n",
    "\n",
    "def tournament(P) :\n",
    "    v = np.random.randint(0, len(P), size=(2))\n",
    "    #Compara as aptidoes\n",
    "    if( fitness(P[v[0]]) >= fitness(P[v[1]])) :\n",
    "        #return P.item(v[0]) # desse jeito retorna só o valor\n",
    "        return P[v[0]] #desse jeito retorna um ndarray\n",
    "    else:\n",
    "        #return P.item(v[1]) \n",
    "        return P[v[1]]"
   ]
  },
  {
   "cell_type": "markdown",
   "metadata": {},
   "source": [
    "# 1 - Criando a função de seleção natural\n",
    "\n",
    "Utilizando Jupyter e NumPy: para a função de variável contínua apresentada, complete a implementação do algoritmo.\n",
    "\n",
    "### Esta função faz recebe uma população P, o método de seleção natural, a quantidade de candidatos selecionados e a quantidade de ponteiros para SUS. \n",
    "\n",
    "**Retorno da Função:** retorna a lista de cromossomos vencedores."
   ]
  },
  {
   "cell_type": "code",
   "execution_count": null,
   "metadata": {},
   "outputs": [],
   "source": [
    "#CÉLULA AG-LIB-10\n",
    "# P                 -> população \n",
    "# method            -> enum que indica o metodo de seleção natural\n",
    "# qty_candidates    -> quantidade de 'selecionados'\n",
    "#candidates_index   -> lista de candidatos selecionados\n",
    "# sus_qty_pointers  -> quantidade de agulhas da roleta da amostragem universal estocastica (SUS)\n",
    "\n",
    "def selectCandidates(P, method, qty_candidates, sus_qty_pointers) :\n",
    "    candidatesList = []\n",
    "    \n",
    "    #Ordena a população em termos de suas aptidões\n",
    "    #Esta ordenação é necessária para seleção em roleta ou SUS\n",
    "    vFitness = [fitness(p) for p in P]\n",
    "    p_tuple = zip(vFitness, P)    \n",
    "    sorted_by_fitness = sorted(p_tuple, key=lambda tup: tup[0])\n",
    "\n",
    "    P = []\n",
    "    vFitnessNormal = []\n",
    "    for (fitnessVal, p) in sorted_by_fitness :\n",
    "        P.append(p)\n",
    "        vFitnessNormal.append(fitnessVal)\n",
    "    \n",
    "    #IMPLEMENTAR\n",
    "    # Faça a verificação do tipo de metodo usado para seleção natural na enumeração selectionType.\n",
    "    # Execute o método apropriado e adicione os vencedores na lista 'candidatesList'\n",
    "    \n",
    "    #==================================================================#\n",
    "        \n",
    "    return candidatesList"
   ]
  },
  {
   "cell_type": "code",
   "execution_count": null,
   "metadata": {},
   "outputs": [],
   "source": [
    "#Teste\n"
   ]
  },
  {
   "cell_type": "markdown",
   "metadata": {},
   "source": [
    "## Validação\n",
    "\n",
    "``\n",
    "P = [1,2,3,4,5]\n",
    "selectCandidates(P, selectionType.tournament, 3, 2)\n",
    "``\n",
    "\n",
    "### Execute algumas vezes e verifique o resultado."
   ]
  }
 ],
 "metadata": {
  "kernelspec": {
   "display_name": "Python 3",
   "language": "python",
   "name": "python3"
  },
  "language_info": {
   "codemirror_mode": {
    "name": "ipython",
    "version": 3
   },
   "file_extension": ".py",
   "mimetype": "text/x-python",
   "name": "python",
   "nbconvert_exporter": "python",
   "pygments_lexer": "ipython3",
   "version": "3.5.2"
  }
 },
 "nbformat": 4,
 "nbformat_minor": 2
}
