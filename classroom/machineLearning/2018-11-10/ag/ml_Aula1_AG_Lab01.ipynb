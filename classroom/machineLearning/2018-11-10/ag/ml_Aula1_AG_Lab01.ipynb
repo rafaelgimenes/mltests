{
 "cells": [
  {
   "cell_type": "markdown",
   "metadata": {},
   "source": [
    "# Material de aula - Aprendizado de Máquina"
   ]
  },
  {
   "cell_type": "markdown",
   "metadata": {},
   "source": [
    "\n",
    "## Algoritmos Genéticos - Laboratório 01"
   ]
  },
  {
   "cell_type": "code",
   "execution_count": 2,
   "metadata": {},
   "outputs": [],
   "source": [
    "#CÉLULA AG-LIB-01\n",
    "import numpy as np\n",
    "import math\n",
    "import matplotlib.pyplot as plt\n",
    "from enum import Enum\n",
    "from operator import xor\n",
    "%matplotlib inline\n",
    "\n",
    "class crossoverType(Enum) : \n",
    "    OnePoint   = 1\n",
    "    MultiPoint = 2\n",
    "    Uniform    = 3 #usa mascara\n",
    "\n",
    "\n",
    "class selectionType(Enum) : \n",
    "    roullete   = 1\n",
    "    tournament = 2\n",
    "    stochastic = 3"
   ]
  },
  {
   "cell_type": "markdown",
   "metadata": {},
   "source": [
    "# 1 - Criando a função de escala\n",
    "\n",
    "Utilizando Jupyter e NumPy: para a função de variável contínua apresentada, construa uma função para o cálculo da escala do cromossomo para o domínio da função de aptidão.\n",
    "\n",
    "Assinatura: **def scale(x1) :**\n",
    "\n",
    "### Esta função faz o escalamento de individuos dentro do intervalo [-1, 2] \n",
    "Devem ser usados 22 bits para codificar precisao de 6 digitos:\n",
    "- 000000 ... 0 = -1\n",
    "- 111111 ... 1 =  2\n",
    "\n",
    "## ou seja, x1 em [0, 4194303] -> 2^nbits - 1\n",
    "\n",
    "**Retorno da Função:** valor dentro do domínio com precisão de 6 casas decimais (use a função 'round')"
   ]
  },
  {
   "cell_type": "code",
   "execution_count": 3,
   "metadata": {},
   "outputs": [
    {
     "ename": "SyntaxError",
     "evalue": "unexpected EOF while parsing (<ipython-input-3-0521c52bd729>, line 3)",
     "output_type": "error",
     "traceback": [
      "\u001b[0;36m  File \u001b[0;32m\"<ipython-input-3-0521c52bd729>\"\u001b[0;36m, line \u001b[0;32m3\u001b[0m\n\u001b[0;31m    def scale(x1) :\u001b[0m\n\u001b[0m                   ^\u001b[0m\n\u001b[0;31mSyntaxError\u001b[0m\u001b[0;31m:\u001b[0m unexpected EOF while parsing\n"
     ]
    }
   ],
   "source": [
    "#CÉLULA AG-LIB-03\n",
    "# Função para cálculo de escalamento e normalização de individuos\n",
    "def scale(x1) :\n"
   ]
  },
  {
   "cell_type": "code",
   "execution_count": 24,
   "metadata": {},
   "outputs": [],
   "source": [
    "#Teste \n"
   ]
  },
  {
   "cell_type": "markdown",
   "metadata": {},
   "source": [
    "## Validação\n",
    "``\n",
    "scale(0)\n",
    "``\n",
    "Valor esperado: -1.0\n",
    "\n",
    "\n",
    "\n",
    "``\n",
    "scale(2**20-1)\n",
    "``\n",
    "Valor esperado: -0.250001\n",
    "\n",
    "\n",
    "``\n",
    "scale(2**22-1)\n",
    "``\n",
    "Valor esperado: 2"
   ]
  },
  {
   "cell_type": "markdown",
   "metadata": {},
   "source": [
    "# 2 - Criando a função de Aptidão\n",
    "\n",
    "Utilizando Jupyter e NumPy: para a função de variável contínua apresentada, construa uma função para o cálculo do “custo” (função-custo).\n",
    "\n",
    "Assinatura: **def fitness(individual)**\n",
    "\n",
    "\n",
    "<center>\n",
    "    $\n",
    "        \\large\n",
    "         f(x,y) = x \\cdot \\left ( \\sin{10 \\cdot \\pi \\cdot x} \\right ) + 1\n",
    "    $\n",
    "</center>\n",
    "\n",
    "## Domínio da função: [-1, 2]\n",
    "\n"
   ]
  },
  {
   "cell_type": "code",
   "execution_count": 34,
   "metadata": {},
   "outputs": [
    {
     "ename": "SyntaxError",
     "evalue": "unexpected EOF while parsing (<ipython-input-34-96bca249aec8>, line 3)",
     "output_type": "error",
     "traceback": [
      "\u001b[1;36m  File \u001b[1;32m\"<ipython-input-34-96bca249aec8>\"\u001b[1;36m, line \u001b[1;32m3\u001b[0m\n\u001b[1;33m    def fitness(individual) :\u001b[0m\n\u001b[1;37m                             ^\u001b[0m\n\u001b[1;31mSyntaxError\u001b[0m\u001b[1;31m:\u001b[0m unexpected EOF while parsing\n"
     ]
    }
   ],
   "source": [
    "#CÉLULA AG-LIB-04\n",
    "# Função para cálculo de fitness (aptidão de cada individuo)\n",
    "def fitness(individual) :\n"
   ]
  },
  {
   "cell_type": "code",
   "execution_count": 35,
   "metadata": {},
   "outputs": [],
   "source": [
    "# Teste"
   ]
  },
  {
   "cell_type": "markdown",
   "metadata": {},
   "source": [
    "## Validação\n",
    "``\n",
    "fitness(0.5)\n",
    "``\n",
    "Valor esperado: 1\n",
    "\n",
    "``\n",
    "fitness(2**20-1)\n",
    "``\n",
    "Valor esperado: 1.250001\n",
    "\n",
    "\n",
    "``\n",
    "fitness(2**15-1)\n",
    "``\n",
    "Valor esperado: 0.344192"
   ]
  },
  {
   "cell_type": "markdown",
   "metadata": {},
   "source": [
    "# 2 - Desenhe o Gráfico da Função de aptidão:\n",
    "\n",
    "- Utilize np.arange para criar a região de domínio da função, com passo de 0.01\n",
    "- Desenhe a função no PLANO (X,Z) e no Plano(Y,Z)\n",
    "\n",
    "### O que você pode notar desta função?"
   ]
  },
  {
   "cell_type": "code",
   "execution_count": 36,
   "metadata": {},
   "outputs": [],
   "source": [
    "#CÉLULA AG-LIB-02\n",
    "# Plotando o gráfico da função de Fitness\n"
   ]
  }
 ],
 "metadata": {
  "kernelspec": {
   "display_name": "Python 3",
   "language": "python",
   "name": "python3"
  },
  "language_info": {
   "codemirror_mode": {
    "name": "ipython",
    "version": 3
   },
   "file_extension": ".py",
   "mimetype": "text/x-python",
   "name": "python",
   "nbconvert_exporter": "python",
   "pygments_lexer": "ipython3",
   "version": "3.6.5"
  }
 },
 "nbformat": 4,
 "nbformat_minor": 2
}
