{
 "cells": [
  {
   "cell_type": "markdown",
   "metadata": {},
   "source": [
    "# Material de aula - Aprendizado de Máquina"
   ]
  },
  {
   "cell_type": "markdown",
   "metadata": {},
   "source": [
    "\n",
    "## Particle Swarm Optimization - Laboratório 04"
   ]
  },
  {
   "cell_type": "code",
   "execution_count": 1,
   "metadata": {},
   "outputs": [],
   "source": [
    "#CÉLULA PSO-LIB-01\n",
    "import numpy as np\n",
    "import math\n",
    "import matplotlib.pyplot as plt\n",
    "from enum import Enum\n",
    "from operator import xor\n",
    "%matplotlib inline"
   ]
  },
  {
   "cell_type": "code",
   "execution_count": 2,
   "metadata": {},
   "outputs": [],
   "source": [
    "#CÉLULA PSO-LIB-02\n",
    "# Função para cálculo de fitness (aptidão de cada individuo)\n",
    "def fitness(individual) :  \n",
    "    \n",
    "    #(x, y) = scale(individual)\n",
    "    \n",
    "    x = individual[0]\n",
    "    y = individual[1]\n",
    "    \n",
    "    num = (np.sin(np.sqrt(x**2+y**2)))**2 - 0.5\n",
    "    den = (1 + 0.001*(x**2+y**2)) ** 2\n",
    "    z = 0.5 - (num / den)\n",
    "\n",
    "    return z\n"
   ]
  },
  {
   "cell_type": "code",
   "execution_count": 3,
   "metadata": {},
   "outputs": [],
   "source": [
    "#CÉLULA PSO-LIB-03\n",
    "def plot_population(P, generation):\n",
    "    \n",
    "    xmin =-100\n",
    "    xmax = 100\n",
    "    ymin =-100\n",
    "    ymax = 100\n",
    "    \n",
    "    xAxis = []\n",
    "    yAxis = []\n",
    "    for individual in P : #pega os individuos na população        \n",
    "        x = individual['X']\n",
    "        y = individual['Y']\n",
    "        \n",
    "        xAxis.append(x)\n",
    "        yAxis.append(y)\n",
    "    \n",
    "    plt.figure()\n",
    "    plt.plot(xAxis, yAxis, 'bo')\n",
    "    plt.axis([xmin, xmax, ymin, ymax])\n",
    "    \n",
    "    plt.xlabel('x')\n",
    "    plt.ylabel('y')\n",
    "    sTitle = ('Populacao na geração {}'.format(generation))\n",
    "    plt.title(sTitle)\n",
    "    plt.grid()"
   ]
  },
  {
   "cell_type": "code",
   "execution_count": 4,
   "metadata": {},
   "outputs": [],
   "source": [
    "#CÉLULA PSO-LIB-05\n",
    "def calcAllPBest(vParticles) :\n",
    "    vParticlesRet = []\n",
    "    \n",
    "    for particle in vParticles :\n",
    "        x = particle['X']\n",
    "        y = particle['Y']\n",
    "        xBest = particle['XBest']\n",
    "        yBest = particle['YBest']\n",
    "        if (fitness((x,y)) >= fitness((xBest, yBest)) ) :\n",
    "            particle['XBest'] = x\n",
    "            particle['YBest'] = y\n",
    "            \n",
    "        vParticlesRet.append(particle)\n",
    "    \n",
    "    return vParticlesRet"
   ]
  },
  {
   "cell_type": "code",
   "execution_count": 5,
   "metadata": {},
   "outputs": [],
   "source": [
    "#CÉLULA PSO-LIB-06\n",
    "# Verifica o gbest\n",
    "def calcGBest(vParticles) :\n",
    "    #Inicializa variavel\n",
    "    calcAllPBest(vParticles)\n",
    "    x = vParticles[0]['XBest']\n",
    "    y = vParticles[0]['YBest']\n",
    "    maxFitness = fitness((x,y))\n",
    "\n",
    "    for particle in vParticles :\n",
    "        x = particle['XBest']\n",
    "        y = particle['YBest']\n",
    "        currentFitness = fitness((x,y))\n",
    "        if ( currentFitness >= maxFitness ) :\n",
    "            maxFitness = currentFitness\n",
    "            gBest = {'X' : x, 'Y' : y, 'Fitness' : maxFitness}\n",
    "    \n",
    "    return gBest"
   ]
  },
  {
   "cell_type": "code",
   "execution_count": 6,
   "metadata": {},
   "outputs": [],
   "source": [
    "#CÉLULA PSO-LIB-07\n",
    "def calcPBest(particle) :   \n",
    "    x = particle['X']\n",
    "    y = particle['Y']\n",
    "    xBest = particle['XBest']\n",
    "    yBest = particle['YBest']\n",
    "    currentFitness = fitness((x,y))\n",
    "    if (currentFitness >= fitness((xBest, yBest)) ) :\n",
    "        xBest = x\n",
    "        yBest = y\n",
    "                \n",
    "    return (xBest, yBest)"
   ]
  },
  {
   "cell_type": "markdown",
   "metadata": {},
   "source": [
    "# PSO - inicio"
   ]
  },
  {
   "cell_type": "markdown",
   "metadata": {},
   "source": [
    "# 1 - Criando o enxame de partículas\n",
    "\n",
    "Utilizando Jupyter e NumPy: escreva a função que cria um enxame de partículas inicial com valores aleatórios no domínio do espaço de busca.\n",
    "\n",
    "Domínio da função: \n",
    "- xmin = -100\n",
    "- xmax =  100\n",
    "- ymin = -100\n",
    "- xmax =  100"
   ]
  },
  {
   "cell_type": "code",
   "execution_count": 7,
   "metadata": {},
   "outputs": [],
   "source": [
    "#CÉLULA PSO-MAIN-01\n",
    "#Parâmetros\n",
    "size_pop   = 100\n",
    "max_generations = 100\n",
    "stop_condition = 0.95\n",
    "\n",
    "#Limites do dominio de definição\n",
    "x_min = -100\n",
    "x_max =  100\n",
    "\n",
    "y_min = -100\n",
    "y_max =  100\n",
    "\n",
    "\n",
    "# Cada particula tem dados (X,Y, XBest, YBest)\n",
    "gBest = {'X' : 0, 'Y' : 0, 'Fitness' : 0}\n",
    "vParticles = []\n",
    "\n",
    "deltaT = 1\n",
    "c1 = 0.2\n",
    "c2 = 0.3\n",
    "w  = 0.2\n",
    "\n",
    "vMax = 500 #limitação de velocidade\n",
    "\n",
    "#r1 e r2 deverão ser extraídas de uma distribuição uniforme e são atualizadas a cada cálculo de velocidade da população\n",
    "#as melhores posições, individual e global, são obtidas através da função de fitness"
   ]
  },
  {
   "cell_type": "code",
   "execution_count": null,
   "metadata": {},
   "outputs": [],
   "source": [
    "#CÉLULA PSO-MAIN-02\n",
    "#Inicializando população\n",
    "vParticles=[]\n"
   ]
  },
  {
   "cell_type": "code",
   "execution_count": null,
   "metadata": {},
   "outputs": [],
   "source": [
    "#Teste\n"
   ]
  },
  {
   "cell_type": "markdown",
   "metadata": {},
   "source": [
    "## Validação\n",
    "\n",
    "plot_population(vParticles, 1)        \n",
    "\n",
    "print(vParticles)\n",
    "\n",
    "## Observe a disposição das particulas no dominio. Use populações menores e verifique se todas estão presentes."
   ]
  },
  {
   "cell_type": "code",
   "execution_count": null,
   "metadata": {},
   "outputs": [],
   "source": []
  }
 ],
 "metadata": {
  "kernelspec": {
   "display_name": "Python 3",
   "language": "python",
   "name": "python3"
  },
  "language_info": {
   "codemirror_mode": {
    "name": "ipython",
    "version": 3
   },
   "file_extension": ".py",
   "mimetype": "text/x-python",
   "name": "python",
   "nbconvert_exporter": "python",
   "pygments_lexer": "ipython3",
   "version": "3.6.5"
  }
 },
 "nbformat": 4,
 "nbformat_minor": 2
}
