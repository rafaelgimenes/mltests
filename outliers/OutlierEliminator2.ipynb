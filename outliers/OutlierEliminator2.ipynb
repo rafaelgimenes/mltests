{
 "cells": [
  {
   "cell_type": "code",
   "execution_count": null,
   "metadata": {},
   "outputs": [],
   "source": [
    "\n",
    "import matplotlib.pyplot as plt\n",
    "import pandas as pd\n",
    "from pyod.models.knn import KNN\n",
    "import numpy as np"
   ]
  },
  {
   "cell_type": "code",
   "execution_count": null,
   "metadata": {},
   "outputs": [],
   "source": [
    "df = pd.read_csv(\"path/tocsv\",header=0,sep=',')"
   ]
  },
  {
   "cell_type": "code",
   "execution_count": null,
   "metadata": {},
   "outputs": [],
   "source": [
    "df"
   ]
  },
  {
   "cell_type": "code",
   "execution_count": null,
   "metadata": {},
   "outputs": [],
   "source": [
    "detector = KNN(method = 'mean',n_neighbors=5, contamination = 0.1)\n",
    "detector.fit(Ds.iloc[:,:-4]) #all colmuns exluding last 4\n"
   ]
  },
  {
   "cell_type": "code",
   "execution_count": null,
   "metadata": {},
   "outputs": [],
   "source": [
    "previ = detector.labels_\n",
    "previ\n",
    "np.unique(previ, return_counts=True)"
   ]
  },
  {
   "cell_type": "code",
   "execution_count": null,
   "metadata": {},
   "outputs": [],
   "source": [
    "dfUtil = []\n",
    "dfInutil = []\n",
    "for i in range(len(previ)):\n",
    "    if previ[i] == 0:\n",
    "        dfUtil.append(i)\n",
    "    elif previzoins[i] == 1:\n",
    "        dfInutil.append(i)\n",
    "dfDu = df.iloc[dfUtil,:]\n",
    "dfDi = df.iloc[dfInutil,:]\n",
    "dfDi"
   ]
  },
  {
   "cell_type": "code",
   "execution_count": null,
   "metadata": {},
   "outputs": [],
   "source": [
    "dfDu.to_csv(\"../datasets/removedOutliers.csv\",sep=';')\n",
    "dfDi.to_csv(\"../datasets/onlyOutliers.csv\",sep=';')"
   ]
  }
 ],
 "metadata": {
  "language_info": {
   "name": "python"
  },
  "orig_nbformat": 4
 },
 "nbformat": 4,
 "nbformat_minor": 2
}
