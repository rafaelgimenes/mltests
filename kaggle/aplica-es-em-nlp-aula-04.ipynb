{
 "cells": [
  {
   "cell_type": "markdown",
   "metadata": {
    "_uuid": "a43e5be009b780511602d16cd27092010defd8ed"
   },
   "source": []
  },
  {
   "cell_type": "markdown",
   "metadata": {
    "_uuid": "1431c747ca4eb2b7369c12164d3f81f36a959d96"
   },
   "source": [
    "<h1 align=\"center\"> Aplicações em Processamento de Linguagem Natural </h1>\n",
    "<h2 align=\"center\"> Aula 04 - Classificação de Texto</h2>\n",
    "<h3 align=\"center\"> Prof. Fernando Vieira da Silva MSc.</h3>"
   ]
  },
  {
   "cell_type": "markdown",
   "metadata": {
    "_uuid": "bd84a5d56371f457ae8a987869b3ef6fa67135a3"
   },
   "source": [
    "<h2>Problema de Classificação</h2>"
   ]
  },
  {
   "cell_type": "markdown",
   "metadata": {
    "_uuid": "9dcda86d9f553ffa0cf47339d7b5b60f0dee5744"
   },
   "source": [
    "<p>Neste tutorial vamos trabalhar com um exemplo prático de problema de classificação de texto. O objetivo é identificar uma sentença como escrita \"formal\" ou \"informal\".</p>"
   ]
  },
  {
   "cell_type": "markdown",
   "metadata": {
    "_uuid": "fcfcd8a08ec7ab0d6fbe0caa72b8f1b6f853f4a6"
   },
   "source": [
    "<b>1. Obtendo o corpus</b>"
   ]
  },
  {
   "cell_type": "markdown",
   "metadata": {
    "_uuid": "1b6281b1f25821ac391ae188d9dfea135c2bfa80"
   },
   "source": [
    "<p>Para simplificar o problema, vamos continuar utilizando o corpus Gutenberg como textos formais e vamos usar mensagens de chat do corpus <b>nps_chat</b> como textos informais.</p>\n",
    "<p>Antes de tudo, vamos baixar o corpus nps_chat:</p>"
   ]
  },
  {
   "cell_type": "code",
   "execution_count": 1,
   "metadata": {
    "_uuid": "15bc1ed84dbd5bf8b5f9abefaa387d6e0334351a"
   },
   "outputs": [
    {
     "name": "stdout",
     "output_type": "stream",
     "text": [
      "[nltk_data] Downloading package nps_chat to /usr/share/nltk_data...\n",
      "[nltk_data]   Package nps_chat is already up-to-date!\n"
     ]
    },
    {
     "data": {
      "text/plain": [
       "True"
      ]
     },
     "execution_count": 1,
     "metadata": {},
     "output_type": "execute_result"
    }
   ],
   "source": [
    "import nltk\n",
    "\n",
    "nltk.download('nps_chat')"
   ]
  },
  {
   "cell_type": "code",
   "execution_count": 2,
   "metadata": {
    "_uuid": "405d211dd4759eb321016f901969ef5c8a3ff890"
   },
   "outputs": [
    {
     "name": "stdout",
     "output_type": "stream",
     "text": [
      "['10-19-20s_706posts.xml', '10-19-30s_705posts.xml', '10-19-40s_686posts.xml', '10-19-adults_706posts.xml', '10-24-40s_706posts.xml', '10-26-teens_706posts.xml', '11-06-adults_706posts.xml', '11-08-20s_705posts.xml', '11-08-40s_706posts.xml', '11-08-adults_705posts.xml', '11-08-teens_706posts.xml', '11-09-20s_706posts.xml', '11-09-40s_706posts.xml', '11-09-adults_706posts.xml', '11-09-teens_706posts.xml']\n"
     ]
    }
   ],
   "source": [
    "from nltk.corpus import nps_chat\n",
    "\n",
    "print(nps_chat.fileids())"
   ]
  },
  {
   "cell_type": "markdown",
   "metadata": {
    "_uuid": "6a052a69d2827dee142b5f4796e127d76545dc5a"
   },
   "source": [
    "<p>Agora vamos ler os dois corpus e armazenar as sentenças em uma mesma ndarray. Perceba que também teremos uma ndarray para indicar se o texto é formal ou não. Começamos armazenando o corpus em lists. Vamos usar apenas 500 elementos de cada, para fins didáticos.</p>"
   ]
  },
  {
   "cell_type": "code",
   "execution_count": 3,
   "metadata": {
    "_uuid": "5b0ba72389d01345262696be36c041804731d68e"
   },
   "outputs": [
    {
     "name": "stdout",
     "output_type": "stream",
     "text": [
      "1000\n",
      "1000\n"
     ]
    }
   ],
   "source": [
    "import nltk\n",
    "\n",
    "x_data_nps = []\n",
    "\n",
    "for fileid in nltk.corpus.nps_chat.fileids():\n",
    "    x_data_nps.extend([post.text for post in nps_chat.xml_posts(fileid)])\n",
    "\n",
    "y_data_nps = [0] * len(x_data_nps)\n",
    "\n",
    "x_data_gut = []\n",
    "for fileid in nltk.corpus.gutenberg.fileids():\n",
    "    x_data_gut.extend([' '.join(sent) for sent in nltk.corpus.gutenberg.sents(fileid)])\n",
    "    \n",
    "y_data_gut = [1] * len(x_data_gut)\n",
    "\n",
    "x_data_full = x_data_nps[:500] + x_data_gut[:500]\n",
    "print(len(x_data_full))\n",
    "y_data_full = y_data_nps[:500] + y_data_gut[:500]\n",
    "print(len(y_data_full))\n",
    "\n"
   ]
  },
  {
   "cell_type": "code",
   "execution_count": 4,
   "metadata": {},
   "outputs": [
    {
     "name": "stdout",
     "output_type": "stream",
     "text": [
      "['now im left with this gay name', ':P', 'PART', 'hey everyone  ', 'ah well', 'NICK :10-19-20sUser7', '10-19-20sUser7 is a gay name.', '.ACTION gives 10-19-20sUser121 a golf clap.', ':)', 'JOIN']\n"
     ]
    }
   ],
   "source": [
    "print(x_data_full[:10])"
   ]
  },
  {
   "cell_type": "code",
   "execution_count": 5,
   "metadata": {},
   "outputs": [
    {
     "name": "stdout",
     "output_type": "stream",
     "text": [
      "[0, 0, 0, 0, 0, 0, 0, 0, 0, 0]\n"
     ]
    }
   ],
   "source": [
    "print(y_data_full[:10])"
   ]
  },
  {
   "cell_type": "markdown",
   "metadata": {
    "_uuid": "3af90a8a78afe244b83bb4b471e31e31d67e4875"
   },
   "source": [
    "<p>Em seguida, transformamos essas listas em ndarrays, para usarmos nas etapas de pré-processamento que já conhecemos.</p>"
   ]
  },
  {
   "cell_type": "code",
   "execution_count": 6,
   "metadata": {
    "_uuid": "bcb63d9bfaf909414bdd3d3618630112d9e2168f"
   },
   "outputs": [
    {
     "name": "stdout",
     "output_type": "stream",
     "text": [
      "(1000,)\n",
      "(1000,)\n"
     ]
    }
   ],
   "source": [
    "import numpy as np\n",
    "\n",
    "x_data = np.array(x_data_full, dtype=object)\n",
    "#x_data = np.array(x_data_full)\n",
    "print(x_data.shape)\n",
    "y_data = np.array(y_data_full)\n",
    "print(y_data.shape)"
   ]
  },
  {
   "cell_type": "markdown",
   "metadata": {
    "_uuid": "98ab3dd8f3bb0bd5677cf2698b2d649fbab8d9ed"
   },
   "source": [
    "<b>2. Dividindo em datasets de treino e teste</b>"
   ]
  },
  {
   "cell_type": "markdown",
   "metadata": {
    "_uuid": "e2095721ee2c652138f83bfc4c1aab2909917f76"
   },
   "source": [
    "<p>Para que a pesquisa seja confiável, precisamos avaliar os resultados em um dataset de teste. Por isso, vamos dividir os dados aleatoriamente, deixando 80% para treino e o demais para testar os resultados em breve.</p>"
   ]
  },
  {
   "cell_type": "code",
   "execution_count": 7,
   "metadata": {
    "_uuid": "08d308234980d9f76615330a01c31eba2d6b9c7a"
   },
   "outputs": [
    {
     "name": "stdout",
     "output_type": "stream",
     "text": [
      "1000\n",
      "[ True  True  True  True  True  True  True  True False False]\n"
     ]
    }
   ],
   "source": [
    "train_indexes = np.random.rand(len(x_data)) < 0.80\n",
    "\n",
    "print(len(train_indexes))\n",
    "print(train_indexes[:10])"
   ]
  },
  {
   "cell_type": "code",
   "execution_count": 8,
   "metadata": {},
   "outputs": [],
   "source": []
  },
  {
   "cell_type": "code",
   "execution_count": 8,
   "metadata": {
    "_uuid": "2f545362ec7b480649e47760973a0252a3419b8b"
   },
   "outputs": [
    {
     "name": "stdout",
     "output_type": "stream",
     "text": [
      "786\n",
      "786\n"
     ]
    }
   ],
   "source": [
    "x_data_train = x_data[train_indexes]\n",
    "y_data_train = y_data[train_indexes]\n",
    "\n",
    "print(len(x_data_train))\n",
    "print(len(y_data_train))"
   ]
  },
  {
   "cell_type": "code",
   "execution_count": 9,
   "metadata": {
    "_uuid": "a43b65190ba1347ad87ebfd94c532962052d3b7b"
   },
   "outputs": [
    {
     "name": "stdout",
     "output_type": "stream",
     "text": [
      "214\n",
      "214\n"
     ]
    }
   ],
   "source": [
    "x_data_test = x_data[~train_indexes]\n",
    "y_data_test = y_data[~train_indexes]\n",
    "\n",
    "print(len(x_data_test))\n",
    "print(len(y_data_test))"
   ]
  },
  {
   "cell_type": "markdown",
   "metadata": {
    "_uuid": "78e1cbc5c27027dead20df3f5e304e156de82020"
   },
   "source": [
    "<b>3. Treinando o classificador</b>"
   ]
  },
  {
   "cell_type": "markdown",
   "metadata": {
    "_uuid": "1ab54e667b94d390c0953652fa8d4260bf57edbf"
   },
   "source": [
    "<p>Para tokenização, vamos usar a mesma função do tutorial anterior:</p>"
   ]
  },
  {
   "cell_type": "code",
   "execution_count": 10,
   "metadata": {
    "_uuid": "fecc5788bdea938acbcf20af3185d12a60a5f29b"
   },
   "outputs": [],
   "source": [
    "from nltk import pos_tag\n",
    "from nltk.corpus import stopwords\n",
    "from nltk.stem import WordNetLemmatizer\n",
    "from nltk.tokenize import word_tokenize\n",
    "import string\n",
    "from nltk.corpus import wordnet\n",
    "\n",
    "stopwords_list = stopwords.words('english')\n",
    "\n",
    "lemmatizer = WordNetLemmatizer()\n",
    "\n",
    "def my_tokenizer(doc):\n",
    "    words = word_tokenize(doc)\n",
    "    \n",
    "    pos_tags = pos_tag(words)\n",
    "    \n",
    "    non_stopwords = [w for w in pos_tags if not w[0].lower() in stopwords_list]\n",
    "    \n",
    "    non_punctuation = [w for w in non_stopwords if not w[0] in string.punctuation]\n",
    "    \n",
    "    lemmas = []\n",
    "    for w in non_punctuation:\n",
    "        if w[1].startswith('J'):\n",
    "            pos = wordnet.ADJ\n",
    "        elif w[1].startswith('V'):\n",
    "            pos = wordnet.VERB\n",
    "        elif w[1].startswith('N'):\n",
    "            pos = wordnet.NOUN\n",
    "        elif w[1].startswith('R'):\n",
    "            pos = wordnet.ADV\n",
    "        else:\n",
    "            pos = wordnet.NOUN\n",
    "        \n",
    "        lemmas.append(lemmatizer.lemmatize(w[0], pos))\n",
    "\n",
    "    return lemmas\n",
    "    \n",
    "    "
   ]
  },
  {
   "cell_type": "markdown",
   "metadata": {
    "_uuid": "49296c720901fa5fad6206c0da34271b2d3c9b1d"
   },
   "source": [
    "<p>Mas agora vamos criar um <b>pipeline</b> contendo o vetorizador TF-IDF, o SVD para redução de atributos e um algoritmo de classificação. Mas antes, vamos encapsular nosso algoritmo para escolher o número de dimensões para o SVD em uma classe que pode ser utilizada com o pipeline:</p>"
   ]
  },
  {
   "cell_type": "code",
   "execution_count": 11,
   "metadata": {
    "_uuid": "7f5a4228413c0ff9bf3fff1761a40abacdc68de7"
   },
   "outputs": [],
   "source": [
    "from sklearn.decomposition import TruncatedSVD\n",
    "\n",
    "class SVDDimSelect(object):\n",
    "    def fit(self, X, y=None):        \n",
    "        try:\n",
    "            self.svd_transformer = TruncatedSVD(n_components=round(X.shape[1]/2))\n",
    "            self.svd_transformer.fit(X)\n",
    "        \n",
    "            cummulative_variance = 0.0\n",
    "            k = 0\n",
    "            for var in sorted(self.svd_transformer.explained_variance_ratio_)[::-1]:\n",
    "                cummulative_variance += var\n",
    "                if cummulative_variance >= 0.5:\n",
    "                    break\n",
    "                else:\n",
    "                    k += 1\n",
    "                \n",
    "            self.svd_transformer = TruncatedSVD(n_components=k)\n",
    "        except Exception as ex:\n",
    "            print(ex)\n",
    "            \n",
    "        return self.svd_transformer.fit(X)\n",
    "    \n",
    "    def transform(self, X, Y=None):\n",
    "        return self.svd_transformer.transform(X)\n",
    "        \n",
    "    def get_params(self, deep=True):\n",
    "        return {}"
   ]
  },
  {
   "cell_type": "markdown",
   "metadata": {
    "_uuid": "1687b8e4695924cb6394b4d01a065b6976460169"
   },
   "source": [
    "<p>Finalmente podemos criar nosso pipeline:</p>"
   ]
  },
  {
   "cell_type": "code",
   "execution_count": 12,
   "metadata": {
    "_uuid": "9c291497b515efaddd76ad8b11080b50cb7760ef"
   },
   "outputs": [],
   "source": [
    "from sklearn.feature_extraction.text import TfidfVectorizer\n",
    "from sklearn.pipeline import Pipeline\n",
    "from sklearn import neighbors\n",
    "\n",
    "clf = neighbors.KNeighborsClassifier(n_neighbors=10, weights='uniform')\n",
    "\n",
    "my_pipeline = Pipeline([('tfidf', TfidfVectorizer(tokenizer=my_tokenizer)),\\\n",
    "                       ('svd', SVDDimSelect()), \\\n",
    "                       ('clf', clf)])"
   ]
  },
  {
   "cell_type": "markdown",
   "metadata": {
    "_uuid": "f199bd69edebf53f3fa28f6bee8676112666b17d"
   },
   "source": [
    "<p>Estamos quase lá... Agora vamos criar um objeto <b>RandomizedSearchCV</b> que fará a seleção de hiper-parâmetros do nosso classificador (aka. parâmetros que não são aprendidos durante o treinamento). Essa etapa é importante para obtermos a melhor configuração do algoritmo de classificação. Para economizar tempo de treinamento, vamos usar um algoritmo simples o <i>K nearest neighbors (KNN)</i>."
   ]
  },
  {
   "cell_type": "code",
   "execution_count": 13,
   "metadata": {
    "_uuid": "737d398afd745d784a48153b3be977dd72398791"
   },
   "outputs": [],
   "source": [
    "from sklearn.model_selection import RandomizedSearchCV\n",
    "import scipy\n",
    "\n",
    "par = {'clf__n_neighbors': range(1, 60), 'clf__weights': ['uniform', 'distance']}\n",
    "\n",
    "\n",
    "hyperpar_selector = RandomizedSearchCV(my_pipeline, par, cv=3, scoring='accuracy', n_jobs=1, n_iter=20)\n"
   ]
  },
  {
   "cell_type": "markdown",
   "metadata": {
    "_uuid": "021f54a2e324792f07117ee06d7575ecfd7bc975"
   },
   "source": [
    "<p>E agora vamos treinar nosso algoritmo, usando o pipeline com seleção de atributos:</p>"
   ]
  },
  {
   "cell_type": "code",
   "execution_count": 14,
   "metadata": {
    "_uuid": "51f5f97e12a6e51fb021d214171580e23684a994"
   },
   "outputs": [
    {
     "name": "stdout",
     "output_type": "stream",
     "text": [
      "['now im left with this gay name' ':P' 'PART' 'hey everyone  ' 'ah well'\n",
      " 'NICK :10-19-20sUser7' '10-19-20sUser7 is a gay name.'\n",
      " '.ACTION gives 10-19-20sUser121 a golf clap.' 'hi 10-19-20sUser59' 'PART'\n",
      " 'there ya go 10-19-20sUser7' \"don't golf clap me.\"\n",
      " 'whats everyone up to?' 'PART' 'PART' \"i'll thunder clap your ass.\"\n",
      " 'PART' 'and i dont even know what that means.'\n",
      " 'any ladis wanna chat? 29 m' 'my cousin drew a messed up pic on my cast'\n",
      " 'PART' '24/m' 'boo.' 'lol 10-19-20sUser115' 'boo.' 'JOIN' 'PART'\n",
      " 'he drew a girl with legs spread' 'boo.' 'hope he didnt draw a penis'\n",
      " 'PART' 'ewwwww lol' 'JOIN' 'JOIN' 'r u serious' 'JOIN' 'PART'\n",
      " '& i have to go to the docs tomorrow' 'ya man'\n",
      " 'I am too.. Connected to... Slip away... Fade away... Days away I... Still feel you... Touching me... Changing me... Considerably killing me... '\n",
      " 'heeeey!' \"don't you have a sharpie?\" '26/m'\n",
      " \"you're back 10-19-20sUser115\" '10-19-20sUser129' 'yep'\n",
      " '10-19-20sUser115' 'PART' 'JOIN' 'not fast enough 10-19-20sUser116'\n",
      " 'a bowl i got a blunt an a bong......lol' 'JOIN'\n",
      " 'well, glad it worked out' 'Anyone from Tennessee in here?' 'hey ladies'\n",
      " 'as am i' 'is 10-19-20sUser68 back yet' 'PART' 'PART' 'JOIN'\n",
      " '10-19-20sUser121 is missing a B in her name'\n",
      " \"and i don't complain about things being hard very often.\" 'ok'\n",
      " 'fire it up' 'Any women from Nashville in here?' 'PART'\n",
      " 'and an an \"itch\"' 'JOIN' 'or a \"ogan\"' 'are you a male?' 'JOIN' 'JOIN'\n",
      " 'show will' \"let's talk.\" 'PART' 'haha' 'brb' 'opps' 'JOIN' 'PART'\n",
      " '.ACTION keeps 10-19-20sUser115s place nice and warm.'\n",
      " \".ACTION sits on 10-19-20sUser68's lap.\" 'JOIN' 'JOIN'\n",
      " 'any guyz wanna chat ' 'hi there' \"boo, it's a female.\"\n",
      " 'hey 10-19-20sUser126' 'PART' 'i wonna chat' '24 f nc single mom'\n",
      " 'where did everyone gooo?' 'JOIN' 'i feel like im in the wrong room'\n",
      " 'yeee haw 10-19-20sUser30' 'JOIN'\n",
      " \"i don't want hot pics of a female, I can look in a mirror.\"\n",
      " 'hi 10-19-20sUser64' 'wb 10-19-20sUser139' 'PART' 'PART' 'JOIN'\n",
      " 'single dad here' 'JOIN' 'ty 10-19-20sUser68' 'PART'\n",
      " 'Hi 10-19-20sUser139' 'PART' 'JOIN' 'hi 10-19-20sUser138' 'HAHAHA'\n",
      " 'yw 10-19-20sUser139' 'hi 10-19-20sUser139.' \"you're fucking hot.\"\n",
      " 'i thought of that!' 'lmao' 'ahah \"iamahotniplickme\"'\n",
      " 'Hi 10-19-20sUser121' 'in ny'\n",
      " '.ACTION would lol @ 10-19-20sUser121 . . . but appearently she does not like that.'\n",
      " 'cya later guys' 'single white male 26' \"can't sleep huh?\" 'JOIN'\n",
      " 'hi 10-19-20sUser139' 'bye 10-19-20sUser20'\n",
      " 'well 10-19-20sUser68 what did u buy' 'yeah i know' ':)'\n",
      " '10-19-20sUser136.. get the hell outta my freaking PM box.. Im with my fiance!!!!!!!!!!!!!!!!'\n",
      " '10-19-20sUser20 go plan the wedding! :P' 'first warning !!!!!' 'PART'\n",
      " 'make sure u buy a nice ring for 10-19-20sUser6' 'lol 10-19-20sUser7'\n",
      " 'Hi 10-19-20sUser115' '.ACTION isnt falling for that one again.'\n",
      " '10-19-20sUser136.. get the hell in my freaking PM box.. I have no fiance!!!!!!!'\n",
      " 'right on' 'i have one already 10-19-20sUser7... yayayayayyy!!'\n",
      " 'lmaoo 10-19-20sUser121' \"'iamahotnipwithhotnippics\" \"'\"\n",
      " 'any single white females?' 'off off?' 'really?'\n",
      " 'Just fine thanks, how are you?' 'that sounds freakishly like dr seuss'\n",
      " \"wow. twice, I'm impressed.\" 'PART' 'hiya room' 'im doin alright thanks'\n",
      " 'omg'\n",
      " 'Finger.. Deep within the borderline.. Show me that you love me, and that we belong together... Relax.. Turn around.. And take my.. Hand.. '\n",
      " 'I just laughed' 'didnt even look hang on' 'finger?' 'yay!' 'PART'\n",
      " \"that's such a DIRTY word.\" 'oh its 14k'\n",
      " '10-19-20sUser141... get outta my PM Box.. didnt ya hear!!!!' 'PART'\n",
      " 'JOIN' 'geeshhh' 'lol 10-19-20sUser6' 'PART' 'hes deaf'\n",
      " 'ppl here dont get it' '!hug 10-19-20sUser115'\n",
      " 'you can forward the pervs to me.' '.ACTION hugs 10-19-20sUser6.'\n",
      " 'any girls wanna chat with 24/m'\n",
      " 'Only for the dirty minded, 10-19-20sUser121.' 'ima behave' 'PART'\n",
      " 'theres nobody here i wanna misbeahve with lol' 'JOIN' 'so read it.'\n",
      " 'thanks 10-19-20sUser7.. Im happy to have my fiance here!!' 'forwads?'\n",
      " 'JOIN' '22/m/wa any ladies want to chat' 'can i talk to him!!'\n",
      " 'lol 10-19-20sUser121!!!' 'forwards too' 'lol' 'JOIN'\n",
      " \"ALL PErvs... redirect to 10-19-20sUser121's PM VBox!!!\" 'PART'\n",
      " \"I'll take all that I can get.\" 'JOIN' 'who is he 10-19-20sUser6?'\n",
      " '10-19-20sUser121' 'who honey??' 'Depends' 'Hi all 31/m/CA'\n",
      " '10-19-20sUser115 is having my babies 10-19-20sUser20' 'yep'\n",
      " '.ACTION laughs.' 'PART' 'your fiance, do you know his handle?'\n",
      " 'what, 10-19-20sUser92.' 'JOIN' 'little jerks & jerkettes'\n",
      " 'i love jesus more than ANYONE ELSE' 'handle?' 'beeehave'\n",
      " 'and he loves ME the most' 'i love myself'\n",
      " 'lol 10-19-20sUser44 how do u know that' 'what?' 'CO?'\n",
      " 'well if we have girls' 'i didnts say anithing wrong...'\n",
      " 'i can see it in his eyes' 'lol' '10-19-20sUser20=fiance' 'Jerketts'\n",
      " 'lmao' 'wtf' 'yah I know honey!' 'JOIN' 'girl jerk kids' 'awwwwww'\n",
      " 'you guys type too much. shut the fuck up.' 'girl jerks??'\n",
      " '.ACTION gives 10-19-20sUser68 a nice massage.' 'u shut the fuck up'\n",
      " 'PART' 'ur annoying'\n",
      " \".ACTION Now Playing - Cradle of Filth - A Gothic Romance (Red Roses For The Devil's Whore).\"\n",
      " 'JOIN' 'i want daughters 10-19-20sUser115!'\n",
      " '10-19-20sUser30 = gettign cooler by the minute'\n",
      " 'noo there too much work!' 'why not?? girls are nice honey!!!'\n",
      " '10-19-20sUser116' 'PART' 'PART' 'there is not!' 'heyy 10-19-20sUser148'\n",
      " 'i hate you.' 'boys are naughtier' 'JOIN' 'Hmm' 'you I hate you say..'\n",
      " 'Guess what' 'i hate you 10-19-20sUser121 fuck your ugly'\n",
      " 'if i had a daughter she would regret me bein her dad' 'Hmm' 'What?'\n",
      " 'aw 10-19-20sUser115 whys that' 'JOIN'\n",
      " 'id put caution tape all around her' 'Your phone sexs is the best'\n",
      " '---------> 27 M UK (pic in profile)' 'I am ugly?' 'PART'\n",
      " 'wouldnt let her date' \"Isn't it? =-\\\\\" 'aww.' 'i feel bad now.'\n",
      " '10-19-20sUser7, try to arrange your words so they form coherent thoughts'\n",
      " 'PART' '.ACTION -sits in the corner-.' 'JOIN' 'phone 10-19-20sUser92?'\n",
      " 'hello 10-19-20sUser84' '.ACTION sits with 10-19-20sUser92.' 'hmph.'\n",
      " 'hello room' 'lol 10-19-20sUser83'\n",
      " 'and this.. has been the grammar lesson of the day courtesy of: 10-19-20sUser84!'\n",
      " 'PART' 'JOIN' 'yes 10-19-20sUser115?' '.ACTION counter pokes.'\n",
      " 'wait i didnt me phone you . . .  sheesh now im that phone perv guy'\n",
      " 'lets hope not 10-19-20sUser121' 'PART' 'yes 10-19-20sUser115!!!!'\n",
      " 'of course' 'lets' 'woohoo!' 'any girls wanna chat?  24/m' 'lol' 'ah ok'\n",
      " 'i wont bug em then' 'someone wanna find me a cheap flight to spain?'\n",
      " 'im a HUGE phone perv'\n",
      " 'ok seriously who was the dumbass that signed kev fetterline a rap deal????'\n",
      " \"it's an emergency.\" 'Ug .. no shit?' 'il get u a cheap flight to hell:)'\n",
      " 'lmao' 'bbl maybe' 'PART' 'LOL' 'it was me, 10-19-20sUser83' '8082653953'\n",
      " 'i got a first class ticket to hell' 'lol 10-19-20sUser7' 'JOIN'\n",
      " 'anyone can be bought if theres enuff money 10-19-20sUser83:)'\n",
      " '.ACTION re-thinks liking 10-19-20sUser121.' 'JOIN' 'rethinks???'\n",
      " 'i was only kidding.' \"he's a douchebag.\" 'Poor 10-19-20sUser121'\n",
      " \"i'm bored\" 'love me.' 'choose me.' '(that was my meredith impression)'\n",
      " 'PART' 'PART' 'Cum to my shower.' 'lol 10-19-20sUser121'\n",
      " '.ACTION 10-19-20sUser1370 watches his nads.' 'JOIN' 'asl'\n",
      " 'not a lot, where u from' 'choose me too funny' 'JOIN'\n",
      " '.ACTION 10-19-20sUser1370 watches ur nad with a stick.'\n",
      " 'ca u 10-19-20sUser23' 'lol *sniffs*' 'ewwwwww' 'PART' 'owww splinter'\n",
      " 'PART' 'ughhh'\n",
      " \"does anyone want to talk to me on the phone?  I don't charge\" 'IL'\n",
      " '.ACTION gagas.' '.ACTION hangs head.' 'pm me for my phone number.'\n",
      " 'gags even' 'Lmfao 10-19-20sUser121'\n",
      " \".ACTION licks 10-19-20sUser92's neck.\" 'i do' '.ACTION bites her lip.'\n",
      " '.ACTION is resisting.' 'ur female right' 'lol 10-19-20sUser115'\n",
      " 'beeeeehave' 'Remember the LAst time you did that'\n",
      " '.ACTION smirks innocently.' 'no ' 'go wash your hands now!'\n",
      " 'dude 10-19-20sUser92 gets around' 'jk' 'JOIN'\n",
      " \"1-900-anal-sex is 10-19-20sUser121's number\"\n",
      " \"dang it. just as i predicted.  no one pm's me.\"\n",
      " 'charge that is 1.99/min.' 'lol @ innocent' 'hahah' 'lol....'\n",
      " 'LOLOLOLLL 10-19-20sUser12' 'thats not nice' 'my neck'\n",
      " '10-19-20sUser115 can i pm you?' 'is like'\n",
      " \"no it's not 10-19-20sUser12, you shut yo mouth.\" 'erm'\n",
      " 'free for 10-19-20sUser68' 'Lmfao' 'JOIN'\n",
      " '.ACTION goes to wash his hands.' 'lmao ' ':-o' 'I am innocent!' 'Lies.'\n",
      " 'lmao no 10-19-20sUser115' ':)' 'Lol' 'lick em 10-19-20sUser7'\n",
      " '10-19-20sUser23 how old r u' 'lol' 'Way to lie' 'mmhmm'\n",
      " '10-19-20sUser20 is very polite!' 'calls 10-19-20sUser30' 'lmao' '24  u'\n",
      " '[ Emma by Jane Austen 1816 ]' 'VOLUME I' 'CHAPTER I'\n",
      " \"She was the youngest of the two daughters of a most affectionate , indulgent father ; and had , in consequence of her sister ' s marriage , been mistress of his house from a very early period .\"\n",
      " 'Her mother had died too long ago for her to have more than an indistinct remembrance of her caresses ; and her place had been supplied by an excellent woman as governess , who had fallen little short of a mother in affection .'\n",
      " \"Sixteen years had Miss Taylor been in Mr . Woodhouse ' s family , less as a governess than a friend , very fond of both daughters , but particularly of Emma .\"\n",
      " 'Between _them_ it was more the intimacy of sisters .'\n",
      " \"Even before Miss Taylor had ceased to hold the nominal office of governess , the mildness of her temper had hardly allowed her to impose any restraint ; and the shadow of authority being now long passed away , they had been living together as friend and friend very mutually attached , and Emma doing just what she liked ; highly esteeming Miss Taylor ' s judgment , but directed chiefly by her own .\"\n",
      " \"The real evils , indeed , of Emma ' s situation were the power of having rather too much her own way , and a disposition to think a little too well of herself ; these were the disadvantages which threatened alloy to her many enjoyments .\"\n",
      " 'The danger , however , was at present so unperceived , that they did not by any means rank as misfortunes with her .'\n",
      " 'Sorrow came -- a gentle sorrow -- but not at all in the shape of any disagreeable consciousness .-- Miss Taylor married .'\n",
      " \"It was Miss Taylor ' s loss which first brought grief .\"\n",
      " 'It was on the wedding - day of this beloved friend that Emma first sat in mournful thought of any continuance .'\n",
      " \"Mr . Weston was a man of unexceptionable character , easy fortune , suitable age , and pleasant manners ; and there was some satisfaction in considering with what self - denying , generous friendship she had always wished and promoted the match ; but it was a black morning ' s work for her .\"\n",
      " 'The want of Miss Taylor would be felt every hour of every day .'\n",
      " \"A large debt of gratitude was owing here ; but the intercourse of the last seven years , the equal footing and perfect unreserve which had soon followed Isabella ' s marriage , on their being left to each other , was yet a dearer , tenderer recollection .\"\n",
      " 'She had been a friend and companion such as few possessed : intelligent , well - informed , useful , gentle , knowing all the ways of the family , interested in all its concerns , and peculiarly interested in herself , in every pleasure , every scheme of hers -- one to whom she could speak every thought as it arose , and who had such an affection for her as could never find fault .'\n",
      " 'How was she to bear the change ?-- It was true that her friend was going only half a mile from them ; but Emma was aware that great must be the difference between a Mrs . Weston , only half a mile from them , and a Miss Taylor in the house ; and with all her advantages , natural and domestic , she was now in great danger of suffering from intellectual solitude .'\n",
      " 'She dearly loved her father , but he was no companion for her .'\n",
      " 'Her sister , though comparatively but little removed by matrimony , being settled in London , only sixteen miles off , was much beyond her daily reach ; and many a long October and November evening must be struggled through at Hartfield , before Christmas brought the next visit from Isabella and her husband , and their little children , to fill the house , and give her pleasant society again .'\n",
      " 'Highbury , the large and populous village , almost amounting to a town , to which Hartfield , in spite of its separate lawn , and shrubberies , and name , did really belong , afforded her no equals .'\n",
      " 'The Woodhouses were first in consequence there .'\n",
      " 'She had many acquaintance in the place , for her father was universally civil , but not one among them who could be accepted in lieu of Miss Taylor for even half a day .'\n",
      " 'It was a melancholy change ; and Emma could not but sigh over it , and wish for impossible things , till her father awoke , and made it necessary to be cheerful .'\n",
      " 'Emma smiled and chatted as cheerfully as she could , to keep him from such thoughts ; but when tea came , it was impossible for him not to say exactly as he had said at dinner ,'\n",
      " '\" Poor Miss Taylor !-- I wish she were here again .'\n",
      " 'What a pity it is that Mr . Weston ever thought of her !\"'\n",
      " '\" I cannot agree with you , papa ; you know I cannot .'\n",
      " 'Mr . Weston is such a good - humoured , pleasant , excellent man , that he thoroughly deserves a good wife ;-- and you would not have had Miss Taylor live with us for ever , and bear all my odd humours , when she might have a house of her own ?\"'\n",
      " '\" A house of her own !-- But where is the advantage of a house of her own ?'\n",
      " 'This is three times as large .-- And you have never any odd humours , my dear .\"'\n",
      " '_We_ must begin ; we must go and pay wedding visit very soon .\"'\n",
      " '\" My dear , how am I to get so far ?' 'Randalls is such a distance .'\n",
      " 'I could not walk half so far .\"'\n",
      " 'We must go in the carriage , to be sure .\"' '\" The carriage !'\n",
      " 'But James will not like to put the horses to for such a little way ;-- and where are the poor horses to be while we are paying our visit ?\"'\n",
      " '\" They are to be put into Mr . Weston \\' s stable , papa .'\n",
      " 'You know we have settled all that already .'\n",
      " 'We talked it all over with Mr . Weston last night .'\n",
      " 'I only doubt whether he will ever take us anywhere else .'\n",
      " 'That was your doing , papa .'\n",
      " 'Nobody thought of Hannah till you mentioned her -- James is so obliged to you !\"'\n",
      " '\" I am very glad I did think of her .'\n",
      " 'It was very lucky , for I would not have had poor James think himself slighted upon any account ; and I am sure she will make a very good servant : she is a civil , pretty - spoken girl ; I have a great opinion of her .'\n",
      " 'I am sure she will be an excellent servant ; and it will be a great comfort to poor Miss Taylor to have somebody about her that she is used to see .'\n",
      " 'Whenever James goes over to see his daughter , you know , she will be hearing of us .'\n",
      " 'Emma spared no exertions to maintain this happier flow of ideas , and hoped , by the help of backgammon , to get her father tolerably through the evening , and be attacked by no regrets but her own .'\n",
      " 'The backgammon - table was placed ; but a visitor immediately afterwards walked in and made it unnecessary .'\n",
      " \"Mr . Knightley , a sensible man about seven or eight - and - thirty , was not only a very old and intimate friend of the family , but particularly connected with it , as the elder brother of Isabella ' s husband .\"\n",
      " 'He lived about a mile from Highbury , was a frequent visitor , and always welcome , and at this time more welcome than usual , as coming directly from their mutual connexions in London .'\n",
      " \"He had returned to a late dinner , after some days ' absence , and now walked up to Hartfield to say that all were well in Brunswick Square .\"\n",
      " 'Mr . Knightley had a cheerful manner , which always did him good ; and his many inquiries after \" poor Isabella \" and her children were answered most satisfactorily .'\n",
      " 'When this was over , Mr . Woodhouse gratefully observed , \" It is very kind of you , Mr . Knightley , to come out at this late hour to call upon us .'\n",
      " '\" Not at all , sir .'\n",
      " 'It is a beautiful moonlight night ; and so mild that I must draw back from your great fire .\"'\n",
      " '\" But you must have found it very damp and dirty .'\n",
      " 'I wish you may not catch cold .\"' '\" Dirty , sir !' 'Look at my shoes .'\n",
      " 'Not a speck on them .\"' '\" Well !'\n",
      " 'that is quite surprising , for we have had a vast deal of rain here .'\n",
      " 'It rained dreadfully hard for half an hour while we were at breakfast .'\n",
      " 'I wanted them to put off the wedding .\"'\n",
      " '\" By the bye -- I have not wished you joy .' 'Who cried most ?\"'\n",
      " '\" Ah !' 'poor Miss Taylor !' '\\' Tis a sad business .\"'\n",
      " '\" Poor Mr . and Miss Woodhouse , if you please ; but I cannot possibly say ` poor Miss Taylor .\\''\n",
      " '\" Especially when _one_ of those two is such a fanciful , troublesome creature !\"'\n",
      " 'said Emma playfully .'\n",
      " '\" That is what you have in your head , I know -- and what you would certainly say if my father were not by .\"'\n",
      " '\" I believe it is very true , my dear , indeed ,\" said Mr . Woodhouse , with a sigh .'\n",
      " '\" I am afraid I am sometimes very fanciful and troublesome .\"'\n",
      " '\" My dearest papa !'\n",
      " 'You do not think I could mean _you_ , or suppose Mr . Knightley to mean _you_ .'\n",
      " 'I meant only myself .'\n",
      " 'Mr . Knightley loves to find fault with me , you know -- in a joke -- it is all a joke .'\n",
      " 'We always say what we like to one another .\"'\n",
      " 'Mr . Knightley , in fact , was one of the few people who could see faults in Emma Woodhouse , and the only one who ever told her of them : and though this was not particularly agreeable to Emma herself , she knew it would be so much less so to her father , that she would not have him really suspect such a circumstance as her not being thought perfect by every body .'\n",
      " '\" Emma knows I never flatter her ,\" said Mr . Knightley , \" but I meant no reflection on any body .'\n",
      " 'The chances are that she must be a gainer .\"'\n",
      " '\" Well ,\" said Emma , willing to let it pass --\" you want to hear about the wedding ; and I shall be happy to tell you , for we all behaved charmingly .'\n",
      " 'Every body was punctual , every body in their best looks : not a tear , and hardly a long face to be seen .'\n",
      " 'Oh no ; we all felt that we were going to be only half a mile apart , and were sure of meeting every day .\"'\n",
      " '\" Dear Emma bears every thing so well ,\" said her father .'\n",
      " '\" But , Mr . Knightley , she is really very sorry to lose poor Miss Taylor , and I am sure she _will_ miss her more than she thinks for .\"'\n",
      " 'Emma turned away her head , divided between tears and smiles .'\n",
      " '\" We should not like her so well as we do , sir , if we could suppose it ; but she knows how much the marriage is to Miss Taylor \\' s advantage ; she knows how very acceptable it must be , at Miss Taylor \\' s time of life , to be settled in a home of her own , and how important to her to be secure of a comfortable provision , and therefore cannot allow herself to feel so much pain as pleasure .'\n",
      " 'Every friend of Miss Taylor must be glad to have her so happily married .\"'\n",
      " '\" And you have forgotten one matter of joy to me ,\" said Emma , \" and a very considerable one -- that I made the match myself .'\n",
      " 'I made the match , you know , four years ago ; and to have it take place , and be proved in the right , when so many people said Mr . Weston would never marry again , may comfort me for any thing .\"'\n",
      " 'Mr . Knightley shook his head at her .'\n",
      " 'Her father fondly replied , \" Ah !'\n",
      " 'my dear , I wish you would not make matches and foretell things , for whatever you say always comes to pass .'\n",
      " '\" I promise you to make none for myself , papa ; but I must , indeed , for other people .'\n",
      " 'It is the greatest amusement in the world !'\n",
      " 'And after such success , you know !-- Every body said that Mr . Weston would never marry again .'\n",
      " 'Oh dear , no !' 'Oh no !'\n",
      " 'Mr . Weston certainly would never marry again .'\n",
      " 'Some people even talked of a promise to his wife on her deathbed , and others of the son and the uncle not letting him .'\n",
      " 'All manner of solemn nonsense was talked on the subject , but I believed none of it .'\n",
      " '\" Ever since the day -- about four years ago -- that Miss Taylor and I met with him in Broadway Lane , when , because it began to drizzle , he darted away with so much gallantry , and borrowed two umbrellas for us from Farmer Mitchell \\' s , I made up my mind on the subject .'\n",
      " 'I planned the match from that hour ; and when such success has blessed me in this instance , dear papa , you cannot think that I shall leave off match - making .\"'\n",
      " '\" Success supposes endeavour .'\n",
      " 'Your time has been properly and delicately spent , if you have been endeavouring for the last four years to bring about this marriage .'\n",
      " \"A worthy employment for a young lady ' s mind !\"\n",
      " \"But if , which I rather imagine , your making the match , as you call it , means only your planning it , your saying to yourself one idle day , ` I think it would be a very good thing for Miss Taylor if Mr . Weston were to marry her ,' and saying it again to yourself every now and then afterwards , why do you talk of success ?\"\n",
      " 'Where is your merit ?' 'What are you proud of ?'\n",
      " 'You made a lucky guess ; and _that_ is all that can be said .\"'\n",
      " '\" And have you never known the pleasure and triumph of a lucky guess ?-- I pity you .-- I thought you cleverer -- for , depend upon it a lucky guess is never merely luck .'\n",
      " 'There is always some talent in it .'\n",
      " \"And as to my poor word ` success ,' which you quarrel with , I do not know that I am so entirely without any claim to it .\"\n",
      " 'You have drawn two pretty pictures ; but I think there may be a third -- a something between the do - nothing and the do - all .'\n",
      " \"If I had not promoted Mr . Weston ' s visits here , and given many little encouragements , and smoothed many little matters , it might not have come to any thing after all .\"\n",
      " 'I think you must know Hartfield enough to comprehend that .\"'\n",
      " '\" A straightforward , open - hearted man like Weston , and a rational , unaffected woman like Miss Taylor , may be safely left to manage their own concerns .'\n",
      " 'You are more likely to have done harm to yourself , than good to them , by interference .\"'\n",
      " '\" Emma never thinks of herself , if she can do good to others ,\" rejoined Mr . Woodhouse , understanding but in part .'\n",
      " '\" But , my dear , pray do not make any more matches ; they are silly things , and break up one \\' s family circle grievously .\"'\n",
      " '\" Only one more , papa ; only for Mr . Elton .'\n",
      " 'You like Mr . Elton , papa ,-- I must look about for a wife for him .'\n",
      " 'I think very well of Mr . Elton , and this is the only way I have of doing him a service .\"'\n",
      " '\" Mr . Elton is a very pretty young man , to be sure , and a very good young man , and I have a great regard for him .'\n",
      " 'That will be a much better thing .'\n",
      " 'I dare say Mr . Knightley will be so kind as to meet him .\"'\n",
      " '\" With a great deal of pleasure , sir , at any time ,\" said Mr . Knightley , laughing , \" and I agree with you entirely , that it will be a much better thing .'\n",
      " 'Invite him to dinner , Emma , and help him to the best of the fish and the chicken , but leave him to chuse his own wife .'\n",
      " 'Depend upon it , a man of six or seven - and - twenty can take care of himself .\"'\n",
      " 'CHAPTER II'\n",
      " 'Mr . Weston was a native of Highbury , and born of a respectable family , which for the last two or three generations had been rising into gentility and property .'\n",
      " 'He had received a good education , but , on succeeding early in life to a small independence , had become indisposed for any of the more homely pursuits in which his brothers were engaged , and had satisfied an active , cheerful mind and social temper by entering into the militia of his county , then embodied .'\n",
      " 'Captain Weston was a general favourite ; and when the chances of his military life had introduced him to Miss Churchill , of a great Yorkshire family , and Miss Churchill fell in love with him , nobody was surprized , except her brother and his wife , who had never seen him , and who were full of pride and importance , which the connexion would offend .'\n",
      " 'Miss Churchill , however , being of age , and with the full command of her fortune -- though her fortune bore no proportion to the family - estate -- was not to be dissuaded from the marriage , and it took place , to the infinite mortification of Mr . and Mrs . Churchill , who threw her off with due decorum .'\n",
      " 'It was an unsuitable connexion , and did not produce much happiness .'\n",
      " 'Mrs . Weston ought to have found more in it , for she had a husband whose warm heart and sweet temper made him think every thing due to her in return for the great goodness of being in love with him ; but though she had one sort of spirit , she had not the best .'\n",
      " \"She had resolution enough to pursue her own will in spite of her brother , but not enough to refrain from unreasonable regrets at that brother ' s unreasonable anger , nor from missing the luxuries of her former home .\"\n",
      " \"Captain Weston , who had been considered , especially by the Churchills , as making such an amazing match , was proved to have much the worst of the bargain ; for when his wife died , after a three years ' marriage , he was rather a poorer man than at first , and with a child to maintain .\"\n",
      " 'From the expense of the child , however , he was soon relieved .'\n",
      " \"The boy had , with the additional softening claim of a lingering illness of his mother ' s , been the means of a sort of reconciliation ; and Mr . and Mrs . Churchill , having no children of their own , nor any other young creature of equal kindred to care for , offered to take the whole charge of the little Frank soon after her decease .\"\n",
      " 'Some scruples and some reluctance the widower - father may be supposed to have felt ; but as they were overcome by other considerations , the child was given up to the care and the wealth of the Churchills , and he had only his own comfort to seek , and his own situation to improve as he could .'\n",
      " 'He quitted the militia and engaged in trade , having brothers already established in a good way in London , which afforded him a favourable opening .'\n",
      " 'It was a concern which brought just employment enough .'\n",
      " 'He had still a small house in Highbury , where most of his leisure days were spent ; and between useful occupation and the pleasures of society , the next eighteen or twenty years of his life passed cheerfully away .'\n",
      " 'He had , by that time , realised an easy competence -- enough to secure the purchase of a little estate adjoining Highbury , which he had always longed for -- enough to marry a woman as portionless even as Miss Taylor , and to live according to the wishes of his own friendly and social disposition .'\n",
      " 'It was now some time since Miss Taylor had begun to influence his schemes ; but as it was not the tyrannic influence of youth on youth , it had not shaken his determination of never settling till he could purchase Randalls , and the sale of Randalls was long looked forward to ; but he had gone steadily on , with these objects in view , till they were accomplished .'\n",
      " 'He had made his fortune , bought his house , and obtained his wife ; and was beginning a new period of existence , with every probability of greater happiness than in any yet passed through .'\n",
      " 'He had never been an unhappy man ; his own temper had secured him from that , even in his first marriage ; but his second must shew him how delightful a well - judging and truly amiable woman could be , and must give him the pleasantest proof of its being a great deal better to choose than to be chosen , to excite gratitude than to feel it .'\n",
      " \"He had only himself to please in his choice : his fortune was his own ; for as to Frank , it was more than being tacitly brought up as his uncle ' s heir , it had become so avowed an adoption as to have him assume the name of Churchill on coming of age .\"\n",
      " \"It was most unlikely , therefore , that he should ever want his father ' s assistance .\"\n",
      " 'His father had no apprehension of it .'\n",
      " \"The aunt was a capricious woman , and governed her husband entirely ; but it was not in Mr . Weston ' s nature to imagine that any caprice could be strong enough to affect one so dear , and , as he believed , so deservedly dear .\"\n",
      " 'He saw his son every year in London , and was proud of him ; and his fond report of him as a very fine young man had made Highbury feel a sort of pride in him too .'\n",
      " 'He was looked on as sufficiently belonging to the place to make his merits and prospects a kind of common concern .'\n",
      " 'His coming to visit his father had been often talked of but never achieved .'\n",
      " \"Now , upon his father ' s marriage , it was very generally proposed , as a most proper attention , that the visit should take place .\"\n",
      " 'There was not a dissentient voice on the subject , either when Mrs . Perry drank tea with Mrs . and Miss Bates , or when Mrs . and Miss Bates returned the visit .'\n",
      " 'Now was the time for Mr . Frank Churchill to come among them ; and the hope strengthened when it was understood that he had written to his new mother on the occasion .'\n",
      " 'For a few days , every morning visit in Highbury included some mention of the handsome letter Mrs . Weston had received .'\n",
      " '\" I suppose you have heard of the handsome letter Mr . Frank Churchill has written to Mrs . Weston ?'\n",
      " 'Mr . Woodhouse told me of it .'\n",
      " 'Mr . Woodhouse saw the letter , and he says he never saw such a handsome letter in his life .\"'\n",
      " 'She felt herself a most fortunate woman ; and she had lived long enough to know how fortunate she might well be thought , where the only regret was for a partial separation from friends whose friendship for her had never cooled , and who could ill bear to part with her .'\n",
      " \"She knew that at times she must be missed ; and could not think , without pain , of Emma ' s losing a single pleasure , or suffering an hour ' s ennui , from the want of her companionableness : but dear Emma was of no feeble character ; she was more equal to her situation than most girls would have been , and had sense , and energy , and spirits that might be hoped would bear her well and happily through its little difficulties and privations .\"\n",
      " \"Her situation was altogether the subject of hours of gratitude to Mrs . Weston , and of moments only of regret ; and her satisfaction -- her more than satisfaction -- her cheerful enjoyment , was so just and so apparent , that Emma , well as she knew her father , was sometimes taken by surprize at his being still able to pity ` poor Miss Taylor ,' when they left her at Randalls in the centre of every domestic comfort , or saw her go away in the evening attended by her pleasant husband to a carriage of her own .\"\n",
      " 'But never did she go without Mr . Woodhouse \\' s giving a gentle sigh , and saying , \" Ah , poor Miss Taylor !'\n",
      " 'She would be very glad to stay .\"'\n",
      " 'There was no recovering Miss Taylor -- nor much likelihood of ceasing to pity her ; but a few weeks brought some alleviation to Mr . Woodhouse .'\n",
      " 'The compliments of his neighbours were over ; he was no longer teased by being wished joy of so sorrowful an event ; and the wedding - cake , which had been a great distress to him , was all eat up .'\n",
      " 'His own stomach could bear nothing rich , and he could never believe other people to be different from himself .'\n",
      " \"What was unwholesome to him he regarded as unfit for any body ; and he had , therefore , earnestly tried to dissuade them from having any wedding - cake at all , and when that proved vain , as earnestly tried to prevent any body ' s eating it .\"\n",
      " 'He had been at the pains of consulting Mr . Perry , the apothecary , on the subject .'\n",
      " 'With such an opinion , in confirmation of his own , Mr . Woodhouse hoped to influence every visitor of the newly married pair ; but still the cake was eaten ; and there was no rest for his benevolent nerves till it was all gone .'\n",
      " \"There was a strange rumour in Highbury of all the little Perrys being seen with a slice of Mrs . Weston ' s wedding - cake in their hands : but Mr . Woodhouse would never believe it .\"\n",
      " 'CHAPTER III'\n",
      " 'He liked very much to have his friends come and see him ; and from various united causes , from his long residence at Hartfield , and his good nature , from his fortune , his house , and his daughter , he could command the visits of his own little circle , in a great measure , as he liked .'\n",
      " 'He had not much intercourse with any families beyond that circle ; his horror of late hours , and large dinner - parties , made him unfit for any acquaintance but such as would visit him on his own terms .'\n",
      " 'Fortunately for him , Highbury , including Randalls in the same parish , and Donwell Abbey in the parish adjoining , the seat of Mr . Knightley , comprehended many such .'\n",
      " \"Not unfrequently , through Emma ' s persuasion , he had some of the chosen and the best to dine with him : but evening parties were what he preferred ; and , unless he fancied himself at any time unequal to company , there was scarcely an evening in the week in which Emma could not make up a card - table for him .\"\n",
      " \"Real , long - standing regard brought the Westons and Mr . Knightley ; and by Mr . Elton , a young man living alone without liking it , the privilege of exchanging any vacant evening of his own blank solitude for the elegancies and society of Mr . Woodhouse ' s drawing - room , and the smiles of his lovely daughter , was in no danger of being thrown away .\"\n",
      " 'After these came a second set ; among the most come - at - able of whom were Mrs . and Miss Bates , and Mrs . Goddard , three ladies almost always at the service of an invitation from Hartfield , and who were fetched and carried home so often , that Mr . Woodhouse thought it no hardship for either James or the horses .'\n",
      " 'Had it taken place only once a year , it would have been a grievance .'\n",
      " 'Mrs . Bates , the widow of a former vicar of Highbury , was a very old lady , almost past every thing but tea and quadrille .'\n",
      " 'Her daughter enjoyed a most uncommon degree of popularity for a woman neither young , handsome , rich , nor married .'\n",
      " 'Miss Bates stood in the very worst predicament in the world for having much of the public favour ; and she had no intellectual superiority to make atonement to herself , or frighten those who might hate her into outward respect .'\n",
      " 'Her youth had passed without distinction , and her middle of life was devoted to the care of a failing mother , and the endeavour to make a small income go as far as possible .'\n",
      " 'And yet she was a happy woman , and a woman whom no one named without good - will .'\n",
      " \"She loved every body , was interested in every body ' s happiness , quicksighted to every body ' s merits ; thought herself a most fortunate creature , and surrounded with blessings in such an excellent mother , and so many good neighbours and friends , and a home that wanted for nothing .\"\n",
      " 'She was a great talker upon little matters , which exactly suited Mr . Woodhouse , full of trivial communications and harmless gossip .'\n",
      " 'Mrs . Goddard was the mistress of a School -- not of a seminary , or an establishment , or any thing which professed , in long sentences of refined nonsense , to combine liberal acquirements with elegant morality , upon new principles and new systems -- and where young ladies for enormous pay might be screwed out of health and into vanity -- but a real , honest , old - fashioned Boarding - school , where a reasonable quantity of accomplishments were sold at a reasonable price , and where girls might be sent to be out of the way , and scramble themselves into a little education , without any danger of coming back prodigies .'\n",
      " 'It was no wonder that a train of twenty young couple now walked after her to church .'\n",
      " \"She was a plain , motherly kind of woman , who had worked hard in her youth , and now thought herself entitled to the occasional holiday of a tea - visit ; and having formerly owed much to Mr . Woodhouse ' s kindness , felt his particular claim on her to leave her neat parlour , hung round with fancy - work , whenever she could , and win or lose a few sixpences by his fireside .\"\n",
      " \"These were the ladies whom Emma found herself very frequently able to collect ; and happy was she , for her father ' s sake , in the power ; though , as far as she was herself concerned , it was no remedy for the absence of Mrs . Weston .\"\n",
      " 'She was delighted to see her father look comfortable , and very much pleased with herself for contriving things so well ; but the quiet prosings of three such women made her feel that every evening so spent was indeed one of the long evenings she had fearfully anticipated .'\n",
      " 'As she sat one morning , looking forward to exactly such a close of the present day , a note was brought from Mrs . Goddard , requesting , in most respectful terms , to be allowed to bring Miss Smith with her ; a most welcome request : for Miss Smith was a girl of seventeen , whom Emma knew very well by sight , and had long felt an interest in , on account of her beauty .'\n",
      " \"Somebody had placed her , several years back , at Mrs . Goddard ' s school , and somebody had lately raised her from the condition of scholar to that of parlour - boarder .\"\n",
      " 'This was all that was generally known of her history .'\n",
      " 'She had no visible friends but what had been acquired at Highbury , and was now just returned from a long visit in the country to some young ladies who had been at school there with her .'\n",
      " 'She was a very pretty girl , and her beauty happened to be of a sort which Emma particularly admired .'\n",
      " 'She was short , plump , and fair , with a fine bloom , blue eyes , light hair , regular features , and a look of great sweetness , and , before the end of the evening , Emma was as much pleased with her manners as her person , and quite determined to continue the acquaintance .'\n",
      " \"She was not struck by any thing remarkably clever in Miss Smith ' s conversation , but she found her altogether very engaging -- not inconveniently shy , not unwilling to talk -- and yet so far from pushing , shewing so proper and becoming a deference , seeming so pleasantly grateful for being admitted to Hartfield , and so artlessly impressed by the appearance of every thing in so superior a style to what she had been used to , that she must have good sense , and deserve encouragement .\"\n",
      " 'Those soft blue eyes , and all those natural graces , should not be wasted on the inferior society of Highbury and its connexions .'\n",
      " 'The acquaintance she had already formed were unworthy of her .'\n",
      " 'They were a family of the name of Martin , whom Emma well knew by character , as renting a large farm of Mr . Knightley , and residing in the parish of Donwell -- very creditably , she believed -- she knew Mr . Knightley thought highly of them -- but they must be coarse and unpolished , and very unfit to be the intimates of a girl who wanted only a little more knowledge and elegance to be quite perfect .'\n",
      " '_She_ would notice her ; she would improve her ; she would detach her from her bad acquaintance , and introduce her into good society ; she would form her opinions and her manners .'\n",
      " 'It would be an interesting , and certainly a very kind undertaking ; highly becoming her own situation in life , her leisure , and powers .'\n",
      " 'She was so busy in admiring those soft blue eyes , in talking and listening , and forming all these schemes in the in - betweens , that the evening flew away at a very unusual rate ; and the supper - table , which always closed such parties , and for which she had been used to sit and watch the due time , was all set out and ready , and moved forwards to the fire , before she was aware .'\n",
      " 'With an alacrity beyond the common impulse of a spirit which yet was never indifferent to the credit of doing every thing well and attentively , with the real good - will of a mind delighted with its own ideas , did she then do all the honours of the meal , and help and recommend the minced chicken and scalloped oysters , with an urgency which she knew would be acceptable to the early hours and civil scruples of their guests .'\n",
      " 'Upon such occasions poor Mr . Woodhouses feelings were in sad warfare .'\n",
      " 'He loved to have the cloth laid , because it had been the fashion of his youth , but his conviction of suppers being very unwholesome made him rather sorry to see any thing put on it ; and while his hospitality would have welcomed his visitors to every thing , his care for their health made him grieve that they would eat .'\n",
      " 'Such another small basin of thin gruel as his own was all that he could , with thorough self - approbation , recommend ; though he might constrain himself , while the ladies were comfortably clearing the nicer things , to say :'\n",
      " '\" Mrs . Bates , let me propose your venturing on one of these eggs .'\n",
      " 'An egg boiled very soft is not unwholesome .'\n",
      " 'Serle understands boiling an egg better than any body .'\n",
      " 'I would not recommend an egg boiled by any body else ; but you need not be afraid , they are very small , you see -- one of our small eggs will not hurt you .'\n",
      " 'Miss Bates , let Emma help you to a _little_ bit of tart -- a _very_ little bit .'\n",
      " 'Ours are all apple - tarts .' 'I do not advise the custard .'\n",
      " 'Mrs . Goddard , what say you to _half_ a glass of wine ?'\n",
      " 'A _small_ half - glass , put into a tumbler of water ?'\n",
      " 'I do not think it could disagree with you .\"'\n",
      " 'Emma allowed her father to talk -- but supplied her visitors in a much more satisfactory style , and on the present evening had particular pleasure in sending them away happy .'\n",
      " 'The happiness of Miss Smith was quite equal to her intentions .'\n",
      " 'Miss Woodhouse was so great a personage in Highbury , that the prospect of the introduction had given as much panic as pleasure ; but the humble , grateful little girl went off with highly gratified feelings , delighted with the affability with which Miss Woodhouse had treated her all the evening , and actually shaken hands with her at last !'\n",
      " 'CHAPTER IV'\n",
      " \"Harriet Smith ' s intimacy at Hartfield was soon a settled thing .\"\n",
      " 'Quick and decided in her ways , Emma lost no time in inviting , encouraging , and telling her to come very often ; and as their acquaintance increased , so did their satisfaction in each other .'\n",
      " 'As a walking companion , Emma had very early foreseen how useful she might find her .'\n",
      " \"In that respect Mrs . Weston ' s loss had been important .\"\n",
      " \"Her father never went beyond the shrubbery , where two divisions of the ground sufficed him for his long walk , or his short , as the year varied ; and since Mrs . Weston ' s marriage her exercise had been too much confined .\"\n",
      " 'She had ventured once alone to Randalls , but it was not pleasant ; and a Harriet Smith , therefore , one whom she could summon at any time to a walk , would be a valuable addition to her privileges .'\n",
      " 'But in every respect , as she saw more of her , she approved her , and was confirmed in all her kind designs .'\n",
      " 'Harriet certainly was not clever , but she had a sweet , docile , grateful disposition , was totally free from conceit , and only desiring to be guided by any one she looked up to .'\n",
      " 'Her early attachment to herself was very amiable ; and her inclination for good company , and power of appreciating what was elegant and clever , shewed that there was no want of taste , though strength of understanding must not be expected .'\n",
      " \"Altogether she was quite convinced of Harriet Smith ' s being exactly the young friend she wanted -- exactly the something which her home required .\"\n",
      " 'Such a friend as Mrs . Weston was out of the question .'\n",
      " 'Two such could never be granted .' 'Two such she did not want .'\n",
      " 'Mrs . Weston was the object of a regard which had its basis in gratitude and esteem .'\n",
      " 'Harriet would be loved as one to whom she could be useful .'\n",
      " 'For Mrs . Weston there was nothing to be done ; for Harriet every thing .'\n",
      " 'Her first attempts at usefulness were in an endeavour to find out who were the parents , but Harriet could not tell .'\n",
      " 'She was ready to tell every thing in her power , but on this subject questions were vain .'\n",
      " 'Emma was obliged to fancy what she liked -- but she could never believe that in the same situation _she_ should not have discovered the truth .'\n",
      " 'Harriet had no penetration .'\n",
      " 'She had been satisfied to hear and believe just what Mrs . Goddard chose to tell her ; and looked no farther .'\n",
      " 'Mrs . Goddard , and the teachers , and the girls and the affairs of the school in general , formed naturally a great part of the conversation -- and but for her acquaintance with the Martins of Abbey - Mill Farm , it must have been the whole .'\n",
      " 'But the Martins occupied her thoughts a good deal ; she had spent two very happy months with them , and now loved to talk of the pleasures of her visit , and describe the many comforts and wonders of the place .'\n",
      " 'Emma encouraged her talkativeness -- amused by such a picture of another set of beings , and enjoying the youthful simplicity which could speak with so much exultation of Mrs . Martin \\' s having \" _two_ parlours , two very good parlours , indeed ; one of them quite as large as Mrs . Goddard \\' s drawing - room ; and of her having an upper maid who had lived five - and - twenty years with her ; and of their having eight cows , two of them Alderneys , and one a little Welch cow , a very pretty little Welch cow indeed ; and of Mrs . Martin \\' s saying as she was so fond of it , it should be called _her_ cow ; and of their having a very handsome summer - house in their garden , where some day next year they were all to drink tea :-- a very handsome summer - house , large enough to hold a dozen people .\"'\n",
      " \"She had taken up a wrong idea , fancying it was a mother and daughter , a son and son ' s wife , who all lived together ; but when it appeared that the Mr . Martin , who bore a part in the narrative , and was always mentioned with approbation for his great good - nature in doing something or other , was a single man ; that there was no young Mrs . Martin , no wife in the case ; she did suspect danger to her poor little friend from all this hospitality and kindness , and that , if she were not taken care of , she might be required to sink herself forever .\"\n",
      " 'Harriet was very ready to speak of the share he had had in their moonlight walks and merry evening games ; and dwelt a good deal upon his being so very good - humoured and obliging .'\n",
      " 'He had gone three miles round one day in order to bring her some walnuts , because she had said how fond she was of them , and in every thing else he was so very obliging .'\n",
      " \"He had his shepherd ' s son into the parlour one night on purpose to sing to her .\"\n",
      " 'He could sing a little himself .'\n",
      " 'She believed he was very clever , and understood every thing .'\n",
      " 'He had a very fine flock , and , while she was with them , he had been bid more for his wool than any body in the country .'\n",
      " 'She believed every body spoke well of him .'\n",
      " 'His mother and sisters were very fond of him .'\n",
      " 'Mrs . Martin had told her one day ( and there was a blush as she said it ,) that it was impossible for any body to be a better son , and therefore she was sure , whenever he married , he would make a good husband .'\n",
      " 'She was in no hurry at all .' 'Martin !\"' 'thought Emma .'\n",
      " '\" You know what you are about .\"'\n",
      " '\" And when she had come away , Mrs . Martin was so very kind as to send Mrs . Goddard a beautiful goose -- the finest goose Mrs . Goddard had ever seen .'\n",
      " 'Mrs . Goddard had dressed it on a Sunday , and asked all the three teachers , Miss Nash , and Miss Prince , and Miss Richardson , to sup with her .\"'\n",
      " 'He does not read ?\"'\n",
      " 'He reads the Agricultural Reports , and some other books that lay in one of the window seats -- but he reads all _them_ to himself .'\n",
      " 'But sometimes of an evening , before we went to cards , he would read something aloud out of the Elegant Extracts , very entertaining .'\n",
      " 'And I know he has read the Vicar of Wakefield .'\n",
      " 'He never read the Romance of the Forest , nor The Children of the Abbey .'\n",
      " 'He had never heard of such books before I mentioned them , but he is determined to get them now as soon as ever he can .\"'\n",
      " 'The next question was --' '\" What sort of looking man is Mr .' '\" Oh !'\n",
      " 'not handsome -- not at all handsome .' 'But did you never see him ?'\n",
      " 'He has passed you very often .\"'\n",
      " 'A young farmer , whether on horseback or on foot , is the very last sort of person to raise my curiosity .'\n",
      " 'A degree or two lower , and a creditable appearance might interest me ; I might hope to be useful to their families in some way or other .'\n",
      " '\" To be sure .' 'Oh yes !'\n",
      " 'It is not likely you should ever have observed him ; but he knows you very well indeed -- I mean by sight .\"'\n",
      " '\" I have no doubt of his being a very respectable young man .'\n",
      " 'I know , indeed , that he is so , and , as such , wish him well .'\n",
      " 'What do you imagine his age to be ?\"'\n",
      " '\" He was four - and - twenty the 8th of last June , and my birthday is the 23rd just a fortnight and a day \\' s difference -- which is very odd .\"'\n",
      " 'That is too young to settle .'\n",
      " 'His mother is perfectly right not to be in a hurry .'\n",
      " 'They seem very comfortable as they are , and if she were to take any pains to marry him , she would probably repent it .'\n",
      " 'Six years hence , if he could meet with a good sort of young woman in the same rank as his own , with a little money , it might be very desirable .\"'\n",
      " '\" Six years hence !'\n",
      " 'Dear Miss Woodhouse , he would be thirty years old !\"'\n",
      " '\" Well , and that is as early as most men can afford to marry , who are not born to an independence .'\n",
      " 'Mr . Martin , I imagine , has his fortune entirely to make -- cannot be at all beforehand with the world .'\n",
      " 'Whatever money he might come into when his father died , whatever his share of the family property , it is , I dare say , all afloat , all employed in his stock , and so forth ; and though , with diligence and good luck , he may be rich in time , it is next to impossible that he should have realised any thing yet .\"'\n",
      " '\" To be sure , so it is .' 'But they live very comfortably .'\n",
      " 'They have no indoors man , else they do not want for any thing ; and Mrs . Martin talks of taking a boy another year .\"'\n",
      " 'There can be no doubt of your being a gentleman \\' s daughter , and you must support your claim to that station by every thing within your own power , or there will be plenty of people who would take pleasure in degrading you .\"'\n",
      " 'But while I visit at Hartfield , and you are so kind to me , Miss Woodhouse , I am not afraid of what any body can do .\"'\n",
      " 'I want to see you permanently well connected , and to that end it will be advisable to have as few odd acquaintance as may be ; and , therefore , I say that if you should still be in this country when Mr . Martin marries , I wish you may not be drawn in by your intimacy with the sisters , to be acquainted with the wife , who will probably be some mere farmer \\' s daughter , without education .\"'\n",
      " '\" To be sure .' 'Yes .'\n",
      " \"However , I do not mean to set up my opinion against your ' s -- and I am sure I shall not wish for the acquaintance of his wife .\"\n",
      " 'I shall always have a great regard for the Miss Martins , especially Elizabeth , and should be very sorry to give them up , for they are quite as well educated as me .'\n",
      " 'But if he marries a very ignorant , vulgar woman , certainly I had better not visit her , if I can help it .\"'\n",
      " 'Emma watched her through the fluctuations of this speech , and saw no alarming symptoms of love .'\n",
      " \"The young man had been the first admirer , but she trusted there was no other hold , and that there would be no serious difficulty , on Harriet ' s side , to oppose any friendly arrangement of her own .\"\n",
      " 'They met Mr . Martin the very next day , as they were walking on the Donwell road .'\n",
      " 'He was on foot , and after looking very respectfully at her , looked with most unfeigned satisfaction at her companion .'\n",
      " 'Emma was not sorry to have such an opportunity of survey ; and walking a few yards forward , while they talked together , soon made her quick eye sufficiently acquainted with Mr . Robert Martin .'\n",
      " \"His appearance was very neat , and he looked like a sensible young man , but his person had no other advantage ; and when he came to be contrasted with gentlemen , she thought he must lose all the ground he had gained in Harriet ' s inclination .\"\n",
      " \"Harriet was not insensible of manner ; she had voluntarily noticed her father ' s gentleness with admiration as well as wonder .\"\n",
      " 'Mr . Martin looked as if he did not know what manner was .'\n",
      " 'They remained but a few minutes together , as Miss Woodhouse must not be kept waiting ; and Harriet then came running to her with a smiling face , and in a flutter of spirits , which Miss Woodhouse hoped very soon to compose .'\n",
      " '\" Only think of our happening to meet him !-- How very odd !'\n",
      " 'It was quite a chance , he said , that he had not gone round by Randalls .'\n",
      " 'He did not think we ever walked this road .'\n",
      " 'He thought we walked towards Randalls most days .'\n",
      " 'He was so busy the last time he was at Kingston that he quite forgot it , but he goes again to - morrow .'\n",
      " 'So very odd we should happen to meet !'\n",
      " 'Well , Miss Woodhouse , is he like what you expected ?'\n",
      " 'What do you think of him ?' 'Do you think him so very plain ?\"'\n",
      " '\" He is very plain , undoubtedly -- remarkably plain :-- but that is nothing compared with his entire want of gentility .'\n",
      " 'I had no right to expect much , and I did not expect much ; but I had no idea that he could be so very clownish , so totally without air .'\n",
      " 'I had imagined him , I confess , a degree or two nearer gentility .\"'\n",
      " '\" I think , Harriet , since your acquaintance with us , you have been repeatedly in the company of some such very real gentlemen , that you must yourself be struck with the difference in Mr . Martin .'\n",
      " 'Do not you begin to feel that now ?' 'Were not you struck ?'\n",
      " '\" Certainly , he is not like Mr . Knightley .'\n",
      " 'He has not such a fine air and way of walking as Mr . Knightley .'\n",
      " 'I see the difference plain enough .'\n",
      " 'But Mr . Knightley is so very fine a man !\"'\n",
      " 'You might not see one in a hundred with _gentleman_ so plainly written as in Mr . Knightley .'\n",
      " 'What say you to Mr . Weston and Mr . Elton ?'\n",
      " 'Compare Mr . Martin with either of _them_ .'\n",
      " 'Compare their manner of carrying themselves ; of walking ; of speaking ; of being silent .'\n",
      " '\" Oh yes !-- there is a great difference .'\n",
      " 'Mr . Weston must be between forty and fifty .\"'\n",
      " '\" Which makes his good manners the more valuable .'\n",
      " 'What is passable in youth is detestable in later age .'\n",
      " 'Mr . Martin is now awkward and abrupt ; what will he be at Mr . Weston \\' s time of life ?\"'\n",
      " '\" There is no saying , indeed ,\" replied Harriet rather solemnly .'\n",
      " '\" But there may be pretty good guessing .'\n",
      " 'He will be a completely gross , vulgar farmer , totally inattentive to appearances , and thinking of nothing but profit and loss .\"'\n",
      " 'That will be very bad .\"'\n",
      " '\" How much his business engrosses him already is very plain from the circumstance of his forgetting to inquire for the book you recommended .'\n",
      " 'He was a great deal too full of the market to think of any thing else -- which is just as it should be , for a thriving man .'\n",
      " 'And I have no doubt that he _will_ thrive , and be a very rich man in time -- and his being illiterate and coarse need not disturb _us_ .\"'\n",
      " '\" I wonder he did not remember the book \"-- was all Harriet \\' s answer , and spoken with a degree of grave displeasure which Emma thought might be safely left to itself .'\n",
      " 'She , therefore , said no more for some time .'\n",
      " 'Her next beginning was ,' 'They have more gentleness .'\n",
      " 'They might be more safely held up as a pattern .'\n",
      " 'There is an openness , a quickness , almost a bluntness in Mr . Weston , which every body likes in _him_ , because there is so much good - humour with it -- but that would not do to be copied .'\n",
      " 'On the contrary , I think a young man might be very safely recommended to take Mr . Elton as a model .'\n",
      " 'Mr . Elton is good - humoured , cheerful , obliging , and gentle .'\n",
      " 'I do not know whether he has any design of ingratiating himself with either of us , Harriet , by additional softness , but it strikes me that his manners are softer than they used to be .'\n",
      " 'She then repeated some warm personal praise which she had drawn from Mr . Elton , and now did full justice to ; and Harriet blushed and smiled , and said she had always thought Mr . Elton very agreeable .'\n",
      " 'She thought it would be an excellent match ; and only too palpably desirable , natural , and probable , for her to have much merit in planning it .'\n",
      " 'She feared it was what every body else must think of and predict .'\n",
      " \"Mr . Elton ' s situation was most suitable , quite the gentleman himself , and without low connexions ; at the same time , not of any family that could fairly object to the doubtful birth of Harriet .\"\n",
      " \"She had already satisfied herself that he thought Harriet a beautiful girl , which she trusted , with such frequent meetings at Hartfield , was foundation enough on his side ; and on Harriet ' s there could be little doubt that the idea of being preferred by him would have all the usual weight and efficacy .\"\n",
      " 'And he was really a very pleasing young man , a young man whom any woman not fastidious might like .'\n",
      " \"He was reckoned very handsome ; his person much admired in general , though not by her , there being a want of elegance of feature which she could not dispense with :-- but the girl who could be gratified by a Robert Martin ' s riding about the country to get walnuts for her might very well be conquered by Mr . Elton ' s admiration .\"\n",
      " 'CHAPTER V'\n",
      " '\" I do not know what your opinion may be , Mrs . Weston ,\" said Mr . Knightley , \" of this great intimacy between Emma and Harriet Smith , but I think it a bad thing .\"'\n",
      " '\" A bad thing !' 'Do you really think it a bad thing ?-- why so ?\"'\n",
      " '\" I think they will neither of them do the other any good .\"'\n",
      " '\" You surprize me !'\n",
      " 'Emma must do Harriet good : and by supplying her with a new object of interest , Harriet may be said to do Emma good .'\n",
      " 'I have been seeing their intimacy with the greatest pleasure .'\n",
      " 'How very differently we feel !-- Not think they will do each other any good !'\n",
      " 'This will certainly be the beginning of one of our quarrels about Emma , Mr .'\n",
      " 'Knightley .\"'\n",
      " 'We were speaking of it only yesterday , and agreeing how fortunate it was for Emma , that there should be such a girl in Highbury for her to associate with .'\n",
      " 'Mr . Knightley , I shall not allow you to be a fair judge in this case .'\n",
      " 'You are so much used to live alone , that you do not know the value of a companion ; and , perhaps no man can be a good judge of the comfort a woman feels in the society of one of her own sex , after being used to it all her life .'\n",
      " 'I can imagine your objection to Harriet Smith .'\n",
      " \"She is not the superior young woman which Emma ' s friend ought to be .\"\n",
      " 'But on the other hand , as Emma wants to see her better informed , it will be an inducement to her to read more herself .'\n",
      " 'I have seen a great many lists of her drawing - up at various times of books that she meant to read regularly through -- and very good lists they were -- very well chosen , and very neatly arranged -- sometimes alphabetically , and sometimes by some other rule .'\n",
      " 'The list she drew up when only fourteen -- I remember thinking it did her judgment so much credit , that I preserved it some time ; and I dare say she may have made out a very good list now .'\n",
      " 'But I have done with expecting any course of steady reading from Emma .'\n",
      " 'She will never submit to any thing requiring industry and patience , and a subjection of the fancy to the understanding .'\n",
      " '\" I dare say ,\" replied Mrs . Weston , smiling , \" that I thought so _then_ ;-- but since we have parted , I can never remember Emma \\' s omitting to do any thing I wished .\"'\n",
      " '\" There is hardly any desiring to refresh such a memory as _that_ ,\"-- said Mr . Knightley , feelingly ; and for a moment or two he had done .'\n",
      " '\" But I ,\" he soon added , \" who have had no such charm thrown over my senses , must still see , hear , and remember .'\n",
      " 'Emma is spoiled by being the cleverest of her family .'\n",
      " 'She was always quick and assured : Isabella slow and diffident .'\n",
      " 'And ever since she was twelve , Emma has been mistress of the house and of you all .'\n",
      " 'She inherits her mother \\' s talents , and must have been under subjection to her .\"']\n"
     ]
    }
   ],
   "source": [
    "print(x_data_train)"
   ]
  },
  {
   "cell_type": "code",
   "execution_count": 15,
   "metadata": {
    "_uuid": "a003c3c4c94751651036a8f150a65be1e091bb06",
    "scrolled": true
   },
   "outputs": [
    {
     "data": {
      "text/plain": [
       "RandomizedSearchCV(cv=3, error_score='raise-deprecating',\n",
       "          estimator=Pipeline(memory=None,\n",
       "     steps=[('tfidf', TfidfVectorizer(analyzer='word', binary=False, decode_error='strict',\n",
       "        dtype=<class 'numpy.float64'>, encoding='utf-8', input='content',\n",
       "        lowercase=True, max_df=1.0, max_features=None, min_df=1,\n",
       "        ngram_range=(1, 1), norm='l2', preprocessor=None, smooth_idf=True,...i',\n",
       "           metric_params=None, n_jobs=None, n_neighbors=10, p=2,\n",
       "           weights='uniform'))]),\n",
       "          fit_params=None, iid='warn', n_iter=20, n_jobs=1,\n",
       "          param_distributions={'clf__n_neighbors': range(1, 60), 'clf__weights': ['uniform', 'distance']},\n",
       "          pre_dispatch='2*n_jobs', random_state=None, refit=True,\n",
       "          return_train_score='warn', scoring='accuracy', verbose=0)"
      ]
     },
     "execution_count": 15,
     "metadata": {},
     "output_type": "execute_result"
    }
   ],
   "source": [
    "hyperpar_selector.fit(X=x_data_train, y=y_data_train)"
   ]
  },
  {
   "cell_type": "code",
   "execution_count": 16,
   "metadata": {
    "_uuid": "ff27420b2baa60b2c4807cbeecce5efa8bca070b"
   },
   "outputs": [
    {
     "name": "stdout",
     "output_type": "stream",
     "text": [
      "Best score: 0.687\n",
      "Best parameters set:\n",
      "\tclf__n_neighbors: 2\n",
      "\tclf__weights: 'distance'\n"
     ]
    }
   ],
   "source": [
    "print(\"Best score: %0.3f\" % hyperpar_selector.best_score_)\n",
    "print(\"Best parameters set:\")\n",
    "best_parameters = hyperpar_selector.best_estimator_.get_params()\n",
    "for param_name in sorted(par.keys()):\n",
    "    print(\"\\t%s: %r\" % (param_name, best_parameters[param_name]))"
   ]
  },
  {
   "cell_type": "markdown",
   "metadata": {
    "_uuid": "01509c3f9e2eaa500b7f8e161be1d8e785251fc9"
   },
   "source": [
    "<b>4. Testando o classificador</b>"
   ]
  },
  {
   "cell_type": "markdown",
   "metadata": {
    "_uuid": "d5296fbf715ca56fc752089af7b2af00191a09d5"
   },
   "source": [
    "<p>Agora vamos usar o classificador com o nosso dataset de testes, e observar os resultados:</p>"
   ]
  },
  {
   "cell_type": "code",
   "execution_count": 17,
   "metadata": {
    "_uuid": "cd87421c099a977a993cca07145054ef5ba113cc"
   },
   "outputs": [
    {
     "name": "stdout",
     "output_type": "stream",
     "text": [
      "0.705607476635514\n"
     ]
    }
   ],
   "source": [
    "from sklearn.metrics import *\n",
    "\n",
    "y_pred = hyperpar_selector.predict(x_data_test)\n",
    "\n",
    "print(accuracy_score(y_data_test, y_pred))"
   ]
  },
  {
   "cell_type": "markdown",
   "metadata": {
    "_uuid": "e8644502f3117d2ad16e9e278570f16f844e06aa"
   },
   "source": [
    "<b>5. Serializando o modelo</b><br>"
   ]
  },
  {
   "cell_type": "code",
   "execution_count": 18,
   "metadata": {
    "_uuid": "04b8d4e75d69d456a92d496636335197a95f5e7f"
   },
   "outputs": [],
   "source": [
    "import pickle\n",
    "\n",
    "string_obj = pickle.dumps(hyperpar_selector)"
   ]
  },
  {
   "cell_type": "code",
   "execution_count": 19,
   "metadata": {
    "_uuid": "2f777e622dee0cda85453ba6ff90d762df4c37a4"
   },
   "outputs": [],
   "source": [
    "model_file = open('model.pkl', 'wb')\n",
    "\n",
    "model_file.write(string_obj)\n",
    "\n",
    "model_file.close()"
   ]
  },
  {
   "cell_type": "markdown",
   "metadata": {
    "_uuid": "ae7a3b02e732f9884697d90a8841b643bf7d5e33"
   },
   "source": [
    "<b>6. Abrindo e usando um modelo salvo </b><br>"
   ]
  },
  {
   "cell_type": "code",
   "execution_count": 20,
   "metadata": {
    "_uuid": "7cda7cfbd4b3543c04197cc17636a5bd5f439798"
   },
   "outputs": [
    {
     "name": "stdout",
     "output_type": "stream",
     "text": [
      "[0]\n"
     ]
    }
   ],
   "source": [
    "\n",
    "model_file = open('model.pkl', 'rb')\n",
    "model_content = model_file.read()\n",
    "\n",
    "obj_classifier = pickle.loads(model_content)\n",
    "\n",
    "model_file.close()\n",
    "\n",
    "res = obj_classifier.predict([\"Where is the main\"])\n",
    "\n",
    "print(res)"
   ]
  },
  {
   "cell_type": "code",
   "execution_count": 21,
   "metadata": {
    "_uuid": "69e205c4248f847362e35b0db275a10456bad4bd"
   },
   "outputs": [
    {
     "name": "stdout",
     "output_type": "stream",
     "text": [
      "0.705607476635514\n"
     ]
    }
   ],
   "source": [
    "res = obj_classifier.predict(x_data_test)\n",
    "print(accuracy_score(y_data_test, res))"
   ]
  },
  {
   "cell_type": "code",
   "execution_count": 22,
   "metadata": {
    "_uuid": "4179e49865206470a6974703bb81c58e7a57161f"
   },
   "outputs": [
    {
     "name": "stdout",
     "output_type": "stream",
     "text": [
      "[0 0 0 0 0 0 0 0 0 0 1 0 0 1 0 0 0 1 0 0 0 0 0 0 0 0 0 0 0 0 0 0 0 0 0 0 0\n",
      " 0 0 0 0 0 0 0 0 0 1 0 0 1 0 0 0 0 0 0 0 0 0 0 0 1 0 0 0 1 0 0 0 0 0 0 0 1\n",
      " 0 0 0 0 0 0 0 0 0 0 0 0 0 0 0 0 0 0 0 0 0 0 0 1 0 0 0 0 0 0 0 0 0 0 0 0 0\n",
      " 0 0 0 0 0 0 1 0 0 1 0 1 0 0 0 0 0 1 1 1 1 0 0 0 0 1 1 1 1 1 1 1 0 0 0 0 0\n",
      " 1 0 0 0 0 0 0 1 0 1 1 0 1 0 1 0 0 0 0 1 1 1 0 0 1 1 1 1 0 1 0 1 0 0 1 1 1\n",
      " 0 0 1 0 1 1 0 1 1 1 1 0 1 0 0 1 1 1 0 0 0 0 1 0 0 1 1 0 1]\n"
     ]
    }
   ],
   "source": [
    "res = obj_classifier.predict(x_data_test)\n",
    "\n",
    "print(res)"
   ]
  },
  {
   "cell_type": "code",
   "execution_count": 23,
   "metadata": {
    "_uuid": "18f7bc380f9bd026fef63efd76e6e58b601aed63"
   },
   "outputs": [
    {
     "name": "stdout",
     "output_type": "stream",
     "text": [
      "sounds good to me.\n",
      "\n",
      "hurry ladies\n",
      "\n",
      "yes 10-19-20sUser30\n",
      "\n",
      "yes 10-19-20sUser121??\n",
      "\n",
      "i already wrote what i wanted you to read.\n",
      "\n",
      "what'd I miss?\n",
      "\n",
      "bye  10-19-20sUser148\n",
      "\n",
      "dr phil said so\n",
      "\n",
      "yes 10-19-20sUser92???\n",
      "\n",
      "She recalled her past kindness -- the kindness , the affection of sixteen years -- how she had taught and how she had played with her from five years old -- how she had devoted all her powers to attach and amuse her in health -- and how nursed her through the various illnesses of childhood .\n",
      "\n",
      "All looked up to them .\n",
      "\n",
      "He was a nervous man , easily depressed ; fond of every body that he was used to , and hating to part with them ; hating change of every kind .\n",
      "\n",
      "Whenever I see her , she always curtseys and asks me how I do , in a very pretty manner ; and when you have had her here to do needlework , I observe she always turns the lock of the door the right way and never bangs it .\n",
      "\n",
      "He will be able to tell her how we all are .\"\n",
      "\n",
      "It was a happy circumstance , and animated Mr . Woodhouse for some time .\n",
      "\n",
      "I am afraid you must have had a shocking walk .\"\n",
      "\n",
      "Oh no !\n",
      "\n",
      "Miss Taylor has been used to have two persons to please ; she will now have but one .\n",
      "\n",
      "\" It is impossible that Emma should not miss such a companion ,\" said Mr . Knightley .\n",
      "\n",
      "Pray do not make any more matches .\"\n",
      "\n",
      "Mr . Weston , who had been a widower so long , and who seemed so perfectly comfortable without a wife , so constantly occupied either in his business in town or among his friends here , always acceptable wherever he went , always cheerful -- Mr . Weston need not spend a single evening in the year alone if he did not like it .\n",
      "\n",
      "\" I do not understand what you mean by ` success ,'\" said Mr . Knightley .\n",
      "\n",
      "Poor Mr . Elton !\n",
      "\n",
      "I understand it was a very handsome letter , indeed .\n",
      "\n",
      "She had never boasted either beauty or cleverness .\n",
      "\n",
      "The simplicity and cheerfulness of her nature , her contented and grateful spirit , were a recommendation to every body , and a mine of felicity to herself .\n",
      "\n",
      "Mrs . Goddard ' s school was in high repute -- and very deservedly ; for Highbury was reckoned a particularly healthy spot : she had an ample house and garden , gave the children plenty of wholesome food , let them run about a great deal in the summer , and in winter dressed their chilblains with her own hands .\n",
      "\n",
      "Harriet Smith was the natural daughter of somebody .\n",
      "\n",
      "The friends from whom she had just parted , though very good sort of people , must be doing her harm .\n",
      "\n",
      "She was very fond of singing .\n",
      "\n",
      "Not that she _wanted_ him to marry .\n",
      "\n",
      "\" Well done , Mrs .\n",
      "\n",
      "Martin ?\"\n",
      "\n",
      "I thought him very plain at first , but I do not think him so plain now .\n",
      "\n",
      "One does not , you know , after a time .\n",
      "\n",
      "He is in Highbury every now and then , and he is sure to ride through every week in his way to Kingston .\n",
      "\n",
      "The yeomanry are precisely the order of people with whom I feel I can have nothing to do .\n",
      "\n",
      "\" Only four - and - twenty .\n",
      "\n",
      "\" Yes , to be sure , I suppose there are .\n",
      "\n",
      "\" You understand the force of influence pretty well , Harriet ; but I would have you so firmly established in good society , as to be independent even of Hartfield and Miss Woodhouse .\n",
      "\n",
      "Not that I think Mr . Martin would ever marry any body but what had had some education -- and been very well brought up .\n",
      "\n",
      "At Hartfield , you have had very good specimens of well educated , well bred men .\n",
      "\n",
      "I am sure you must have been struck by his awkward look and abrupt manner , and the uncouthness of a voice which I heard to be wholly unmodulated as I stood here .\"\n",
      "\n",
      "\" Mr . Knightley ' s air is so remarkably good that it is not fair to compare Mr . Martin with _him_ .\n",
      "\n",
      "You must see the difference .\"\n",
      "\n",
      "But Mr . Weston is almost an old man .\n",
      "\n",
      "The older a person grows , Harriet , the more important it is that their manners should not be bad ; the more glaring and disgusting any loudness , or coarseness , or awkwardness becomes .\n",
      "\n",
      "\" Will he , indeed ?\n",
      "\n",
      "\" In one respect , perhaps , Mr . Elton ' s manners are superior to Mr . Knightley ' s or Mr . Weston ' s .\n",
      "\n",
      "If he means any thing , it must be to please you .\n",
      "\n",
      "Did not I tell you what he said of you the other day ?\"\n",
      "\n",
      "Mr . Elton was the very person fixed on by Emma for driving the young farmer out of Harriet ' s head .\n",
      "\n",
      "\" Mr . Weston would undoubtedly support me , if he were here , for he thinks exactly as I do on the subject .\n",
      "\n",
      "\" Emma has been meaning to read more ever since she was twelve years old .\n",
      "\n",
      "Where Miss Taylor failed to stimulate , I may safely affirm that Harriet Smith will do nothing .-- You never could persuade her to read half so much as you wished .-- You know you could not .\"\n",
      "\n",
      "In her mother she lost the only person able to cope with her .\n",
      "\n"
     ]
    }
   ],
   "source": [
    "formal = [x_data_test[i] for i in range(len(res)) if res[i] == 1]\n",
    "\n",
    "for txt in formal:\n",
    "    print(\"%s\\n\" % txt)\n"
   ]
  },
  {
   "cell_type": "code",
   "execution_count": 24,
   "metadata": {
    "_uuid": "640d327d1e766e1e919497432ef1d17bae926c37"
   },
   "outputs": [
    {
     "name": "stdout",
     "output_type": "stream",
     "text": [
      ":)\n",
      "\n",
      "JOIN\n",
      "\n",
      "26/ m/ ky women that are nice please pm me\n",
      "\n",
      "JOIN\n",
      "\n",
      "fuck you 10-19-20sUser121:@\n",
      "\n",
      "that sounds painful\n",
      "\n",
      "26/m\n",
      "\n",
      "JOIN\n",
      "\n",
      "26/m and sexy\n",
      "\n",
      "& a head between her legs\n",
      "\n",
      "I'll take one, please.\n",
      "\n",
      "Any ladies wanna chat with 24/m\n",
      "\n",
      "JOIN\n",
      "\n",
      "my chair is too hard.\n",
      "\n",
      "hey \n",
      "\n",
      "JOIN\n",
      "\n",
      "yo, 10-19-20sUser133\n",
      "\n",
      ":)\n",
      "\n",
      "sho*\n",
      "\n",
      "hey any guys with cams wanna play?\n",
      "\n",
      "PART\n",
      "\n",
      "sure 10-19-20sUser126\n",
      "\n",
      "what did you but on e-bay\n",
      "\n",
      "im considering changing my nickname to \"ihavehotnips\"\n",
      "\n",
      "u should 10-19-20sUser44:)\n",
      "\n",
      "JOIN\n",
      "\n",
      "you should make it 'iamahotnip', 10-19-20sUser44\n",
      "\n",
      "alright\n",
      "\n",
      "hi 10-19-20sUser126, its so late\n",
      "\n",
      "PART\n",
      "\n",
      "answers for 10-19-20sUser139 ... hi 10-19-20sUser101 ;)\n",
      "\n",
      "I like it when you do it, 10-19-20sUser83\n",
      "\n",
      "iamahotnipwithpics\n",
      "\n",
      "JOIN\n",
      "\n",
      "uh huh \n",
      "\n",
      "A gold jeep charm for my necklace 10-19-20sUser30\n",
      "\n",
      "OOooOO:)\n",
      "\n",
      "how you doin 10-19-20sUser139\n",
      "\n",
      "how many kts\n",
      "\n",
      "lmao!!!\n",
      "\n",
      "10-19-20sUser6,\n",
      "\n",
      ".ACTION watches 10-19-20sUser6 hug the stuffin' outta 10-19-20sUser115....\n",
      "\n",
      "please behave baby boy.. I gottsa go now\n",
      "\n",
      "aww 10-19-20sUser6 have fun\n",
      "\n",
      "forwads away from 10-19-20sUser121\n",
      "\n",
      "PART\n",
      "\n",
      "i hate it when my devotion to christianity is questioned.\n",
      "\n",
      "lmao 10-19-20sUser7!!!\n",
      "\n",
      ":)\n",
      "\n",
      "On what kinda pervs your lookin for\n",
      "\n",
      "lolololll serg!!!\n",
      "\n",
      "oh well\n",
      "\n",
      "JOIN\n",
      "\n",
      "jerkettes?? lmao\n",
      "\n",
      "no i dont want daughters!!\n",
      "\n",
      ":(\n",
      "\n",
      "lol\n",
      "\n",
      "10-19-20sUser7\n",
      "\n",
      "10-19-20sUser92.\n",
      "\n",
      "PART\n",
      "\n",
      "JOIN\n",
      "\n",
      "huh?\n",
      "\n",
      "PART\n",
      "\n",
      "deep inside 10-19-20sUser121 wants what she hates\n",
      "\n",
      "ahahah 10-19-20sUser7!!\n",
      "\n",
      "Lmfao\n",
      "\n",
      "i hate you 10-19-20sUser68. does that mean I want you?\n",
      "\n",
      "10-19-20sUser6\n",
      "\n",
      ".ACTION pokes 10-19-20sUser116.\n",
      "\n",
      "if your fiance is still here could i talk to him?\n",
      "\n",
      "JOIN\n",
      "\n",
      "I think I am the exception to the rule\n",
      "\n",
      "he's in PM land now though\n",
      "\n",
      "i need to go this summer.\n",
      "\n",
      "JOIN\n",
      "\n",
      "lol 10-19-20sUser7\n",
      "\n",
      "hahah 10-19-20sUser83!\n",
      "\n",
      "K-Fed got his ass kicked.. Lol\n",
      "\n",
      ".ACTION laughs.\n",
      "\n",
      "any texas girls in here?\n",
      "\n",
      "any guys have webcams?\n",
      "\n",
      "lmaoooo\n",
      "\n",
      "Aw, man.\n",
      "\n",
      "whats up 10-19-20sUser155\n",
      "\n",
      "lol\n",
      "\n",
      "pick me\n",
      "\n",
      ".ACTION is re-thinking the re-think .\n",
      "\n",
      "10-19-20sUser6\n",
      "\n",
      "nothing much u\n",
      "\n",
      "sits with 10-19-20sUser30\n",
      "\n",
      "You can pick your friends.. And you can pick your nose.. But you can't pick your friends nose.\n",
      "\n",
      ".ACTION sticks his fingers in 10-19-20sUser7s face.\n",
      "\n",
      "lmaooo 10-19-20sUser92!!!!!!\n",
      "\n",
      "ewwww\n",
      "\n",
      "10-19-20sUser115!\n",
      "\n",
      "JOIN\n",
      "\n",
      ".ACTION licks 10-19-20sUser116's ear.\n",
      "\n",
      "PART\n",
      "\n",
      "Meep\n",
      "\n",
      "yeah\n",
      "\n",
      "youasshole!\n",
      "\n",
      "Check my record.\n",
      "\n",
      "yo 10-19-20sUser115, may i om y?\n",
      "\n",
      ".ACTION lix.\n",
      "\n",
      "Emma Woodhouse , handsome , clever , and rich , with a comfortable home and happy disposition , seemed to unite some of the best blessings of existence ; and had lived nearly twenty - one years in the world with very little to distress or vex her .\n",
      "\n",
      "The wedding over , and the bride - people gone , her father and herself were left to dine together , with no prospect of a third to cheer a long evening .\n",
      "\n",
      "Her father composed himself to sleep after dinner , as usual , and she had then only to sit and think of what she had lost .\n",
      "\n",
      "The event had every promise of happiness for her friend .\n",
      "\n",
      "He could not meet her in conversation , rational or playful .\n",
      "\n",
      "The evil of the actual disparity in their ages ( and Mr . Woodhouse had not married early ) was much increased by his constitution and habits ; for having been a valetudinarian all his life , without activity of mind or body , he was a much older man in ways than in years ; and though everywhere beloved for the friendliness of his heart and his amiable temper , his talents could not have recommended him at any time .\n",
      "\n",
      "His spirits required support .\n",
      "\n",
      "Matrimony , as the origin of change , was always disagreeable ; and he was by no means yet reconciled to his own daughter ' s marrying , nor could ever speak of her but with compassion , though it had been entirely a match of affection , when he was now obliged to part with Miss Taylor too ; and from his habits of gentle selfishness , and of being never able to suppose that other people could feel differently from himself , he was very much disposed to think Miss Taylor had done as sad a thing for herself as for them , and would have been a great deal happier if she had spent all the rest of her life at Hartfield .\n",
      "\n",
      "\" How often we shall be going to see them , and they coming to see us !-- We shall be always meeting !\n",
      "\n",
      "\" No , papa , nobody thought of your walking .\n",
      "\n",
      "And as for James , you may be very sure he will always like going to Randalls , because of his daughter ' s being housemaid there .\n",
      "\n",
      "You got Hannah that good place .\n",
      "\n",
      "Being pretty well aware of what sort of joy you must both be feeling , I have been in no hurry with my congratulations ; but I hope it all went off tolerably well .\n",
      "\n",
      "How did you all behave ?\n",
      "\n",
      "I have a great regard for you and Emma ; but when it comes to the question of dependence or independence !-- At any rate , it must be better to have only one to please than two .\"\n",
      "\n",
      "What a horrible idea !\n",
      "\n",
      "There is nobody in Highbury who deserves him -- and he has been here a whole year , and has fitted up his house so comfortably , that it would be a shame to have him single any longer -- and I thought when he was joining their hands to - day , he looked so very much as if he would like to have the same kind office done for him !\n",
      "\n",
      "But if you want to shew him any attention , my dear , ask him to come and dine with us some day .\n",
      "\n",
      "They lived beyond their income , but still it was nothing in comparison of Enscombe : she did not cease to love her husband , but she wanted at once to be the wife of Captain Weston , and Miss Churchill of Enscombe .\n",
      "\n",
      "A complete change of life became desirable .\n",
      "\n",
      "Mr . Frank Churchill was one of the boasts of Highbury , and a lively curiosity to see him prevailed , though the compliment was so little returned that he had never been there in his life .\n",
      "\n",
      "It was , indeed , a highly prized letter .\n",
      "\n",
      "Mrs . Weston had , of course , formed a very favourable idea of the young man ; and such a pleasing attention was an irresistible proof of his great good sense , and a most welcome addition to every source and every expression of congratulation which her marriage had already secured .\n",
      "\n",
      "And then there was such comfort in the very easy distance of Randalls from Hartfield , so convenient for even solitary female walking , and in Mr . Weston ' s disposition and circumstances , which would make the approaching season no hindrance to their spending half the evenings in the week together .\n",
      "\n",
      "Mr . Perry was an intelligent , gentlemanlike man , whose frequent visits were one of the comforts of Mr . Woodhouse ' s life ; and upon being applied to , he could not but acknowledge ( though it seemed rather against the bias of inclination ) that wedding - cake might certainly disagree with many -- perhaps with most people , unless taken moderately .\n",
      "\n",
      "Mr . Woodhouse was fond of society in his own way .\n",
      "\n",
      "She lived with her single daughter in a very small way , and was considered with all the regard and respect which a harmless old lady , under such untoward circumstances , can excite .\n",
      "\n",
      "It was her own universal good - will and contented temper which worked such wonders .\n",
      "\n",
      "A very gracious invitation was returned , and the evening no longer dreaded by the fair mistress of the mansion .\n",
      "\n",
      "Encouragement should be given .\n",
      "\n",
      "You need not be afraid of unwholesome preserves here .\n",
      "\n",
      "It was quite a different sort of thing , a sentiment distinct and independent .\n",
      "\n",
      "For some time she was amused , without thinking beyond the immediate cause ; but as she came to understand the family better , other feelings arose .\n",
      "\n",
      "With this inspiriting notion , her questions increased in number and meaning ; and she particularly led Harriet to talk more of Mr . Martin , and there was evidently no dislike to it .\n",
      "\n",
      "\" Mr . Martin , I suppose , is not a man of information beyond the line of his own business ?\n",
      "\n",
      "\" Oh yes !-- that is , no -- I do not know -- but I believe he has read a good deal -- but not what you would think any thing of .\n",
      "\n",
      "\" That may be , and I may have seen him fifty times , but without having any idea of his name .\n",
      "\n",
      "But a farmer can need none of my help , and is , therefore , in one sense , as much above my notice as in every other he is below it .\"\n",
      "\n",
      "\" I wish you may not get into a scrape , Harriet , whenever he does marry ;-- I mean , as to being acquainted with his wife -- for though his sisters , from a superior education , are not to be altogether objected to , it does not follow that he might marry any body at all fit for you to notice .\n",
      "\n",
      "The misfortune of your birth ought to make you particularly careful as to your associates .\n",
      "\n",
      "He has not been able to get the Romance of the Forest yet .\n",
      "\n",
      "\" To be sure ,\" said Harriet , in a mortified voice , \" he is not so genteel as real gentlemen .\"\n",
      "\n",
      "I should be surprized if , after seeing them , you could be in company with Mr . Martin again without perceiving him to be a very inferior creature -- and rather wondering at yourself for having ever thought him at all agreeable before .\n",
      "\n",
      "But he is not the only gentleman you have been lately used to .\n",
      "\n",
      "What has he to do with books ?\n",
      "\n",
      "Neither would Mr . Knightley ' s downright , decided , commanding sort of manner , though it suits _him_ very well ; his figure , and look , and situation in life seem to allow it ; but if any young man were to set about copying him , he would not be sufferable .\n",
      "\n",
      "He seems to me to be grown particularly gentle of late .\n",
      "\n",
      "It was not likely , however , that any body should have equalled her in the date of the plan , as it had entered her brain during the very first evening of Harriet ' s coming to Hartfield .\n",
      "\n",
      "The longer she considered it , the greater was her sense of its expediency .\n",
      "\n",
      "He had a comfortable home for her , and Emma imagined a very sufficient income ; for though the vicarage of Highbury was not large , he was known to have some independent property ; and she thought very highly of him as a good - humoured , well - meaning , respectable young man , without any deficiency of useful understanding or knowledge of the world .\n",
      "\n",
      "\" Perhaps you think I am come on purpose to quarrel with you , knowing Weston to be out , and that you must still fight your own battle .\"\n",
      "\n",
      "They will read together .\n",
      "\n",
      "She means it , I know .\"\n",
      "\n",
      "At ten years old , she had the misfortune of being able to answer questions which puzzled her sister at seventeen .\n",
      "\n"
     ]
    }
   ],
   "source": [
    "informal = [x_data_test[i] for i in range(len(res)) if res[i] == 0]\n",
    "\n",
    "for txt in informal:\n",
    "    print(\"%s\\n\" % txt)"
   ]
  },
  {
   "cell_type": "code",
   "execution_count": 25,
   "metadata": {
    "_uuid": "cf1536c256269a8933315b40a448b91116e9fcf6"
   },
   "outputs": [
    {
     "name": "stdout",
     "output_type": "stream",
     "text": [
      "[1]\n"
     ]
    }
   ],
   "source": [
    "res2 = obj_classifier.predict([\"Emma spared no exertions to maintain this happier flow of ideas , and hoped , by the help of backgammon , to get her father tolerably through the evening , and be attacked by no regrets but her own\"])\n",
    "\n",
    "print(res2)"
   ]
  },
  {
   "cell_type": "markdown",
   "metadata": {
    "_uuid": "84bec3534ea03eae2f3cd37617a48520c60aba0a",
    "collapsed": true
   },
   "source": [
    "<p><b>Exercício 4:</b>  Treine um modelo para classificar sentenças de acordo com o sentimento (positivo ou negativo), utilizando o corpus sentence_polarity do nltk.\n",
    "    Dica: Para obter sentenças positivas use:\n",
    "</p>"
   ]
  },
  {
   "cell_type": "code",
   "execution_count": 26,
   "metadata": {
    "_uuid": "8ffa5cf345b4c00e1d98b67574989ef8ad4381ed"
   },
   "outputs": [
    {
     "name": "stdout",
     "output_type": "stream",
     "text": [
      "[nltk_data] Downloading package sentence_polarity to\n",
      "[nltk_data]     /usr/share/nltk_data...\n",
      "[nltk_data]   Package sentence_polarity is already up-to-date!\n"
     ]
    }
   ],
   "source": [
    "import nltk\n",
    "nltk.download('sentence_polarity')\n",
    "from nltk.corpus import sentence_polarity\n",
    "\n",
    "sentencasPos = sentence_polarity.sents(categories=['pos'])\n",
    "sentencasNeg = sentence_polarity.sents(categories=['neg'])\n",
    "\n",
    "y_data_neg = [0] * len(sentencasNeg)\n",
    "y_data_pos = [1] * len(sentencasPos)\n",
    "y_data_full_pol =  y_data_pos[:500] + y_data_neg[:500] \n",
    "\n",
    "\n"
   ]
  },
  {
   "cell_type": "code",
   "execution_count": 27,
   "metadata": {},
   "outputs": [],
   "source": [
    "x_data_pol_pos = []\n",
    "x_data_pol_pos.extend([' '.join(sent) for sent in sentence_polarity.sents(categories=['pos'])])\n"
   ]
  },
  {
   "cell_type": "code",
   "execution_count": 28,
   "metadata": {},
   "outputs": [],
   "source": [
    "x_data_pol_neg = []\n",
    "x_data_pol_neg.extend([' '.join(sent) for sent in sentence_polarity.sents(categories=['neg'])])"
   ]
  },
  {
   "cell_type": "code",
   "execution_count": 29,
   "metadata": {},
   "outputs": [],
   "source": []
  },
  {
   "cell_type": "code",
   "execution_count": 29,
   "metadata": {},
   "outputs": [],
   "source": [
    "x_data_full_pol = x_data_pol_pos[:500]+x_data_pol_neg[:500]"
   ]
  },
  {
   "cell_type": "code",
   "execution_count": 30,
   "metadata": {},
   "outputs": [
    {
     "name": "stdout",
     "output_type": "stream",
     "text": [
      "(1000,)\n",
      "(1000,)\n"
     ]
    }
   ],
   "source": [
    "#nparray\n",
    "import numpy as np\n",
    "\n",
    "x_data_pol = np.array(x_data_full_pol, dtype=object)\n",
    "#x_data = np.array(x_data_full)\n",
    "print(x_data_pol.shape)\n",
    "y_data_pol = np.array(y_data_full_pol)\n",
    "print(y_data_pol.shape)"
   ]
  },
  {
   "cell_type": "code",
   "execution_count": 31,
   "metadata": {},
   "outputs": [
    {
     "name": "stdout",
     "output_type": "stream",
     "text": [
      "1000\n",
      "[ True  True  True  True  True False  True  True  True  True]\n",
      "798\n",
      "798\n",
      "202\n",
      "202\n"
     ]
    }
   ],
   "source": [
    "train_indexes_pol = np.random.rand(len(x_data_pol)) < 0.80\n",
    "\n",
    "print(len(train_indexes_pol))\n",
    "print(train_indexes_pol[:10])\n",
    "\n",
    "x_data_train_pol = x_data_pol[train_indexes_pol]\n",
    "y_data_train_pol = y_data_pol[train_indexes_pol]\n",
    "\n",
    "print(len(x_data_train_pol))\n",
    "print(len(y_data_train_pol))\n",
    "\n",
    "x_data_test_pol = x_data_pol[~train_indexes_pol]\n",
    "y_data_test_pol = y_data_pol[~train_indexes_pol]\n",
    "\n",
    "print(len(x_data_test_pol))\n",
    "print(len(y_data_test_pol))"
   ]
  },
  {
   "cell_type": "code",
   "execution_count": 32,
   "metadata": {},
   "outputs": [],
   "source": [
    "from sklearn.feature_extraction.text import TfidfVectorizer\n",
    "from sklearn.pipeline import Pipeline\n",
    "from sklearn import neighbors\n",
    "\n",
    "clf = neighbors.KNeighborsClassifier(n_neighbors=10, weights='uniform')\n",
    "\n",
    "my_pipeline = Pipeline([('tfidf', TfidfVectorizer(tokenizer=my_tokenizer)),\\\n",
    "                       ('svd', SVDDimSelect()), \\\n",
    "                       ('clf', clf)])"
   ]
  },
  {
   "cell_type": "code",
   "execution_count": 33,
   "metadata": {},
   "outputs": [],
   "source": [
    "from sklearn.model_selection import RandomizedSearchCV\n",
    "import scipy\n",
    "\n",
    "par = {'clf__n_neighbors': range(1, 60), 'clf__weights': ['uniform', 'distance']}\n",
    "\n",
    "\n",
    "hyperpar_selector = RandomizedSearchCV(my_pipeline, par, cv=3, scoring='accuracy', n_jobs=1, n_iter=20)"
   ]
  },
  {
   "cell_type": "code",
   "execution_count": 34,
   "metadata": {},
   "outputs": [
    {
     "data": {
      "text/plain": [
       "RandomizedSearchCV(cv=3, error_score='raise-deprecating',\n",
       "          estimator=Pipeline(memory=None,\n",
       "     steps=[('tfidf', TfidfVectorizer(analyzer='word', binary=False, decode_error='strict',\n",
       "        dtype=<class 'numpy.float64'>, encoding='utf-8', input='content',\n",
       "        lowercase=True, max_df=1.0, max_features=None, min_df=1,\n",
       "        ngram_range=(1, 1), norm='l2', preprocessor=None, smooth_idf=True,...i',\n",
       "           metric_params=None, n_jobs=None, n_neighbors=10, p=2,\n",
       "           weights='uniform'))]),\n",
       "          fit_params=None, iid='warn', n_iter=20, n_jobs=1,\n",
       "          param_distributions={'clf__n_neighbors': range(1, 60), 'clf__weights': ['uniform', 'distance']},\n",
       "          pre_dispatch='2*n_jobs', random_state=None, refit=True,\n",
       "          return_train_score='warn', scoring='accuracy', verbose=0)"
      ]
     },
     "execution_count": 34,
     "metadata": {},
     "output_type": "execute_result"
    }
   ],
   "source": [
    "hyperpar_selector.fit(X=x_data_train_pol, y=y_data_train_pol)"
   ]
  },
  {
   "cell_type": "code",
   "execution_count": 35,
   "metadata": {},
   "outputs": [
    {
     "name": "stdout",
     "output_type": "stream",
     "text": [
      "Best score: 0.548\n",
      "Best parameters set:\n",
      "\tclf__n_neighbors: 13\n",
      "\tclf__weights: 'distance'\n"
     ]
    }
   ],
   "source": [
    "print(\"Best score: %0.3f\" % hyperpar_selector.best_score_)\n",
    "print(\"Best parameters set:\")\n",
    "best_parameters = hyperpar_selector.best_estimator_.get_params()\n",
    "for param_name in sorted(par.keys()):\n",
    "    print(\"\\t%s: %r\" % (param_name, best_parameters[param_name]))"
   ]
  },
  {
   "cell_type": "code",
   "execution_count": 36,
   "metadata": {},
   "outputs": [
    {
     "name": "stdout",
     "output_type": "stream",
     "text": [
      "0.5792079207920792\n"
     ]
    }
   ],
   "source": [
    "from sklearn.metrics import *\n",
    "\n",
    "y_pred_pol = hyperpar_selector.predict(x_data_test_pol)\n",
    "\n",
    "print(accuracy_score(y_data_test_pol, y_pred_pol))"
   ]
  },
  {
   "cell_type": "code",
   "execution_count": 37,
   "metadata": {},
   "outputs": [],
   "source": [
    "import pickle\n",
    "\n",
    "string_obj = pickle.dumps(hyperpar_selector)"
   ]
  },
  {
   "cell_type": "code",
   "execution_count": 38,
   "metadata": {},
   "outputs": [],
   "source": [
    "model_file = open('model.pkl', 'wb')\n",
    "model_file.write(string_obj)\n",
    "model_file.close()"
   ]
  },
  {
   "cell_type": "code",
   "execution_count": 39,
   "metadata": {},
   "outputs": [
    {
     "name": "stdout",
     "output_type": "stream",
     "text": [
      "[0]\n"
     ]
    }
   ],
   "source": [
    "model_file = open('model.pkl', 'rb')\n",
    "model_content = model_file.read()\n",
    "\n",
    "obj_classifier = pickle.loads(model_content)\n",
    "model_file.close()\n",
    "res = obj_classifier.predict([\"wonderful\"])\n",
    "print(res)"
   ]
  }
 ],
 "metadata": {
  "anaconda-cloud": {},
  "kernelspec": {
   "display_name": "Python 3",
   "language": "python",
   "name": "python3"
  },
  "language_info": {
   "codemirror_mode": {
    "name": "ipython",
    "version": 3
   },
   "file_extension": ".py",
   "mimetype": "text/x-python",
   "name": "python",
   "nbconvert_exporter": "python",
   "pygments_lexer": "ipython3",
   "version": "3.6.6"
  }
 },
 "nbformat": 4,
 "nbformat_minor": 1
}
