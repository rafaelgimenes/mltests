{
 "cells": [
  {
   "cell_type": "markdown",
   "metadata": {},
   "source": [
    "**Fase 2 do TCC**\n",
    "\n",
    "Já com os dados equilibrados feito no tcc-1  https://www.kaggle.com/rafaelgimenes/tcc-1\n"
   ]
  },
  {
   "cell_type": "code",
   "execution_count": 1,
   "metadata": {
    "_cell_guid": "b1076dfc-b9ad-4769-8c92-a6c4dae69d19",
    "_uuid": "8f2839f25d086af736a60e9eeb907d3b93b6e0e5"
   },
   "outputs": [
    {
     "name": "stderr",
     "output_type": "stream",
     "text": [
      "Using TensorFlow backend.\n"
     ]
    },
    {
     "name": "stdout",
     "output_type": "stream",
     "text": [
      "data sets ['img_isic_eq_224x224', 'metadata_isic_eq.csv']\n"
     ]
    }
   ],
   "source": [
    "#imports\n",
    "import numpy as np # linear algebra\n",
    "import pandas as pd # data processing, CSV file I/O (e.g. pd.read_csv)\n",
    "from keras.utils.np_utils import to_categorical\n",
    "from PIL import Image\n",
    "from sklearn.preprocessing import StandardScaler \n",
    "from sklearn.model_selection import train_test_split\n",
    "import os\n",
    "print('data sets',os.listdir(\"../input\"))\n",
    "from keras.models import Sequential, Model\n",
    "from keras.layers import Dense, Dropout, Flatten, Conv2D, MaxPool2D\n",
    "from keras.optimizers import Adam, RMSprop\n",
    "from keras.callbacks import ReduceLROnPlateau\n",
    "import matplotlib.pyplot as plt\n",
    "from sklearn.metrics import accuracy_score\n",
    "import itertools"
   ]
  },
  {
   "cell_type": "code",
   "execution_count": 2,
   "metadata": {},
   "outputs": [
    {
     "name": "stdout",
     "output_type": "stream",
     "text": [
      "['HAM10000', 'MSK-2', 'MSK-3', 'MSK-4', '2018 JID Editorial Images', 'UDA-2', 'UDA-1', 'MSK-1']\n"
     ]
    }
   ],
   "source": [
    "#pastas com imagens\n",
    "print(os.listdir(\"../input/img_isic_eq_224x224\"))"
   ]
  },
  {
   "cell_type": "markdown",
   "metadata": {},
   "source": [
    "Leitura do dataset, esse data-set foi equilibrado/balanceado no tcc-1"
   ]
  },
  {
   "cell_type": "code",
   "execution_count": 3,
   "metadata": {
    "_cell_guid": "79c7e3d0-c299-4dcb-8224-4455121ee9b0",
    "_uuid": "d629ff2d2480ee46fbb7e2d37f6b5fab8052498a"
   },
   "outputs": [],
   "source": [
    "#data set vindo do kaggle tcc_1\n",
    "df = pd.read_csv(\"../input/metadata_isic_eq.csv\")"
   ]
  },
  {
   "cell_type": "code",
   "execution_count": 4,
   "metadata": {},
   "outputs": [
    {
     "data": {
      "text/html": [
       "<div>\n",
       "<style scoped>\n",
       "    .dataframe tbody tr th:only-of-type {\n",
       "        vertical-align: middle;\n",
       "    }\n",
       "\n",
       "    .dataframe tbody tr th {\n",
       "        vertical-align: top;\n",
       "    }\n",
       "\n",
       "    .dataframe thead th {\n",
       "        text-align: right;\n",
       "    }\n",
       "</style>\n",
       "<table border=\"1\" class=\"dataframe\">\n",
       "  <thead>\n",
       "    <tr style=\"text-align: right;\">\n",
       "      <th></th>\n",
       "      <th>image_id</th>\n",
       "      <th>image_name</th>\n",
       "      <th>created</th>\n",
       "      <th>dataset_id</th>\n",
       "      <th>dataset_name</th>\n",
       "      <th>width</th>\n",
       "      <th>height</th>\n",
       "      <th>age</th>\n",
       "      <th>sex</th>\n",
       "      <th>benign_malignant</th>\n",
       "      <th>diagnosis</th>\n",
       "      <th>diagnosis_confirm_type</th>\n",
       "      <th>melanocytic</th>\n",
       "      <th>updated</th>\n",
       "      <th>age_range</th>\n",
       "    </tr>\n",
       "  </thead>\n",
       "  <tbody>\n",
       "    <tr>\n",
       "      <th>0</th>\n",
       "      <td>5436e3acbae478396759f0d3</td>\n",
       "      <td>ISIC_0000002</td>\n",
       "      <td>2014-10-09T19:36:12.152000+00:00</td>\n",
       "      <td>5a2ecc5e1165975c945942a2</td>\n",
       "      <td>UDA-1</td>\n",
       "      <td>1022</td>\n",
       "      <td>767</td>\n",
       "      <td>60.0</td>\n",
       "      <td>Female</td>\n",
       "      <td>malignant</td>\n",
       "      <td>melanoma</td>\n",
       "      <td>histopathology</td>\n",
       "      <td>True</td>\n",
       "      <td>2015-02-23T02:48:37.249000+00:00</td>\n",
       "      <td>[60 - 70)</td>\n",
       "    </tr>\n",
       "    <tr>\n",
       "      <th>1</th>\n",
       "      <td>5436e3acbae478396759f0d7</td>\n",
       "      <td>ISIC_0000004</td>\n",
       "      <td>2014-10-09T19:36:12.315000+00:00</td>\n",
       "      <td>5a2ecc5e1165975c945942a2</td>\n",
       "      <td>UDA-1</td>\n",
       "      <td>1022</td>\n",
       "      <td>767</td>\n",
       "      <td>80.0</td>\n",
       "      <td>Male</td>\n",
       "      <td>malignant</td>\n",
       "      <td>melanoma</td>\n",
       "      <td>histopathology</td>\n",
       "      <td>True</td>\n",
       "      <td>2015-02-23T02:48:57.303000+00:00</td>\n",
       "      <td>[90 - 100)</td>\n",
       "    </tr>\n",
       "    <tr>\n",
       "      <th>2</th>\n",
       "      <td>5436e3adbae478396759f0e9</td>\n",
       "      <td>ISIC_0000013</td>\n",
       "      <td>2014-10-09T19:36:13.062000+00:00</td>\n",
       "      <td>5a2ecc5e1165975c945942a2</td>\n",
       "      <td>UDA-1</td>\n",
       "      <td>1022</td>\n",
       "      <td>767</td>\n",
       "      <td>30.0</td>\n",
       "      <td>Female</td>\n",
       "      <td>malignant</td>\n",
       "      <td>melanoma</td>\n",
       "      <td>histopathology</td>\n",
       "      <td>True</td>\n",
       "      <td>2015-02-23T02:50:26.544000+00:00</td>\n",
       "      <td>[20 - 30)</td>\n",
       "    </tr>\n",
       "    <tr>\n",
       "      <th>3</th>\n",
       "      <td>5436e3aebae478396759f0fb</td>\n",
       "      <td>ISIC_0000022</td>\n",
       "      <td>2014-10-09T19:36:14.060000+00:00</td>\n",
       "      <td>5a2ecc5e1165975c945942a2</td>\n",
       "      <td>UDA-1</td>\n",
       "      <td>1504</td>\n",
       "      <td>1129</td>\n",
       "      <td>55.0</td>\n",
       "      <td>Female</td>\n",
       "      <td>malignant</td>\n",
       "      <td>melanoma</td>\n",
       "      <td>histopathology</td>\n",
       "      <td>True</td>\n",
       "      <td>2015-02-23T02:52:14.911000+00:00</td>\n",
       "      <td>[60 - 70)</td>\n",
       "    </tr>\n",
       "    <tr>\n",
       "      <th>4</th>\n",
       "      <td>5436e3aebae478396759f103</td>\n",
       "      <td>ISIC_0000026</td>\n",
       "      <td>2014-10-09T19:36:14.537000+00:00</td>\n",
       "      <td>5a2ecc5e1165975c945942a2</td>\n",
       "      <td>UDA-1</td>\n",
       "      <td>1504</td>\n",
       "      <td>1129</td>\n",
       "      <td>30.0</td>\n",
       "      <td>Female</td>\n",
       "      <td>malignant</td>\n",
       "      <td>melanoma</td>\n",
       "      <td>histopathology</td>\n",
       "      <td>True</td>\n",
       "      <td>2015-02-23T02:53:24.115000+00:00</td>\n",
       "      <td>[20 - 30)</td>\n",
       "    </tr>\n",
       "  </tbody>\n",
       "</table>\n",
       "</div>"
      ],
      "text/plain": [
       "                   image_id     ...       age_range\n",
       "0  5436e3acbae478396759f0d3     ...       [60 - 70)\n",
       "1  5436e3acbae478396759f0d7     ...      [90 - 100)\n",
       "2  5436e3adbae478396759f0e9     ...       [20 - 30)\n",
       "3  5436e3aebae478396759f0fb     ...       [60 - 70)\n",
       "4  5436e3aebae478396759f103     ...       [20 - 30)\n",
       "\n",
       "[5 rows x 15 columns]"
      ]
     },
     "execution_count": 4,
     "metadata": {},
     "output_type": "execute_result"
    }
   ],
   "source": [
    "df.head()"
   ]
  },
  {
   "cell_type": "markdown",
   "metadata": {},
   "source": [
    "Criação da coluna Y, nosso target é binario '**benign_malignant**' nessa coluna vamos trasformar pra um atributo INTEIRO. \n",
    "Sendo criando a coluna y 0=do bem, 1 = do mal."
   ]
  },
  {
   "cell_type": "code",
   "execution_count": 5,
   "metadata": {},
   "outputs": [
    {
     "name": "stderr",
     "output_type": "stream",
     "text": [
      "/opt/conda/lib/python3.6/site-packages/ipykernel_launcher.py:3: SettingWithCopyWarning: \n",
      "A value is trying to be set on a copy of a slice from a DataFrame\n",
      "\n",
      "See the caveats in the documentation: http://pandas.pydata.org/pandas-docs/stable/indexing.html#indexing-view-versus-copy\n",
      "  This is separate from the ipykernel package so we can avoid doing imports until\n",
      "/opt/conda/lib/python3.6/site-packages/ipykernel_launcher.py:4: SettingWithCopyWarning: \n",
      "A value is trying to be set on a copy of a slice from a DataFrame\n",
      "\n",
      "See the caveats in the documentation: http://pandas.pydata.org/pandas-docs/stable/indexing.html#indexing-view-versus-copy\n",
      "  after removing the cwd from sys.path.\n"
     ]
    }
   ],
   "source": [
    "#criando a coluna y 0=do bem, 1 = do mal.\n",
    "df['y'] = -1\n",
    "df.y[df.benign_malignant == 'benign'] = 0\n",
    "df.y[df.benign_malignant == 'malignant'] = 1"
   ]
  },
  {
   "cell_type": "code",
   "execution_count": 6,
   "metadata": {},
   "outputs": [
    {
     "data": {
      "text/html": [
       "<div>\n",
       "<style scoped>\n",
       "    .dataframe tbody tr th:only-of-type {\n",
       "        vertical-align: middle;\n",
       "    }\n",
       "\n",
       "    .dataframe tbody tr th {\n",
       "        vertical-align: top;\n",
       "    }\n",
       "\n",
       "    .dataframe thead th {\n",
       "        text-align: right;\n",
       "    }\n",
       "</style>\n",
       "<table border=\"1\" class=\"dataframe\">\n",
       "  <thead>\n",
       "    <tr style=\"text-align: right;\">\n",
       "      <th></th>\n",
       "      <th>image_id</th>\n",
       "      <th>image_name</th>\n",
       "      <th>created</th>\n",
       "      <th>dataset_id</th>\n",
       "      <th>dataset_name</th>\n",
       "      <th>width</th>\n",
       "      <th>height</th>\n",
       "      <th>age</th>\n",
       "      <th>sex</th>\n",
       "      <th>benign_malignant</th>\n",
       "      <th>diagnosis</th>\n",
       "      <th>diagnosis_confirm_type</th>\n",
       "      <th>melanocytic</th>\n",
       "      <th>updated</th>\n",
       "      <th>age_range</th>\n",
       "      <th>y</th>\n",
       "    </tr>\n",
       "  </thead>\n",
       "  <tbody>\n",
       "    <tr>\n",
       "      <th>0</th>\n",
       "      <td>5436e3acbae478396759f0d3</td>\n",
       "      <td>ISIC_0000002</td>\n",
       "      <td>2014-10-09T19:36:12.152000+00:00</td>\n",
       "      <td>5a2ecc5e1165975c945942a2</td>\n",
       "      <td>UDA-1</td>\n",
       "      <td>1022</td>\n",
       "      <td>767</td>\n",
       "      <td>60.0</td>\n",
       "      <td>Female</td>\n",
       "      <td>malignant</td>\n",
       "      <td>melanoma</td>\n",
       "      <td>histopathology</td>\n",
       "      <td>True</td>\n",
       "      <td>2015-02-23T02:48:37.249000+00:00</td>\n",
       "      <td>[60 - 70)</td>\n",
       "      <td>1</td>\n",
       "    </tr>\n",
       "    <tr>\n",
       "      <th>1</th>\n",
       "      <td>5436e3acbae478396759f0d7</td>\n",
       "      <td>ISIC_0000004</td>\n",
       "      <td>2014-10-09T19:36:12.315000+00:00</td>\n",
       "      <td>5a2ecc5e1165975c945942a2</td>\n",
       "      <td>UDA-1</td>\n",
       "      <td>1022</td>\n",
       "      <td>767</td>\n",
       "      <td>80.0</td>\n",
       "      <td>Male</td>\n",
       "      <td>malignant</td>\n",
       "      <td>melanoma</td>\n",
       "      <td>histopathology</td>\n",
       "      <td>True</td>\n",
       "      <td>2015-02-23T02:48:57.303000+00:00</td>\n",
       "      <td>[90 - 100)</td>\n",
       "      <td>1</td>\n",
       "    </tr>\n",
       "    <tr>\n",
       "      <th>2</th>\n",
       "      <td>5436e3adbae478396759f0e9</td>\n",
       "      <td>ISIC_0000013</td>\n",
       "      <td>2014-10-09T19:36:13.062000+00:00</td>\n",
       "      <td>5a2ecc5e1165975c945942a2</td>\n",
       "      <td>UDA-1</td>\n",
       "      <td>1022</td>\n",
       "      <td>767</td>\n",
       "      <td>30.0</td>\n",
       "      <td>Female</td>\n",
       "      <td>malignant</td>\n",
       "      <td>melanoma</td>\n",
       "      <td>histopathology</td>\n",
       "      <td>True</td>\n",
       "      <td>2015-02-23T02:50:26.544000+00:00</td>\n",
       "      <td>[20 - 30)</td>\n",
       "      <td>1</td>\n",
       "    </tr>\n",
       "    <tr>\n",
       "      <th>3</th>\n",
       "      <td>5436e3aebae478396759f0fb</td>\n",
       "      <td>ISIC_0000022</td>\n",
       "      <td>2014-10-09T19:36:14.060000+00:00</td>\n",
       "      <td>5a2ecc5e1165975c945942a2</td>\n",
       "      <td>UDA-1</td>\n",
       "      <td>1504</td>\n",
       "      <td>1129</td>\n",
       "      <td>55.0</td>\n",
       "      <td>Female</td>\n",
       "      <td>malignant</td>\n",
       "      <td>melanoma</td>\n",
       "      <td>histopathology</td>\n",
       "      <td>True</td>\n",
       "      <td>2015-02-23T02:52:14.911000+00:00</td>\n",
       "      <td>[60 - 70)</td>\n",
       "      <td>1</td>\n",
       "    </tr>\n",
       "    <tr>\n",
       "      <th>4</th>\n",
       "      <td>5436e3aebae478396759f103</td>\n",
       "      <td>ISIC_0000026</td>\n",
       "      <td>2014-10-09T19:36:14.537000+00:00</td>\n",
       "      <td>5a2ecc5e1165975c945942a2</td>\n",
       "      <td>UDA-1</td>\n",
       "      <td>1504</td>\n",
       "      <td>1129</td>\n",
       "      <td>30.0</td>\n",
       "      <td>Female</td>\n",
       "      <td>malignant</td>\n",
       "      <td>melanoma</td>\n",
       "      <td>histopathology</td>\n",
       "      <td>True</td>\n",
       "      <td>2015-02-23T02:53:24.115000+00:00</td>\n",
       "      <td>[20 - 30)</td>\n",
       "      <td>1</td>\n",
       "    </tr>\n",
       "  </tbody>\n",
       "</table>\n",
       "</div>"
      ],
      "text/plain": [
       "                   image_id    image_name ...   age_range  y\n",
       "0  5436e3acbae478396759f0d3  ISIC_0000002 ...   [60 - 70)  1\n",
       "1  5436e3acbae478396759f0d7  ISIC_0000004 ...  [90 - 100)  1\n",
       "2  5436e3adbae478396759f0e9  ISIC_0000013 ...   [20 - 30)  1\n",
       "3  5436e3aebae478396759f0fb  ISIC_0000022 ...   [60 - 70)  1\n",
       "4  5436e3aebae478396759f103  ISIC_0000026 ...   [20 - 30)  1\n",
       "\n",
       "[5 rows x 16 columns]"
      ]
     },
     "execution_count": 6,
     "metadata": {},
     "output_type": "execute_result"
    }
   ],
   "source": [
    "df.head()"
   ]
  },
  {
   "cell_type": "markdown",
   "metadata": {},
   "source": [
    "Separando os datasets em Benign e Malign para comparmos os 2"
   ]
  },
  {
   "cell_type": "code",
   "execution_count": 7,
   "metadata": {},
   "outputs": [],
   "source": [
    "#separando os malignos e benignos\n",
    "dfM = df.loc[(df['benign_malignant'] == 'malignant') ]\n",
    "dfB = df.loc[(df['benign_malignant'] == 'benign') ]"
   ]
  },
  {
   "cell_type": "markdown",
   "metadata": {},
   "source": [
    "Fazendo uma comparação pra ver se temos um data-set equilibrado"
   ]
  },
  {
   "cell_type": "code",
   "execution_count": 8,
   "metadata": {},
   "outputs": [],
   "source": [
    "#verificando se eles estão balanceados\n",
    "totalMx = pd.DataFrame( {'Malignos': dfM.groupby(('age_range')).size()} )\n",
    "totalBx = pd.DataFrame( {'Bening': dfB.groupby(('age_range')).size() } )\n",
    "frames = [totalMx, totalBx]\n",
    "totalTx = pd.concat(frames,axis=1)\n",
    "totalTx['Diff'] = totalTx['Bening'] -  totalTx['Malignos']"
   ]
  },
  {
   "cell_type": "code",
   "execution_count": 9,
   "metadata": {},
   "outputs": [
    {
     "data": {
      "text/html": [
       "<div>\n",
       "<style scoped>\n",
       "    .dataframe tbody tr th:only-of-type {\n",
       "        vertical-align: middle;\n",
       "    }\n",
       "\n",
       "    .dataframe tbody tr th {\n",
       "        vertical-align: top;\n",
       "    }\n",
       "\n",
       "    .dataframe thead th {\n",
       "        text-align: right;\n",
       "    }\n",
       "</style>\n",
       "<table border=\"1\" class=\"dataframe\">\n",
       "  <thead>\n",
       "    <tr style=\"text-align: right;\">\n",
       "      <th></th>\n",
       "      <th>Malignos</th>\n",
       "      <th>Bening</th>\n",
       "      <th>Diff</th>\n",
       "    </tr>\n",
       "    <tr>\n",
       "      <th>age_range</th>\n",
       "      <th></th>\n",
       "      <th></th>\n",
       "      <th></th>\n",
       "    </tr>\n",
       "  </thead>\n",
       "  <tbody>\n",
       "    <tr>\n",
       "      <th>[-10 - 0)</th>\n",
       "      <td>98</td>\n",
       "      <td>108</td>\n",
       "      <td>10</td>\n",
       "    </tr>\n",
       "    <tr>\n",
       "      <th>[0 - 10)</th>\n",
       "      <td>1</td>\n",
       "      <td>11</td>\n",
       "      <td>10</td>\n",
       "    </tr>\n",
       "    <tr>\n",
       "      <th>[10 - 20)</th>\n",
       "      <td>13</td>\n",
       "      <td>23</td>\n",
       "      <td>10</td>\n",
       "    </tr>\n",
       "    <tr>\n",
       "      <th>[20 - 30)</th>\n",
       "      <td>98</td>\n",
       "      <td>108</td>\n",
       "      <td>10</td>\n",
       "    </tr>\n",
       "    <tr>\n",
       "      <th>[30 - 40)</th>\n",
       "      <td>66</td>\n",
       "      <td>76</td>\n",
       "      <td>10</td>\n",
       "    </tr>\n",
       "    <tr>\n",
       "      <th>[40 - 50)</th>\n",
       "      <td>215</td>\n",
       "      <td>225</td>\n",
       "      <td>10</td>\n",
       "    </tr>\n",
       "    <tr>\n",
       "      <th>[50 - 60)</th>\n",
       "      <td>167</td>\n",
       "      <td>177</td>\n",
       "      <td>10</td>\n",
       "    </tr>\n",
       "    <tr>\n",
       "      <th>[60 - 70)</th>\n",
       "      <td>413</td>\n",
       "      <td>423</td>\n",
       "      <td>10</td>\n",
       "    </tr>\n",
       "    <tr>\n",
       "      <th>[70 - 80)</th>\n",
       "      <td>272</td>\n",
       "      <td>272</td>\n",
       "      <td>0</td>\n",
       "    </tr>\n",
       "    <tr>\n",
       "      <th>[80 - 90)</th>\n",
       "      <td>489</td>\n",
       "      <td>489</td>\n",
       "      <td>0</td>\n",
       "    </tr>\n",
       "    <tr>\n",
       "      <th>[90 - 100)</th>\n",
       "      <td>396</td>\n",
       "      <td>396</td>\n",
       "      <td>0</td>\n",
       "    </tr>\n",
       "  </tbody>\n",
       "</table>\n",
       "</div>"
      ],
      "text/plain": [
       "            Malignos  Bening  Diff\n",
       "age_range                         \n",
       "[-10 - 0)         98     108    10\n",
       "[0 - 10)           1      11    10\n",
       "[10 - 20)         13      23    10\n",
       "[20 - 30)         98     108    10\n",
       "[30 - 40)         66      76    10\n",
       "[40 - 50)        215     225    10\n",
       "[50 - 60)        167     177    10\n",
       "[60 - 70)        413     423    10\n",
       "[70 - 80)        272     272     0\n",
       "[80 - 90)        489     489     0\n",
       "[90 - 100)       396     396     0"
      ]
     },
     "execution_count": 9,
     "metadata": {},
     "output_type": "execute_result"
    }
   ],
   "source": [
    "totalTx"
   ]
  },
  {
   "cell_type": "markdown",
   "metadata": {},
   "source": [
    "**Transformando Imagens em números**\n",
    "\n",
    "Pois bem, machine learning se baseia-se em números, e o que são imagens? são um conjunto de pixels que são representados por um byte que varia de 0-255, um valor RGB.\n",
    "Então uma imagem pra nós será uma matriz de pixels, do tamanho da imagem, em nosso caso 224x244.\n"
   ]
  },
  {
   "cell_type": "code",
   "execution_count": 10,
   "metadata": {},
   "outputs": [],
   "source": [
    "#agora vamos criar o X, o sera a nossa matriz de pixels.\n",
    "pathImg = '../input/img_isic_eq_224x224/'"
   ]
  },
  {
   "cell_type": "markdown",
   "metadata": {},
   "source": [
    "Vamos criar uma função, que recebe o path e abre a imagem já convertendo ela pra matriz RGB, estamos utilizando a biblioteca do python PIL \n",
    "\n",
    "> from PIL import Image"
   ]
  },
  {
   "cell_type": "code",
   "execution_count": 11,
   "metadata": {},
   "outputs": [],
   "source": [
    "#funcao lambda de leitura da imagem \n",
    "readToRGB = lambda imname: np.asarray(Image.open(imname).convert(\"RGB\"))"
   ]
  },
  {
   "cell_type": "markdown",
   "metadata": {},
   "source": [
    "Por algum motivo desconhecido essa imagem estava gerando um erro de leitura, gerando uma exception, como foi somente ela, não achamos a necessario criar uma função pra remover a imagem do data-set.\n",
    "Se isso se repetisse muitas vezes, com certeza compensaria fazer um função pra dropar isso automaticamente."
   ]
  },
  {
   "cell_type": "code",
   "execution_count": 12,
   "metadata": {},
   "outputs": [],
   "source": [
    "#removendo imagem corrompida\n",
    "df.drop(df.loc[df['image_name']=='ISIC_0024416'].index, inplace=True)"
   ]
  },
  {
   "cell_type": "markdown",
   "metadata": {},
   "source": [
    "**Retornando a Matriz RGB**\n",
    "\n",
    "Apesar de mais verboso, ficou mais fácil de entender do que usar uma expressão lambda.\n",
    "* Criação da matriz de Pixels\n",
    "* iteração no dataset para montar o path do arquivo\n",
    "* chamada da função que abre o arquivo e converte pra matriz RGB\n",
    "* adiciona a matriz na lista de matrizes.\n"
   ]
  },
  {
   "cell_type": "code",
   "execution_count": 13,
   "metadata": {},
   "outputs": [],
   "source": [
    "#caregando as imagens\n",
    "matrizPixels = []\n",
    "\n",
    "# interando sobre o dataset, usando a função join pra montar o path, e usando a função read para ler o\n",
    "# ler o JPG transformando e matriz  RGB, e apendando na matrix de pixels.\n",
    "for index, row in df.iterrows():\n",
    "    m = readToRGB(os.path.join(pathImg,row['dataset_name'],row['image_name']+'.jpg'))\n",
    "    matrizPixels.append(m)"
   ]
  },
  {
   "cell_type": "markdown",
   "metadata": {},
   "source": [
    "Verificando os data-sets"
   ]
  },
  {
   "cell_type": "code",
   "execution_count": 14,
   "metadata": {},
   "outputs": [
    {
     "name": "stdout",
     "output_type": "stream",
     "text": [
      "4535\n",
      "(4535, 16)\n"
     ]
    }
   ],
   "source": [
    "#comparando a matriz de pixels e a e dataset \n",
    "print(len(matrizPixels))\n",
    "print(df.shape)"
   ]
  },
  {
   "cell_type": "markdown",
   "metadata": {},
   "source": [
    "**Criando o X(input) e o y(target)**"
   ]
  },
  {
   "cell_type": "code",
   "execution_count": 15,
   "metadata": {},
   "outputs": [],
   "source": [
    "# criando nosso X e y \n",
    "X = np.array(matrizPixels, dtype='uint8')\n",
    "#https://www.tensorflow.org/api_docs/python/tf/keras/utils/to_categorical\n",
    "y = np.array(df['y'], dtype='uint8')\n",
    "y = to_categorical(y, num_classes= 2)"
   ]
  },
  {
   "cell_type": "markdown",
   "metadata": {},
   "source": [
    "Verificando o X e y"
   ]
  },
  {
   "cell_type": "code",
   "execution_count": 16,
   "metadata": {},
   "outputs": [
    {
     "name": "stdout",
     "output_type": "stream",
     "text": [
      "size X 4535\n",
      "size y 4535\n"
     ]
    }
   ],
   "source": [
    "print('size X',len(X))\n",
    "print('size y',len(y))"
   ]
  },
  {
   "cell_type": "markdown",
   "metadata": {},
   "source": [
    "**Embaralhando os dados**\n",
    "\n",
    "Como o data-frame(df) esta em ordem de data-set(nome da pasta), e possivelmente tem caracteristicas parecidas, nos resolvemos embaralhar os dados.\n",
    "\n",
    "*Muito importante*\n",
    "Considerando que o X e y, estão alinhados, se vamos embaralhar o X temos que garantir que o mesmo embaralhamento seja feito no y.\n",
    "\n",
    "Para isso usamos o mesmo fator de shuffle nos 2."
   ]
  },
  {
   "cell_type": "code",
   "execution_count": 17,
   "metadata": {},
   "outputs": [],
   "source": [
    "#embaralhando tudo\n",
    "factorRandom = np.arange(X.shape[0])\n",
    "np.random.shuffle(factorRandom)\n",
    "X = X[factorRandom]\n",
    "y = y[factorRandom]"
   ]
  },
  {
   "cell_type": "markdown",
   "metadata": {},
   "source": [
    "**Escalando as Imagens**\n",
    "\n",
    "Para obtermos melhor resultado, vamos escalar as matrizes de 0-255 para 0-1."
   ]
  },
  {
   "cell_type": "code",
   "execution_count": 18,
   "metadata": {},
   "outputs": [],
   "source": [
    "#escalando o X, tranformando os valores entre 0 e 1.\n",
    "X_scaled = X/255"
   ]
  },
  {
   "cell_type": "markdown",
   "metadata": {},
   "source": [
    "**Separação dos Dados de Treino e Teste**"
   ]
  },
  {
   "cell_type": "code",
   "execution_count": 19,
   "metadata": {},
   "outputs": [],
   "source": [
    "#train test split\n",
    "X_train, X_test, y_train, y_test= train_test_split(X_scaled, \n",
    "                                                 y,\n",
    "                                                 test_size=0.20,\n",
    "                                                 random_state=42)"
   ]
  },
  {
   "cell_type": "markdown",
   "metadata": {},
   "source": [
    "**Rede Neural CNN**"
   ]
  },
  {
   "cell_type": "markdown",
   "metadata": {},
   "source": [
    "Agora iremos iniciar a utilização da rede convolucional.\n",
    "Nesta etapa criaremos a função *build*, onde iremos parametrizar as camadas que serão utilizadas para o treinamento do modelo."
   ]
  },
  {
   "cell_type": "markdown",
   "metadata": {},
   "source": [
    "**Anotações**\n",
    "\n",
    "*Camadas Conv2D:* Estas são camadas de convolução que irão lidar com as nossas imagens de entrada, que são vistas como matrizes bidimensionais.\n",
    "\n",
    "*Camadas MaxPool2D:* Essa camada simplesmente age como um filtro de redução de resolução. Ele olha para os 2 pixels vizinhos e escolhe o valor máximo. Eles são usados ​​para reduzir o custo computacional e, de certa forma, também reduzem o overfitting.\n",
    "\n",
    "*Camadas Dropout:* Esta camada é usada apenas na fase de treinamento, não no teste. Elimina um conjunto aleatório de ativações na camada setando para zero. Força a rede a ser “redundante” e a classificar corretamente mesmo que algumas ativações sejam zeradas.\n"
   ]
  },
  {
   "cell_type": "markdown",
   "metadata": {},
   "source": [
    "**Referências**\n",
    "\n",
    "https://www.youtube.com/watch?v=-7scQpJT7uo&frags=wn\n",
    "\n",
    "http://papers.nips.cc/paper/4824-imagenet-classification-with-deep-convolutional-neural-networks.pdf"
   ]
  },
  {
   "cell_type": "code",
   "execution_count": 20,
   "metadata": {},
   "outputs": [],
   "source": [
    "def build(input_shape= (224,224,3), lr = 1e-3, num_classes= 2, init= 'normal', activ= 'relu', optim= 'adam'):\n",
    "    \n",
    "    model = Sequential()\n",
    "        \n",
    "    model.add(Conv2D(64, kernel_size=(3, 3),padding = 'Same',input_shape=input_shape,activation= activ, kernel_initializer='glorot_uniform'))\n",
    "    model.add(MaxPool2D(pool_size = (2, 2)))\n",
    "    model.add(Dropout(0.25))\n",
    "    \n",
    "    model.add(Conv2D(64, kernel_size=(3, 3),padding = 'Same', activation =activ, kernel_initializer = 'glorot_uniform'))\n",
    "    model.add(MaxPool2D(pool_size = (2, 2)))\n",
    "    model.add(Dropout(0.25))    \n",
    "   \n",
    "    # Camada de Entrada    \n",
    "    model.add(Flatten())\n",
    "    \n",
    "    # Camada oculta\n",
    "    model.add(Dense(128, activation='relu', kernel_initializer=init))\n",
    "    \n",
    "    # Camada de saída\n",
    "    model.add(Dense(num_classes, activation='softmax'))\n",
    "    \n",
    "    model.summary()\n",
    "    \n",
    "    if optim == 'rmsprop':\n",
    "        optimizer = RMSprop(lr=lr)\n",
    "\n",
    "    else:\n",
    "        optimizer = Adam(lr=lr)\n",
    "\n",
    "    # Antes de o modelo estar pronto para treinar, este precisa de mais algumas configurações. Estas são adicionadas no passo compile:\n",
    "        #loss - Isto mede quão bem o modelo classifica durante o treino. Nós queremos minimizar esta função para ajustar o modelo na direção correta\n",
    "        #optimizer - Isto é utilizado para atualizar o modelo com base nos dados e na função de custo.\n",
    "        #metrics - São utilizadas para monitorizar os passos de treino e teste. O próximo exemplo usa exatidão, a fração das images que são corretamente classificadas.\n",
    "\n",
    "    model.compile(optimizer = optimizer ,loss = \"binary_crossentropy\", metrics=[\"accuracy\"])\n",
    "    return model\n",
    "\n"
   ]
  },
  {
   "cell_type": "code",
   "execution_count": 21,
   "metadata": {},
   "outputs": [],
   "source": [
    "def build2(input_shape= (224,224,3), lr = 1e-3, num_classes= 2, init= 'normal', activ= 'relu', optim= 'adam'):\n",
    "    model = Sequential()\n",
    "    model.add(Flatten(input_shape=input_shape))\n",
    "    model.add(Dense(128, activation=activ,kernel_initializer=init))\n",
    "    model.add(Dense(2, activation=\"softmax\"))\n",
    "    \n",
    "    model.summary()\n",
    "    \n",
    "    if optim == 'rmsprop':\n",
    "        optimizer = RMSprop(lr=lr)\n",
    "\n",
    "    else:\n",
    "        optimizer = Adam(lr=lr)\n",
    "\n",
    "\n",
    "    model.compile(optimizer = optimizer ,loss = \"binary_crossentropy\", metrics=[\"accuracy\"])\n",
    "    return model"
   ]
  },
  {
   "cell_type": "code",
   "execution_count": 22,
   "metadata": {},
   "outputs": [],
   "source": [
    "learning_rate_reduction = ReduceLROnPlateau(monitor='val_acc', \n",
    "                                            patience=10, \n",
    "                                            verbose=1, \n",
    "                                            factor=0.5, \n",
    "                                            min_lr=1e-7)"
   ]
  },
  {
   "cell_type": "code",
   "execution_count": 23,
   "metadata": {},
   "outputs": [],
   "source": [
    "input_shape = (224,224,3)\n",
    "lr = 1e-5\n",
    "init = 'normal'\n",
    "activ = 'relu'\n",
    "optim = 'adam'\n",
    "epochs = 20\n",
    "batch_size = 16\n"
   ]
  },
  {
   "cell_type": "code",
   "execution_count": 24,
   "metadata": {},
   "outputs": [
    {
     "name": "stdout",
     "output_type": "stream",
     "text": [
      "WARNING:tensorflow:From /opt/conda/lib/python3.6/site-packages/tensorflow/python/framework/op_def_library.py:263: colocate_with (from tensorflow.python.framework.ops) is deprecated and will be removed in a future version.\n",
      "Instructions for updating:\n",
      "Colocations handled automatically by placer.\n",
      "WARNING:tensorflow:From /opt/conda/lib/python3.6/site-packages/keras/backend/tensorflow_backend.py:3445: calling dropout (from tensorflow.python.ops.nn_ops) with keep_prob is deprecated and will be removed in a future version.\n",
      "Instructions for updating:\n",
      "Please use `rate` instead of `keep_prob`. Rate should be set to `rate = 1 - keep_prob`.\n",
      "_________________________________________________________________\n",
      "Layer (type)                 Output Shape              Param #   \n",
      "=================================================================\n",
      "conv2d_1 (Conv2D)            (None, 224, 224, 64)      1792      \n",
      "_________________________________________________________________\n",
      "max_pooling2d_1 (MaxPooling2 (None, 112, 112, 64)      0         \n",
      "_________________________________________________________________\n",
      "dropout_1 (Dropout)          (None, 112, 112, 64)      0         \n",
      "_________________________________________________________________\n",
      "conv2d_2 (Conv2D)            (None, 112, 112, 64)      36928     \n",
      "_________________________________________________________________\n",
      "max_pooling2d_2 (MaxPooling2 (None, 56, 56, 64)        0         \n",
      "_________________________________________________________________\n",
      "dropout_2 (Dropout)          (None, 56, 56, 64)        0         \n",
      "_________________________________________________________________\n",
      "flatten_1 (Flatten)          (None, 200704)            0         \n",
      "_________________________________________________________________\n",
      "dense_1 (Dense)              (None, 128)               25690240  \n",
      "_________________________________________________________________\n",
      "dense_2 (Dense)              (None, 2)                 258       \n",
      "=================================================================\n",
      "Total params: 25,729,218\n",
      "Trainable params: 25,729,218\n",
      "Non-trainable params: 0\n",
      "_________________________________________________________________\n"
     ]
    }
   ],
   "source": [
    "model = build(lr=lr, init= init, activ= activ, optim=optim, input_shape= input_shape)\n"
   ]
  },
  {
   "cell_type": "code",
   "execution_count": 25,
   "metadata": {},
   "outputs": [
    {
     "name": "stdout",
     "output_type": "stream",
     "text": [
      "WARNING:tensorflow:From /opt/conda/lib/python3.6/site-packages/tensorflow/python/ops/math_ops.py:3066: to_int32 (from tensorflow.python.ops.math_ops) is deprecated and will be removed in a future version.\n",
      "Instructions for updating:\n",
      "Use tf.cast instead.\n",
      "\n",
      "Epoch 00013: ReduceLROnPlateau reducing learning rate to 4.999999873689376e-06.\n"
     ]
    }
   ],
   "source": [
    "\n",
    "history = model.fit(X_train, y_train, validation_split=0.2,\n",
    "                    epochs= epochs, batch_size= batch_size, verbose=0, \n",
    "                    callbacks=[learning_rate_reduction]\n",
    "                   )\n"
   ]
  },
  {
   "cell_type": "code",
   "execution_count": 26,
   "metadata": {},
   "outputs": [
    {
     "name": "stdout",
     "output_type": "stream",
     "text": [
      "dict_keys(['val_loss', 'val_acc', 'loss', 'acc', 'lr'])\n"
     ]
    },
    {
     "data": {
      "image/png": "[encoded data removed]",
      "text/plain": [
       "<Figure size 432x288 with 1 Axes>"
      ]
     },
     "metadata": {},
     "output_type": "display_data"
    },
    {
     "data": {
      "image/png": "[encoded data removed]",
      "text/plain": [
       "<Figure size 432x288 with 1 Axes>"
      ]
     },
     "metadata": {},
     "output_type": "display_data"
    }
   ],
   "source": [
    "# list all data in history\n",
    "print(history.history.keys())\n",
    "# summarize history for accuracy\n",
    "plt.plot(history.history['acc'])\n",
    "plt.plot(history.history['val_acc'])\n",
    "plt.title('model accuracy')\n",
    "plt.ylabel('accuracy')\n",
    "plt.xlabel('epoch')\n",
    "plt.legend(['train', 'test'], loc='upper left')\n",
    "plt.show()\n",
    "# summarize history for loss\n",
    "plt.plot(history.history['loss'])\n",
    "plt.plot(history.history['val_loss'])\n",
    "plt.title('model loss')\n",
    "plt.ylabel('loss')\n",
    "plt.xlabel('epoch')\n",
    "plt.legend(['train', 'test'], loc='upper left')\n",
    "plt.show()\n"
   ]
  },
  {
   "cell_type": "code",
   "execution_count": 27,
   "metadata": {},
   "outputs": [],
   "source": [
    "y_pred = model.predict_classes(X_test)\n"
   ]
  },
  {
   "cell_type": "code",
   "execution_count": 28,
   "metadata": {},
   "outputs": [
    {
     "name": "stdout",
     "output_type": "stream",
     "text": [
      "0.5689084895259096\n"
     ]
    }
   ],
   "source": [
    "\n",
    "print(accuracy_score(np.argmax(y_test, axis=1),y_pred))"
   ]
  },
  {
   "cell_type": "code",
   "execution_count": 29,
   "metadata": {},
   "outputs": [
    {
     "name": "stdout",
     "output_type": "stream",
     "text": [
      "Saved model to disk\n"
     ]
    }
   ],
   "source": [
    "# save model\n",
    "# serialize model to JSON\n",
    "model_json = model.to_json()\n",
    "\n",
    "with open(\"model55.json\", \"w\") as json_file:\n",
    "    json_file.write(model_json)\n",
    "    \n",
    "# serialize weights to HDF5\n",
    "model.save_weights(\"model55.h5\")\n",
    "print(\"Saved model to disk\")\n",
    "\n",
    "# Clear memory, because of memory overload\n",
    "del model\n"
   ]
  }
 ],
 "metadata": {
  "kernelspec": {
   "display_name": "Python 3",
   "language": "python",
   "name": "python3"
  },
  "language_info": {
   "codemirror_mode": {
    "name": "ipython",
    "version": 3
   },
   "file_extension": ".py",
   "mimetype": "text/x-python",
   "name": "python",
   "nbconvert_exporter": "python",
   "pygments_lexer": "ipython3",
   "version": "3.6.4"
  }
 },
 "nbformat": 4,
 "nbformat_minor": 1
}
